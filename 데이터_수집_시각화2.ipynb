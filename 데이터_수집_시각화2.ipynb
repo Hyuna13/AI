{
  "nbformat": 4,
  "nbformat_minor": 0,
  "metadata": {
    "colab": {
      "name": "데이터 수집/시각화2.ipynb",
      "provenance": [],
      "include_colab_link": true
    },
    "kernelspec": {
      "name": "python3",
      "display_name": "Python 3"
    }
  },
  "cells": [
    {
      "cell_type": "markdown",
      "metadata": {
        "id": "view-in-github",
        "colab_type": "text"
      },
      "source": [
        "<a href=\"https://colab.research.google.com/github/Hyuna13/AI/blob/main/%EB%8D%B0%EC%9D%B4%ED%84%B0_%EC%88%98%EC%A7%91_%EC%8B%9C%EA%B0%81%ED%99%942.ipynb\" target=\"_parent\"><img src=\"https://colab.research.google.com/assets/colab-badge.svg\" alt=\"Open In Colab\"/></a>"
      ]
    },
    {
      "cell_type": "markdown",
      "metadata": {
        "id": "EZ7a9Vx3T7Sa"
      },
      "source": [
        "# 고흐가 그린 붓꽃은 어떤 종류일까?"
      ]
    },
    {
      "cell_type": "markdown",
      "metadata": {
        "id": "EMdTS3vpT_F5"
      },
      "source": [
        "## 05 학습하기 \n",
        "\n"
      ]
    },
    {
      "cell_type": "markdown",
      "metadata": {
        "id": "dKi4lghpUHM1"
      },
      "source": [
        "## 5-1. K-최근접 이웃(K-Nearest Neighbor, K-NN) 알고리즘이란?\n",
        "- 새로운 데이터가 들어왔을 때 특성공간내에 데이터간의 거리가 가까운 데이터를 찾아서 그것의 레이블의 값으로 분류하는 알고리즘 \n",
        "- K : 새로 입력된 데이터를 기준으로 가장 거리가 가까운 데이터의 개수 "
      ]
    },
    {
      "cell_type": "markdown",
      "metadata": {
        "id": "KAlm6YSGUrzD"
      },
      "source": [
        "## 5-2. K-NN 알고리즘을 이용한 붓꽃 분류기 \n",
        "```python\n",
        "def 붓꽃분류기(분류하고 싶은 데이터, 분류된 데이터, K):\n",
        "  1) 분류하고 싶은 데이터와 분류된 데이터 사이의 거리 계산하기\n",
        "  2) 분류하고 싶은 데이터와 가까운 순서대로 나열하기\n",
        "  3) 가장 가까운 K개 데이터 중에서 레이블별 빈도 세기 \n",
        "  4) return K개 데이터 중 최다 빈도의 붓꽃 레이블값 반환하기\n",
        "```\n"
      ]
    },
    {
      "cell_type": "markdown",
      "metadata": {
        "id": "M1FcxM1RVJZQ"
      },
      "source": [
        "## 5-3. 프로그램 작성하기 \n"
      ]
    },
    {
      "cell_type": "markdown",
      "metadata": {
        "id": "sCF6jOL1N3-5"
      },
      "source": [
        "### [Step 1] 붓꽃 데이터를 불러와 출력하기\n",
        "- https://www.kaggle.com/uciml/iris"
      ]
    },
    {
      "cell_type": "code",
      "metadata": {
        "id": "qN7sWCIJPvnb",
        "colab": {
          "resources": {
            "http://localhost:8080/nbextensions/google.colab/files.js": {
              "data": "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",
              "ok": true,
              "headers": [
                [
                  "content-type",
                  "application/javascript"
                ]
              ],
              "status": 200,
              "status_text": ""
            }
          },
          "base_uri": "https://localhost:8080/",
          "height": 73
        },
        "outputId": "cabaa9b1-fa18-4d21-ee09-4deb98078347"
      },
      "source": [
        "# Iris.csv 파일 업로드하기 \n",
        "from google.colab import files\n",
        "\n",
        "uploaded = files.upload()"
      ],
      "execution_count": 1,
      "outputs": [
        {
          "output_type": "display_data",
          "data": {
            "text/html": [
              "\n",
              "     <input type=\"file\" id=\"files-0ffd66a8-353e-4cfb-8976-680aa55fa785\" name=\"files[]\" multiple disabled\n",
              "        style=\"border:none\" />\n",
              "     <output id=\"result-0ffd66a8-353e-4cfb-8976-680aa55fa785\">\n",
              "      Upload widget is only available when the cell has been executed in the\n",
              "      current browser session. Please rerun this cell to enable.\n",
              "      </output>\n",
              "      <script src=\"/nbextensions/google.colab/files.js\"></script> "
            ],
            "text/plain": [
              "<IPython.core.display.HTML object>"
            ]
          },
          "metadata": {
            "tags": []
          }
        },
        {
          "output_type": "stream",
          "text": [
            "Saving Iris.csv to Iris.csv\n"
          ],
          "name": "stdout"
        }
      ]
    },
    {
      "cell_type": "code",
      "metadata": {
        "id": "qerWRaigVvRm",
        "colab": {
          "base_uri": "https://localhost:8080/"
        },
        "outputId": "fdd23c3e-f1b8-4544-9d49-cd0025bdab68"
      },
      "source": [
        "# 데이터 불러오기\n",
        "import pandas as pd\n",
        "\n",
        "# (실습) 붖꽃 파일 불러와 iris 데이터프레임 만들기\n",
        "iris = pd.read_csv('Iris.csv')    \n",
        "\n",
        "# (실습) 처음부터 5개까지 데이터 출력하기\n",
        "print(  iris.head(5)  )"
      ],
      "execution_count": 2,
      "outputs": [
        {
          "output_type": "stream",
          "text": [
            "   Id  SepalLengthCm  SepalWidthCm  PetalLengthCm  PetalWidthCm      Species\n",
            "0   1            5.1           3.5            1.4           0.2  Iris-setosa\n",
            "1   2            4.9           3.0            1.4           0.2  Iris-setosa\n",
            "2   3            4.7           3.2            1.3           0.2  Iris-setosa\n",
            "3   4            4.6           3.1            1.5           0.2  Iris-setosa\n",
            "4   5            5.0           3.6            1.4           0.2  Iris-setosa\n"
          ],
          "name": "stdout"
        }
      ]
    },
    {
      "cell_type": "markdown",
      "metadata": {
        "id": "-nEecsfrV53s"
      },
      "source": [
        "### [Step 2] 150개 데이터의 특성 데이터와 종류 데이터를 나누어 저장하기 \n",
        "- 붓꽃 특성 :features 저장\n",
        "  - 꽃받침 길이 : SepalLengthCm (1번 인덱스)\n",
        "  - 꽃받침 너비 : SepalWidthCm (2번 인덱스)\n",
        "  - 꽃잎 길이 : PetalLengthCm (3번 인덱스)\n",
        "  - 꽃잎 너비 : PetalWidthCm (4번 인덱스)\n",
        "\n",
        "- 붓꽃 종류 : target_value 저장\n",
        "  - 꽃 종류 : Species (5번 인덱스)\n",
        "    - Iris 종류 : Iris-setosa, Iris-versicolor, Iris-virginica"
      ]
    },
    {
      "cell_type": "code",
      "metadata": {
        "id": "9n3cWJyNWCFk",
        "colab": {
          "base_uri": "https://localhost:8080/"
        },
        "outputId": "aa6b4e27-07ad-4af2-d43f-d2f6a23791b8"
      },
      "source": [
        "# 150개 데이터의 특성 데이터(features)와 종류 데이터(target_value)를 나누어 저장하기\n",
        "# (실습) numpy 불러오기\n",
        "import numpy as np\n",
        "\n",
        "# 계산의 편의를 위해 데이터셋의 형식을 numpy로 변환\n",
        "# (실습) iris 데이터프레임을 넘파이 배열로 변경하기 \n",
        "xy = np.array(iris)\n",
        "\n",
        "# (실습) 배열의 1~4번 인덱스 데이터를 features 배열에 저장\n",
        "features = xy[:, 1:5]\n",
        "print(features)\n",
        "\n",
        "# (실습) 배열의 마지막 인덱스의 데이터 target_value 배열에 저장\n",
        "target_value = xy[:, -1]\n",
        "print(target_value)"
      ],
      "execution_count": 3,
      "outputs": [
        {
          "output_type": "stream",
          "text": [
            "[[5.1 3.5 1.4 0.2]\n",
            " [4.9 3.0 1.4 0.2]\n",
            " [4.7 3.2 1.3 0.2]\n",
            " [4.6 3.1 1.5 0.2]\n",
            " [5.0 3.6 1.4 0.2]\n",
            " [5.4 3.9 1.7 0.4]\n",
            " [4.6 3.4 1.4 0.3]\n",
            " [5.0 3.4 1.5 0.2]\n",
            " [4.4 2.9 1.4 0.2]\n",
            " [4.9 3.1 1.5 0.1]\n",
            " [5.4 3.7 1.5 0.2]\n",
            " [4.8 3.4 1.6 0.2]\n",
            " [4.8 3.0 1.4 0.1]\n",
            " [4.3 3.0 1.1 0.1]\n",
            " [5.8 4.0 1.2 0.2]\n",
            " [5.7 4.4 1.5 0.4]\n",
            " [5.4 3.9 1.3 0.4]\n",
            " [5.1 3.5 1.4 0.3]\n",
            " [5.7 3.8 1.7 0.3]\n",
            " [5.1 3.8 1.5 0.3]\n",
            " [5.4 3.4 1.7 0.2]\n",
            " [5.1 3.7 1.5 0.4]\n",
            " [4.6 3.6 1.0 0.2]\n",
            " [5.1 3.3 1.7 0.5]\n",
            " [4.8 3.4 1.9 0.2]\n",
            " [5.0 3.0 1.6 0.2]\n",
            " [5.0 3.4 1.6 0.4]\n",
            " [5.2 3.5 1.5 0.2]\n",
            " [5.2 3.4 1.4 0.2]\n",
            " [4.7 3.2 1.6 0.2]\n",
            " [4.8 3.1 1.6 0.2]\n",
            " [5.4 3.4 1.5 0.4]\n",
            " [5.2 4.1 1.5 0.1]\n",
            " [5.5 4.2 1.4 0.2]\n",
            " [4.9 3.1 1.5 0.1]\n",
            " [5.0 3.2 1.2 0.2]\n",
            " [5.5 3.5 1.3 0.2]\n",
            " [4.9 3.1 1.5 0.1]\n",
            " [4.4 3.0 1.3 0.2]\n",
            " [5.1 3.4 1.5 0.2]\n",
            " [5.0 3.5 1.3 0.3]\n",
            " [4.5 2.3 1.3 0.3]\n",
            " [4.4 3.2 1.3 0.2]\n",
            " [5.0 3.5 1.6 0.6]\n",
            " [5.1 3.8 1.9 0.4]\n",
            " [4.8 3.0 1.4 0.3]\n",
            " [5.1 3.8 1.6 0.2]\n",
            " [4.6 3.2 1.4 0.2]\n",
            " [5.3 3.7 1.5 0.2]\n",
            " [5.0 3.3 1.4 0.2]\n",
            " [7.0 3.2 4.7 1.4]\n",
            " [6.4 3.2 4.5 1.5]\n",
            " [6.9 3.1 4.9 1.5]\n",
            " [5.5 2.3 4.0 1.3]\n",
            " [6.5 2.8 4.6 1.5]\n",
            " [5.7 2.8 4.5 1.3]\n",
            " [6.3 3.3 4.7 1.6]\n",
            " [4.9 2.4 3.3 1.0]\n",
            " [6.6 2.9 4.6 1.3]\n",
            " [5.2 2.7 3.9 1.4]\n",
            " [5.0 2.0 3.5 1.0]\n",
            " [5.9 3.0 4.2 1.5]\n",
            " [6.0 2.2 4.0 1.0]\n",
            " [6.1 2.9 4.7 1.4]\n",
            " [5.6 2.9 3.6 1.3]\n",
            " [6.7 3.1 4.4 1.4]\n",
            " [5.6 3.0 4.5 1.5]\n",
            " [5.8 2.7 4.1 1.0]\n",
            " [6.2 2.2 4.5 1.5]\n",
            " [5.6 2.5 3.9 1.1]\n",
            " [5.9 3.2 4.8 1.8]\n",
            " [6.1 2.8 4.0 1.3]\n",
            " [6.3 2.5 4.9 1.5]\n",
            " [6.1 2.8 4.7 1.2]\n",
            " [6.4 2.9 4.3 1.3]\n",
            " [6.6 3.0 4.4 1.4]\n",
            " [6.8 2.8 4.8 1.4]\n",
            " [6.7 3.0 5.0 1.7]\n",
            " [6.0 2.9 4.5 1.5]\n",
            " [5.7 2.6 3.5 1.0]\n",
            " [5.5 2.4 3.8 1.1]\n",
            " [5.5 2.4 3.7 1.0]\n",
            " [5.8 2.7 3.9 1.2]\n",
            " [6.0 2.7 5.1 1.6]\n",
            " [5.4 3.0 4.5 1.5]\n",
            " [6.0 3.4 4.5 1.6]\n",
            " [6.7 3.1 4.7 1.5]\n",
            " [6.3 2.3 4.4 1.3]\n",
            " [5.6 3.0 4.1 1.3]\n",
            " [5.5 2.5 4.0 1.3]\n",
            " [5.5 2.6 4.4 1.2]\n",
            " [6.1 3.0 4.6 1.4]\n",
            " [5.8 2.6 4.0 1.2]\n",
            " [5.0 2.3 3.3 1.0]\n",
            " [5.6 2.7 4.2 1.3]\n",
            " [5.7 3.0 4.2 1.2]\n",
            " [5.7 2.9 4.2 1.3]\n",
            " [6.2 2.9 4.3 1.3]\n",
            " [5.1 2.5 3.0 1.1]\n",
            " [5.7 2.8 4.1 1.3]\n",
            " [6.3 3.3 6.0 2.5]\n",
            " [5.8 2.7 5.1 1.9]\n",
            " [7.1 3.0 5.9 2.1]\n",
            " [6.3 2.9 5.6 1.8]\n",
            " [6.5 3.0 5.8 2.2]\n",
            " [7.6 3.0 6.6 2.1]\n",
            " [4.9 2.5 4.5 1.7]\n",
            " [7.3 2.9 6.3 1.8]\n",
            " [6.7 2.5 5.8 1.8]\n",
            " [7.2 3.6 6.1 2.5]\n",
            " [6.5 3.2 5.1 2.0]\n",
            " [6.4 2.7 5.3 1.9]\n",
            " [6.8 3.0 5.5 2.1]\n",
            " [5.7 2.5 5.0 2.0]\n",
            " [5.8 2.8 5.1 2.4]\n",
            " [6.4 3.2 5.3 2.3]\n",
            " [6.5 3.0 5.5 1.8]\n",
            " [7.7 3.8 6.7 2.2]\n",
            " [7.7 2.6 6.9 2.3]\n",
            " [6.0 2.2 5.0 1.5]\n",
            " [6.9 3.2 5.7 2.3]\n",
            " [5.6 2.8 4.9 2.0]\n",
            " [7.7 2.8 6.7 2.0]\n",
            " [6.3 2.7 4.9 1.8]\n",
            " [6.7 3.3 5.7 2.1]\n",
            " [7.2 3.2 6.0 1.8]\n",
            " [6.2 2.8 4.8 1.8]\n",
            " [6.1 3.0 4.9 1.8]\n",
            " [6.4 2.8 5.6 2.1]\n",
            " [7.2 3.0 5.8 1.6]\n",
            " [7.4 2.8 6.1 1.9]\n",
            " [7.9 3.8 6.4 2.0]\n",
            " [6.4 2.8 5.6 2.2]\n",
            " [6.3 2.8 5.1 1.5]\n",
            " [6.1 2.6 5.6 1.4]\n",
            " [7.7 3.0 6.1 2.3]\n",
            " [6.3 3.4 5.6 2.4]\n",
            " [6.4 3.1 5.5 1.8]\n",
            " [6.0 3.0 4.8 1.8]\n",
            " [6.9 3.1 5.4 2.1]\n",
            " [6.7 3.1 5.6 2.4]\n",
            " [6.9 3.1 5.1 2.3]\n",
            " [5.8 2.7 5.1 1.9]\n",
            " [6.8 3.2 5.9 2.3]\n",
            " [6.7 3.3 5.7 2.5]\n",
            " [6.7 3.0 5.2 2.3]\n",
            " [6.3 2.5 5.0 1.9]\n",
            " [6.5 3.0 5.2 2.0]\n",
            " [6.2 3.4 5.4 2.3]\n",
            " [5.9 3.0 5.1 1.8]]\n",
            "['Iris-setosa' 'Iris-setosa' 'Iris-setosa' 'Iris-setosa' 'Iris-setosa'\n",
            " 'Iris-setosa' 'Iris-setosa' 'Iris-setosa' 'Iris-setosa' 'Iris-setosa'\n",
            " 'Iris-setosa' 'Iris-setosa' 'Iris-setosa' 'Iris-setosa' 'Iris-setosa'\n",
            " 'Iris-setosa' 'Iris-setosa' 'Iris-setosa' 'Iris-setosa' 'Iris-setosa'\n",
            " 'Iris-setosa' 'Iris-setosa' 'Iris-setosa' 'Iris-setosa' 'Iris-setosa'\n",
            " 'Iris-setosa' 'Iris-setosa' 'Iris-setosa' 'Iris-setosa' 'Iris-setosa'\n",
            " 'Iris-setosa' 'Iris-setosa' 'Iris-setosa' 'Iris-setosa' 'Iris-setosa'\n",
            " 'Iris-setosa' 'Iris-setosa' 'Iris-setosa' 'Iris-setosa' 'Iris-setosa'\n",
            " 'Iris-setosa' 'Iris-setosa' 'Iris-setosa' 'Iris-setosa' 'Iris-setosa'\n",
            " 'Iris-setosa' 'Iris-setosa' 'Iris-setosa' 'Iris-setosa' 'Iris-setosa'\n",
            " 'Iris-versicolor' 'Iris-versicolor' 'Iris-versicolor' 'Iris-versicolor'\n",
            " 'Iris-versicolor' 'Iris-versicolor' 'Iris-versicolor' 'Iris-versicolor'\n",
            " 'Iris-versicolor' 'Iris-versicolor' 'Iris-versicolor' 'Iris-versicolor'\n",
            " 'Iris-versicolor' 'Iris-versicolor' 'Iris-versicolor' 'Iris-versicolor'\n",
            " 'Iris-versicolor' 'Iris-versicolor' 'Iris-versicolor' 'Iris-versicolor'\n",
            " 'Iris-versicolor' 'Iris-versicolor' 'Iris-versicolor' 'Iris-versicolor'\n",
            " 'Iris-versicolor' 'Iris-versicolor' 'Iris-versicolor' 'Iris-versicolor'\n",
            " 'Iris-versicolor' 'Iris-versicolor' 'Iris-versicolor' 'Iris-versicolor'\n",
            " 'Iris-versicolor' 'Iris-versicolor' 'Iris-versicolor' 'Iris-versicolor'\n",
            " 'Iris-versicolor' 'Iris-versicolor' 'Iris-versicolor' 'Iris-versicolor'\n",
            " 'Iris-versicolor' 'Iris-versicolor' 'Iris-versicolor' 'Iris-versicolor'\n",
            " 'Iris-versicolor' 'Iris-versicolor' 'Iris-versicolor' 'Iris-versicolor'\n",
            " 'Iris-versicolor' 'Iris-versicolor' 'Iris-virginica' 'Iris-virginica'\n",
            " 'Iris-virginica' 'Iris-virginica' 'Iris-virginica' 'Iris-virginica'\n",
            " 'Iris-virginica' 'Iris-virginica' 'Iris-virginica' 'Iris-virginica'\n",
            " 'Iris-virginica' 'Iris-virginica' 'Iris-virginica' 'Iris-virginica'\n",
            " 'Iris-virginica' 'Iris-virginica' 'Iris-virginica' 'Iris-virginica'\n",
            " 'Iris-virginica' 'Iris-virginica' 'Iris-virginica' 'Iris-virginica'\n",
            " 'Iris-virginica' 'Iris-virginica' 'Iris-virginica' 'Iris-virginica'\n",
            " 'Iris-virginica' 'Iris-virginica' 'Iris-virginica' 'Iris-virginica'\n",
            " 'Iris-virginica' 'Iris-virginica' 'Iris-virginica' 'Iris-virginica'\n",
            " 'Iris-virginica' 'Iris-virginica' 'Iris-virginica' 'Iris-virginica'\n",
            " 'Iris-virginica' 'Iris-virginica' 'Iris-virginica' 'Iris-virginica'\n",
            " 'Iris-virginica' 'Iris-virginica' 'Iris-virginica' 'Iris-virginica'\n",
            " 'Iris-virginica' 'Iris-virginica' 'Iris-virginica' 'Iris-virginica']\n"
          ],
          "name": "stdout"
        }
      ]
    },
    {
      "cell_type": "markdown",
      "metadata": {
        "id": "PHR-bT-XWUEB"
      },
      "source": [
        "###[Step 3] 유클리드 거리법을 이용하여 두 데이터간의 거리를 구하는 함수 선언하기\n",
        "- 유클리디안 거리 계산함수 만들기 \n",
        "\n",
        "   $ Distance(A, B) = \\sqrt{(A - B)^2} $\n",
        "\n",
        "   $ ex) A(x_1, y_1), B(x_2, y_2)$ <br>\n",
        "   - $ Distance(A,B) = \\sqrt{{(x_2 - x_1)^2} + {(y_2 - y_1)^2}}$"
      ]
    },
    {
      "cell_type": "code",
      "metadata": {
        "id": "3DlPHBABWYkc"
      },
      "source": [
        "# (실습) Distance 함수 만들기\n",
        "def Distance(A, B): \n",
        "    return np.sqrt(np.sum(np.power((A-B), 2)))"
      ],
      "execution_count": 6,
      "outputs": []
    },
    {
      "cell_type": "markdown",
      "metadata": {
        "id": "IZz--FcUwpVN"
      },
      "source": [
        "- [Tip] 유클리디안 거리 계산함수 예"
      ]
    },
    {
      "cell_type": "code",
      "metadata": {
        "id": "RD506lCDW2Y4",
        "colab": {
          "base_uri": "https://localhost:8080/"
        },
        "outputId": "fa016154-2b38-4579-94b0-f7af234e56bc"
      },
      "source": [
        "import numpy as np\n",
        "\n",
        "# 두 점 A(1, 2)와 B(5, 7) 선언\n",
        "A = np.array([1, 2])\n",
        "B = np.array([5, 7])\n",
        "\n",
        "# 두 점 사이의 거리를 계산하여 변수 distance에 저장하기 \n",
        "#distance = np.sqrt(np.sum(np.power((A-B), 2)))\n",
        "distance = Distance(A, B)\n",
        "print(distance)\n",
        "\n",
        "# 변수 distance에 저장된 값을 소수점 셋째자리에서 반올림하기 \n",
        "distance = round(distance, 2)\n",
        "\n",
        "# 계산결과 출력하기 \n",
        "print(\"두 점 A(1, 2)와 B(5, 7) 사이의 거리는 {0} 입니다.\".format(distance))"
      ],
      "execution_count": 7,
      "outputs": [
        {
          "output_type": "stream",
          "text": [
            "6.4031242374328485\n",
            "두 점 A(1, 2)와 B(5, 7) 사이의 거리는 6.4 입니다.\n"
          ],
          "name": "stdout"
        }
      ]
    },
    {
      "cell_type": "markdown",
      "metadata": {
        "id": "NSny0tuzX4WJ"
      },
      "source": [
        "[Step 4] 붓꽃 분류 작성하기 "
      ]
    },
    {
      "cell_type": "markdown",
      "metadata": {
        "id": "1IqnXWJLF1qi"
      },
      "source": [
        "\n",
        "\n",
        "```python\n",
        "def 붓꽃분류기(분류하고 싶은 데이터, 분류된 데이터, K):\n",
        "  1) 분류하고 싶은 데이터와 분류된 데이터 사이의 거리 계산하기\n",
        "  2) 분류하고 싶은 데이터와 가까운 순서대로 나열하기\n",
        "  3) 가장 가까운 K개 데이터 중에서 레이블별 빈도 세기 \n",
        "  4) return K개 데이터 중 최다 빈도의 붓꽃 레이블값 반환하기\n",
        "```\n",
        "\n",
        "  - Unknown : 분류하고 싶은 데이터\n",
        "  - features : 분류된 데이터(붓꽃 특성 데이터)\n",
        "  - target_value : 붓꽃 종류\n",
        "\n",
        "#### **< 아이리스 붓꽃 분류기 만들기 >**   \n",
        "**① 거리 구하기**\n",
        "```\n",
        " distance = [4.16, ….0.27, ….0.3, …. 0.26]\n",
        " ```\n",
        "**② 거리가 작은 순으로 인덱스 저장하기(index)**\n",
        "```\n",
        "  index = [149, 127, 139 … …. ]\n",
        "```\n",
        "**③ 거리가 가장 가까운 곳의 붓꽃 종류 추가**\n",
        "  - target_value : 붓꽃 종류가 들어있는 배열 \n",
        "  - result : target_result에 붓꽃 종류가 들어오면 각 인덱스 위치값을 하나씩 증가하기 (0번 : Iris-setosa, 1번 : Iris-versicolor, 2번 : Iris-virginica)\n",
        "```\n",
        "target_value[index[0]]  > Iris-virginica > result[2] +=1\n",
        "target_value[index[1]] > Iris-virginica > result[2] +=1\n",
        "target_value[index[2]] > Iris-virginica > result[2] +=1\n",
        "```\n"
      ]
    },
    {
      "cell_type": "code",
      "metadata": {
        "id": "AF6U7JXvF1qk"
      },
      "source": [
        "# 붓꽃 분류기 함수 K_NN(기준이 될 데이터, 붓꽃 특성 데이터, K) 작성하기\n",
        "# Unknown(분류하고 싶은 데이터), features(분류된 데이터, 붓꽃 특성 데이터), K(가장 가까운 데이터 갯수)\n",
        "\n",
        "def K_NN(Unknown,features,K):\n",
        "    # ①_데이터간의 거리 계산\n",
        "    # distance_result(유클리디안 거리 계산 결과 저장할 데이터)\n",
        "    distance_result = np.zeros(150) \n",
        "    for i in  range(150):\n",
        "      # (실습) 유클리디안 거리 구해서 저장하기\n",
        "        distance_result[i]= Distance(Unknown, features[i])\n",
        "    print(\"distance_result : \",distance_result)\n",
        "\n",
        "    # ②_분류하려는 데이터와 가까운 순서대로 나열 : 작은값부터 순서대로 데이터의 인덱스 반환해줌(0 : 가장 작은 값) \n",
        "    # (실습) 계산된 거리값이 증가하는 순으로 인덱스가 정렬됨 : index(거리가 가장 작은 값 순으로 인덱스를 저장한 배열)\n",
        "    index = distance_result.argsort()\n",
        "    print(\"index = \", index)   # 가장 작은 값의 인덱스가 149임 \n",
        "    \n",
        "    # ③_K개 데이터의 레이블(붓꽃)을 저장할 target_result 선언 \n",
        "    # target_result : 거리가 가장 가까운 곳의 붓꽃 종류를 추가하는 배열 \n",
        "    # result(target_result에 붓꽃 종류가 들어오면 각 인덱스위치값을 하나씩 증가하기) - (예) setosa이면 0번 인덱스 1씩 증가\n",
        "    target_result = []\n",
        "    result=[0,0,0]   # 0번 : Iris-setosa, 1번 : Iris-versicolor, 2번 : Iris-virginica\n",
        "    # K = 3이면 i : 0~2\n",
        "    for i in range(K):\n",
        "      # index[0] : 거리가 가장 가까운 곳의 인덱스 반환 / target_result(거리가 가장 가까운 곳의 붓꽃 종류 추가)\n",
        "      # (실습)거리가 가장 가까운 곳의 붓꽃 종류 추가\n",
        "        target_result.append(    target_value[index[i]]     )\n",
        "        if target_result[i]=='Iris-setosa':\n",
        "           result[0]+=1\n",
        "        elif target_result[i]=='Iris-versicolor':\n",
        "             result[1]+=1\n",
        "        else:\n",
        "             result[2]+=1\n",
        "    print(\"target_result\", target_result)\n",
        "    # ④_레이블의 빈도가 가장 높은 값 반환\n",
        "    # (실습) result에 있는 값중 가장 큰 값의 인덱스를 max_result에 저장함 \n",
        "    max_label=result.index(max(result))\n",
        "    species = {0:\"setosa\", 1:\"versicolor\", 2:\"virginica\"}\n",
        "    species_result = species[max_label]\n",
        "    return species_result"
      ],
      "execution_count": 11,
      "outputs": []
    },
    {
      "cell_type": "markdown",
      "metadata": {
        "id": "Oy47W72MaD-b"
      },
      "source": [
        "###[Step 5] 붓꽃 분류 함수를 사용하여 가상의 데이터 분류하기 \n",
        "- Iris.csv 파일의 150개 붓꽃 데이터 중 마지막 150번째 데이터와 150번째 데이터와 유사한 가상의 데이터를 만들어서 분류결과 확인하기 \n",
        "```\n",
        "<test_1>\n",
        "Id\tSepalLengthCm\tSepalWidthCm\tPetalLengthCm\tPetalWidthCm\tSpecies\n",
        "149\t     6.2\t         3.4\t         5.4\t         2.3\t    Iris-virginica\n",
        "<test_2>\n",
        "SepalLengthCm    SepalWidthCm    PetalLengthCm    PetalWidthCm\n",
        "6                     2.9             5                2\n",
        "```\n",
        "\n"
      ]
    },
    {
      "cell_type": "code",
      "metadata": {
        "id": "RJIbbfsnaJ5D",
        "colab": {
          "base_uri": "https://localhost:8080/"
        },
        "outputId": "17707f57-c41e-44fa-ca44-2d7e61c0b44b"
      },
      "source": [
        "# (실습) 마지막 150번째 데이터(features 인덱스 번호 : 149)\n",
        "test_1 = features[149]\n",
        "\n",
        "# (실습) 150번째와 유사한 가상의 데이터 \n",
        "test_2 = np.array([6, 2.9, 5, 2])\n",
        "\n",
        "# (실습) K_NN 분류 함수를 이용하여 분류하기(K=5)\n",
        "result_1 = K_NN(test_1, features, 5)\n",
        "result_2 = K_NN(test_2, features, 5)\n",
        "\n",
        "# 결과 출력\n",
        "print(\"실제 데이터를 분류한 결과 : {}\".format(result_1))\n",
        "print(\"가상 데이터를 분류한 결과 : {}\".format(result_2))"
      ],
      "execution_count": 12,
      "outputs": [
        {
          "output_type": "stream",
          "text": [
            "distance_result :  [4.14004831 4.15331193 4.29883705 4.14969878 4.17372735 3.81837662\n",
            " 4.21781934 4.0607881  4.30232495 4.10609303 4.03236903 4.02243707\n",
            " 4.21781934 4.63141447 4.33358974 4.11339276 4.17851648 4.1024383\n",
            " 3.80657326 4.0607881  3.81182371 4.00624512 4.62817459 3.73898382\n",
            " 3.76430604 3.95221457 3.89615195 4.03236903 4.11096096 4.03608721\n",
            " 4.00374824 3.91535439 4.18927201 4.22492603 4.10609303 4.3150898\n",
            " 4.17252921 4.10609303 4.38748219 4.03980198 4.21307489 4.37492857\n",
            " 4.39203825 3.84057287 3.67151195 4.14125585 4.01123422 4.24028301\n",
            " 4.04598566 4.14125585 1.25299641 0.86023253 1.06770783 1.4525839\n",
            " 0.86023253 0.83066239 0.67082039 2.28910463 1.         1.47648231\n",
            " 2.23830293 0.9486833  1.58113883 0.60827625 1.61245155 1.14017543\n",
            " 0.73484692 1.3190906  1.08627805 1.50665192 0.36055513 1.24096736\n",
            " 0.73484692 0.77459667 1.07238053 1.06770783 1.04880885 0.81240384\n",
            " 0.68556546 1.84390889 1.64316767 1.76635217 1.37840488 0.37416574\n",
            " 0.83666003 0.75498344 0.9486833  1.17898261 1.15758369 1.36747943\n",
            " 1.08166538 0.67082039 1.3190906  2.27596134 1.11355287 1.1\n",
            " 1.05356538 0.99498744 2.40624188 1.15325626 1.24498996 0.33166248\n",
            " 1.47309199 0.64807407 1.00498756 2.28691933 1.27279221 1.84661853\n",
            " 1.17473401 1.88148877 0.66332496 0.6244998  1.02956301 0.58309519\n",
            " 0.64031242 0.76157731 0.72111026 2.56904652 2.62488095 0.8660254\n",
            " 1.28452326 0.45825757 2.42487113 0.53851648 1.08627805 1.59373775\n",
            " 0.46904158 0.28284271 0.79372539 1.48996644 1.81659021 2.52388589\n",
            " 0.83666003 0.53851648 0.78102497 2.11896201 0.96436508 0.64807407\n",
            " 0.31622777 1.09087121 1.12249722 1.12249722 0.33166248 1.3190906\n",
            " 1.25698051 0.9486833  0.65574385 0.64031242 0.76811457 0.        ]\n",
            "index =  [149 127 138 142 101  70  83 121 126 123 133 113  63 111 147 114 103 137\n",
            " 146 110  56  91  78 116  72  66  85 115 148  73 134 128  77  55  84 132\n",
            "  51  54 119  61  86 145 136  97  58 104 112  76  96  75  52  74  90  68\n",
            " 124 139  95  94 140 141  65  99  88 108  87  71 100  50 144 106 120 143\n",
            "  92  67  89  82  53 102  59 129  69  62 125  64  80  81 130  79 107 109\n",
            " 135  60  93 105  57  98 122 131 117 118  44  23  24  18  20   5  43  26\n",
            "  31  25  30  21  46  11  10  27  29  39  48  19   7  17   9  34  37  28\n",
            "  15   0  49  45   3   1  36   4  16  32  40   6  12  33  47   2   8  35\n",
            "  14  41  38  42  22  13]\n",
            "target_result ['Iris-virginica', 'Iris-virginica', 'Iris-virginica', 'Iris-virginica', 'Iris-virginica']\n",
            "distance_result :  [4.1677332  4.17372735 4.32550575 4.18210473 4.20594817 3.84837628\n",
            " 4.24970587 4.09145451 4.33128157 4.13642358 4.0607881  4.0607881\n",
            " 4.24499706 4.66047208 4.35086198 4.14125585 4.19642705 4.12553027\n",
            " 3.83144881 4.0938979  3.83927076 4.03236903 4.65725241 3.75632799\n",
            " 3.81313519 3.97617907 3.92045916 4.0607881  4.13400532 4.07185461\n",
            " 4.0348482  3.92683078 4.23556372 4.25910789 4.13642358 4.3324358\n",
            " 4.18807832 4.13642358 4.41588043 4.06816912 4.23556372 4.38063922\n",
            " 4.42492938 3.8574603  3.71348893 4.15932687 4.05215992 4.27200187\n",
            " 4.07676342 4.16653333 1.24096736 0.8660254  1.05356538 1.44913767\n",
            " 0.81853528 0.91651514 0.70710678 2.3130067  1.00498756 1.5\n",
            " 2.24944438 0.9539392  1.57797338 0.678233   1.61554944 1.11803399\n",
            " 0.81853528 1.37477271 1.01488916 1.52970585 0.42426407 1.22882057\n",
            " 0.71414284 0.8660254  1.06770783 1.04403065 1.02469508 0.76811457\n",
            " 0.70710678 1.85202592 1.6583124  1.78605711 1.3892444  0.45825757\n",
            " 0.93273791 0.81240384 0.93273791 1.14017543 1.21243557 1.37840488\n",
            " 1.15758369 0.73484692 1.33041347 2.29128785 1.15325626 1.17473401\n",
            " 1.1045361  1.00995049 2.40416306 1.18321596 1.22474487 0.31622777\n",
            " 1.42828569 0.7        0.96953597 2.26715681 1.30766968 1.8493242\n",
            " 1.15325626 1.84119526 0.59160798 0.54772256 0.9539392  0.5\n",
            " 0.46904158 0.65574385 0.74161985 2.57487864 2.5845696  0.86023253\n",
            " 1.21655251 0.42426407 2.40624188 0.42426407 1.07238053 1.60312195\n",
            " 0.36055513 0.26457513 0.73484692 1.5        1.78605711 2.52586619\n",
            " 0.75498344 0.6        0.90553851 2.04939015 0.92736185 0.7\n",
            " 0.3        1.00995049 1.02469508 0.97467943 0.31622777 1.27671453\n",
            " 1.17898261 0.79372539 0.50990195 0.54772256 0.73484692 0.26457513]\n",
            "index =  [149 127 138 142 101 126 123  70 121  83 114 113 146 147 111 110 133 115\n",
            "  63 103 137  56  78  72 128  91 148 116 132  77 145  85  66  54 119  73\n",
            "  51 134  55 136  84  86  61 112 104 141  58  97 139  68  76 140  75  52\n",
            "  74 124  96  65  87 108  94  90  95 144  99  88 120 100  71  50 143 106\n",
            "  92  67  89  82 102  53  59 129  69  62 125  64  80  81 130 109 107  79\n",
            " 135  60 105  93  57  98 122 131 117 118  44  23  24  18  20   5  43  26\n",
            "  31  25  21  30  46  10  11  27  39  29  48   7  19  17  28   9  37  34\n",
            "  15  45  49   0   1   3  36  16   4  40  32  12   6  33  47   2   8  35\n",
            "  14  41  38  42  22  13]\n",
            "target_result ['Iris-virginica', 'Iris-virginica', 'Iris-virginica', 'Iris-virginica', 'Iris-virginica']\n",
            "실제 데이터를 분류한 결과 : virginica\n",
            "가상 데이터를 분류한 결과 : virginica\n"
          ],
          "name": "stdout"
        }
      ]
    },
    {
      "cell_type": "markdown",
      "metadata": {
        "id": "CQcGFNW0cSmr"
      },
      "source": [
        "###[Step 6] 고흐가 그린 붓꽃 그림의 데이터 분류하기 \n",
        "- 고흐 붓꽃 그림의 실제 크기 : 가로 93cm, 세로 71cm\n",
        "\n",
        "\\begin{array}{c|c|c|c}\n",
        "\\text{Id}&\\text{SepalLength}&\\text{SepalWidth}&\\text{PetalLength}&\\text{PetalWidth}\\\\\\hline\n",
        "1&2.7&2.4&1.65&0.67\\\\\n",
        "2&5.84&5.48&3&2.16\\\\\n",
        "3&3.97&4.01&1.7&0.67\n",
        "\\end{array}\n"
      ]
    },
    {
      "cell_type": "code",
      "metadata": {
        "id": "vrQGvz4ad-Rd",
        "colab": {
          "base_uri": "https://localhost:8080/"
        },
        "outputId": "56cb27a6-8219-4a95-f1bb-a7ec28ee0039"
      },
      "source": [
        "# 그림에서 수집한 데이터\n",
        "ID_1 = np.array([2.7, 2.4, 1.65, 0.67])\n",
        "ID_2 = np.array([5.84, 5.48, 3, 2.16])\n",
        "ID_3 = np.array([3.97, 4.01, 1.7, 0.67])\n",
        "\n",
        "\n",
        "# (실습) K_NN 분류기 함수를 이용하여 분류하기\n",
        "result_1= K_NN(ID_1, features, 3)\n",
        "result_2= K_NN(ID_2, features, 3)\n",
        "result_3= K_NN(ID_3, features, 3)\n",
        "\n",
        "# 분류 결과 출력하기\n",
        "print(result_1,result_2,result_3)"
      ],
      "execution_count": 13,
      "outputs": [
        {
          "output_type": "stream",
          "text": [
            "distance_result :  [2.69321369 2.34166607 2.23235302 2.08408253 2.64828246 3.10087085\n",
            " 2.19303443 2.55605164 1.85024323 2.38272953 3.0370051  2.37347846\n",
            " 2.27099097 1.88345427 3.54871808 3.61875669 3.12016025 2.67757353\n",
            " 3.3315762  2.8070269  2.91777312 2.74688915 2.38608466 2.56931898\n",
            " 2.38608466 2.42350985 2.52297444 2.77549995 2.74470399 2.20531177\n",
            " 2.26349288 2.89575551 3.08016233 3.37096425 2.38272953 2.52059517\n",
            " 3.06486541 2.38272953 1.89562655 2.64639377 2.59988461 1.87333926\n",
            " 1.96809553 2.5509606  2.80274865 2.22921511 2.8184038  2.12917825\n",
            " 2.94845722 2.52653913 5.38195132 4.8105509  5.42046123 3.71071422\n",
            " 4.89810167 4.20468786 4.89258623 2.76972923 4.95574414 3.45476483\n",
            " 2.9968984  4.2179853  4.06957    4.65246171 3.58600056 4.95836667\n",
            " 4.19301801 3.97635511 4.59362602 3.69694468 4.69887221 4.19992857\n",
            " 4.92152415 4.61556064 4.62162309 4.86470965 5.23692658 5.35195291\n",
            " 4.466699   3.54561701 3.55631832 3.48588583 3.87858222 4.87313041\n",
            " 4.05726509 4.56917936 5.14600816 4.57486612 3.89479139 3.71071422\n",
            " 3.96527427 4.59949997 3.93108128 2.85156098 3.92420693 4.01788502\n",
            " 4.01863161 4.4631155  2.78879902 3.94454053 6.00344901 4.80784775\n",
            " 6.31089534 5.48538057 5.86203036 7.13564293 3.74611799 6.65653063\n",
            " 5.87447019 6.69637215 5.3620332  5.34933641 5.83415804 4.690565\n",
            " 4.96642729 5.50539735 5.55872287 7.40293185 7.43366666 4.77926773\n",
            " 6.11059735 4.5718049  7.24095298 4.98892774 5.9377942  6.4101014\n",
            " 4.8589505  4.8743615  5.61225445 6.22072343 6.60040908 7.30283507\n",
            " 5.63856365 5.07064099 5.26644092 6.91515727 5.70573396 5.50267208\n",
            " 4.73807978 5.85127337 5.923293   5.71746447 4.80784775 6.17813888\n",
            " 6.04660235 5.62311302 5.07004931 5.40105545 5.47443148 4.87641262]\n",
            "index =  [  8  41  13  38  42   3  47   6  29  45   2  30  12   1  11  34  37   9\n",
            "  22  24  25  35  26  49  43   7  23  40  39   4  17   0  28  21  57  27\n",
            "  98  44  19  46  93  31  20  48  60  10  36  32   5  16  18  33  59  81\n",
            "  79  14  80  64  15  69  53  89 106  82  88  94  92  99  90  67  95  96\n",
            "  84  62  66  71  55  61  97  78  85 121  87  68  91  73  74  63 113  70\n",
            " 138 119 142 101  51 126  75  83 127 149  56  54  72  58  65 114 123 146\n",
            " 133  86  76 134 111  77 110  50 147  52 148 103 137 115 116 128 145 132\n",
            " 136 141 112 139 104 108 140 124 100 144 120 143 129 102 125 130 107 109\n",
            " 135 105 122 131 117 118]\n",
            "target_result ['Iris-setosa', 'Iris-setosa', 'Iris-setosa']\n",
            "distance_result :  [3.29690764 3.66546041 3.63725171 3.64603895 3.26214653 2.73452007\n",
            " 3.44725978 3.33520614 3.88993573 3.61131555 3.07467071 3.34807407\n",
            " 3.74641162 4.04667765 3.04525861 2.55609077 2.94577664 3.23845642\n",
            " 2.82694181 3.01323746 3.17042584 3.01058134 3.59354978 3.12179436\n",
            " 3.23413049 3.5577521  3.17641307 3.2282503  3.3373043  3.50707856\n",
            " 3.54225917 3.14127363 2.9677601  2.85580111 3.61131555 3.6035538\n",
            " 3.28140214 3.61131555 3.86724708 3.31143473 3.31294431 4.27289129\n",
            " 3.74213843 3.00326489 2.77084825 3.64027471 3.02846496 3.62458273\n",
            " 3.09056629 3.443777   3.16411125 2.86314512 3.29144345 3.45942192\n",
            " 3.25785205 3.19242854 2.85790133 3.43592782 3.2455508  3.08635708\n",
            " 3.79626132 2.83365488 3.62347899 3.19242854 2.79528174 2.99025083\n",
            " 2.98221394 3.20711709 3.68423669 3.29721094 2.9277295  2.99826617\n",
            " 3.62458273 3.32589837 3.06587671 3.04394481 3.45276701 3.33190636\n",
            " 3.06065352 3.14795172 3.37129055 3.3819521  3.07597139 3.53236465\n",
            " 3.00492928 2.62975284 3.11923067 3.60882252 2.85615126 3.27652255\n",
            " 3.36029761 3.05869253 3.19649808 3.50051425 3.15683386 2.92089028\n",
            " 2.97583602 3.03572067 3.24832264 3.02516115 3.75227931 3.49393761\n",
            " 4.01890532 3.70912389 3.79836807 4.71291842 3.49651255 4.450573\n",
            " 4.19399571 3.88710689 3.1732633  3.66054641 3.65042463 3.59521905\n",
            " 3.41344401 3.28962004 3.60077769 4.46918337 5.19457409 3.90123058\n",
            " 3.69209967 3.29781746 4.93534193 3.41754298 3.57569574 4.02213873\n",
            " 3.26827171 3.15556651 3.77618855 4.01915414 4.39244806 4.31874982\n",
            " 3.77592373 3.49851397 3.96227208 4.38629684 3.36980712 3.51533782\n",
            " 3.08959544 3.54282373 3.63615181 3.34926858 3.49393761 3.81439379\n",
            " 3.59132288 3.42776895 3.6276163  3.38402128 3.19931243 3.27010703]\n",
            "index =  [ 15  85   5  44  64  18  61  33  88  56  51  95  70  16  32  96  66  65\n",
            "  71  43  84  21  19  99  46  97  75  14  91  78  74  10  82  59 138  48\n",
            "  86  23  31  79 127  94  50  20 110  26  55  63  92 148  67  27  24  17\n",
            "  58  98  54   4 126 149  89  36 115  52   0  69 121  39  40  73  77   7\n",
            "  28  11 141  90 136  80  81 147 114 123 145  57  49   6  76  53 142 101\n",
            " 106 133  93  29 137  83  30 139  25 124 144  22 113 116  35  87   9  34\n",
            "  37  62  47  72 146 140   2  45   3 112 111   1  68 120 103  42  12 100\n",
            " 132 128  60 104 143  38 109   8 119 134 102 129 125  13 108  41 131 135\n",
            " 130 107 117 105 122 118]\n",
            "target_result ['Iris-setosa', 'Iris-versicolor', 'Iris-setosa']\n",
            "distance_result :  [1.35937486 1.48185694 1.2529565  1.21897498 1.24092707 1.45941769\n",
            " 0.99794789 1.30149914 1.3144961  1.43453825 1.54980644 1.13661779\n",
            " 1.45736063 1.34681105 1.95445645 1.80496537 1.51324155 1.32811897\n",
            " 1.78154427 1.22388725 1.62416132 1.21897498 1.12955744 1.34532524\n",
            " 1.1497391  1.52049334 1.23121891 1.42614866 1.48185694 1.19159557\n",
            " 1.32208169 1.59056594 1.37328074 1.63948163 1.43453825 1.47915516\n",
            " 1.72681788 1.43453825 1.25932522 1.38199132 1.27196698 1.87133642\n",
            " 1.10539586 1.1558114  1.19745564 1.39136624 1.24575278 1.16786129\n",
            " 1.45804664 1.36963499 4.40112486 3.88457205 4.51019955 3.3093655\n",
            " 4.11872553 3.56284998 3.97465722 2.47505555 4.11775424 2.93289959\n",
            " 2.90687117 3.41817203 3.57713573 3.91176431 2.80996441 4.01296648\n",
            " 3.49369432 3.30664483 4.0960835  3.15624777 3.90741603 3.41875708\n",
            " 4.31716342 3.90920708 3.78072744 3.96987405 4.42898408 4.51928092\n",
            " 3.72584219 2.88615661 3.08672966 3.00697522 3.19153568 4.27339444\n",
            " 3.40498164 3.63289141 4.23909188 4.00498439 3.13590497 3.21059185\n",
            " 3.44962317 3.80787342 3.30271101 2.57951546 3.31962347 3.2471372\n",
            " 3.29725644 3.65539328 2.33064369 3.2578981  5.26990512 4.25886135\n",
            " 5.52285252 4.81122645 5.15479389 6.34443851 3.47072039 5.89558309\n",
            " 5.27445732 5.77147295 4.51507475 4.70041488 5.05112859 4.23460742\n",
            " 4.4006704  4.70934178 4.81018711 6.42634422 6.75262171 4.35613361\n",
            " 5.28184627 4.01620468 6.49198737 4.31994213 5.09920582 5.55480873\n",
            " 4.16219894 4.1320576  4.96224747 5.39702696 5.83968321 6.27279045\n",
            " 4.99198357 4.37514571 4.71888758 6.07864294 4.89937751 4.73813254\n",
            " 4.00348598 5.01476819 5.14625106 4.86105956 4.25886135 5.38162615\n",
            " 5.22550476 4.83527662 4.4846293  4.63032396 4.65745639 4.19307763]\n",
            "index =  [  6  42  22  11  24  43  47  29  44  21   3  19  26   4  46   2  38  40\n",
            "   7   8  30  17  23  13   0  49  32  39  45  27   9  34  37  12  48   5\n",
            "  35   1  28  16  25  10  31  20  33  36  18  15  41  14  98  57  93  64\n",
            "  79  60  59  81  80  88  69  82  89  95  99  96  92  67  53  94  84  61\n",
            "  71  90 106  66  55  62  85  97  78  74  91  51  70  73  63  75  56 138\n",
            "  87  65 121  68  58  54 127 126 149 113  86 101 142  83  72 123 119 133\n",
            " 114  50  76 146  52 110  77 147 148 111 115 134 137 116 103 145 141 136\n",
            " 128 132 139 112 124 140 104 144 100 108 120 143 129 102 125 109 130 107\n",
            " 135 131 105 117 122 118]\n",
            "target_result ['Iris-setosa', 'Iris-setosa', 'Iris-setosa']\n",
            "setosa setosa setosa\n"
          ],
          "name": "stdout"
        }
      ]
    },
    {
      "cell_type": "code",
      "metadata": {
        "id": "-W4Mjf3kIM8M"
      },
      "source": [
        ""
      ],
      "execution_count": null,
      "outputs": []
    }
  ]
}