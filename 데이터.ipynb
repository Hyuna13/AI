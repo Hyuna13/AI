{
  "nbformat": 4,
  "nbformat_minor": 0,
  "metadata": {
    "colab": {
      "name": "데이터.ipynb",
      "provenance": [],
      "include_colab_link": true
    },
    "kernelspec": {
      "name": "python3",
      "display_name": "Python 3"
    }
  },
  "cells": [
    {
      "cell_type": "markdown",
      "metadata": {
        "id": "view-in-github",
        "colab_type": "text"
      },
      "source": [
        "<a href=\"https://colab.research.google.com/github/Hyuna13/AI/blob/main/%EB%8D%B0%EC%9D%B4%ED%84%B0.ipynb\" target=\"_parent\"><img src=\"https://colab.research.google.com/assets/colab-badge.svg\" alt=\"Open In Colab\"/></a>"
      ]
    },
    {
      "cell_type": "markdown",
      "metadata": {
        "id": "WjEtz6fzvz6v"
      },
      "source": [
        "# 내가 만약 축구팀 감독이라면 "
      ]
    },
    {
      "cell_type": "markdown",
      "metadata": {
        "id": "yFYSNNteMsko"
      },
      "source": [
        "## 05. 학습하기\n",
        "### 5-1. 비슷한 특성의 데이터끼리 묶기"
      ]
    },
    {
      "cell_type": "markdown",
      "metadata": {
        "id": "xTC4yeV2M2sz"
      },
      "source": [
        "### 5-2. K-평균(K-Means) 군집화 알고리즘의 동작 과정 알아보기"
      ]
    },
    {
      "cell_type": "markdown",
      "metadata": {
        "id": "EtUU5ATBM8tj"
      },
      "source": [
        "#### [Step 1] 표본공간에 K개의 중심을 무작위로 생성하기 "
      ]
    },
    {
      "cell_type": "markdown",
      "metadata": {
        "id": "ZMa6UrocNCCy"
      },
      "source": [
        "#### [Step 2] 각 표본을 가장 가까운 중심(centroid)에 할당하기 "
      ]
    },
    {
      "cell_type": "markdown",
      "metadata": {
        "id": "ox0Ky1_HNHKJ"
      },
      "source": [
        "####[Step 3] 각 군집의 중심을 새롭게 계산하기"
      ]
    },
    {
      "cell_type": "markdown",
      "metadata": {
        "id": "VtSEG5I7N1K6"
      },
      "source": [
        "### 5.3  프로그램 작성하기\n",
        "- K-평균 군집화 알고리즘을 이용해 여러 선수들의 체력과 드리블 능력 데이터를 상, 중, 하 3개 팀으로 나눠보기"
      ]
    },
    {
      "cell_type": "markdown",
      "metadata": {
        "id": "sCF6jOL1N3-5"
      },
      "source": [
        "#### **[Step 1] 데이터 불러오기**"
      ]
    },
    {
      "cell_type": "code",
      "metadata": {
        "id": "qN7sWCIJPvnb",
        "colab": {
          "resources": {
            "http://localhost:8080/nbextensions/google.colab/files.js": {
              "data": "Ly8gQ29weXJpZ2h0IDIwMTcgR29vZ2xlIExMQwovLwovLyBMaWNlbnNlZCB1bmRlciB0aGUgQXBhY2hlIExpY2Vuc2UsIFZlcnNpb24gMi4wICh0aGUgIkxpY2Vuc2UiKTsKLy8geW91IG1heSBub3QgdXNlIHRoaXMgZmlsZSBleGNlcHQgaW4gY29tcGxpYW5jZSB3aXRoIHRoZSBMaWNlbnNlLgovLyBZb3UgbWF5IG9idGFpbiBhIGNvcHkgb2YgdGhlIExpY2Vuc2UgYXQKLy8KLy8gICAgICBodHRwOi8vd3d3LmFwYWNoZS5vcmcvbGljZW5zZXMvTElDRU5TRS0yLjAKLy8KLy8gVW5sZXNzIHJlcXVpcmVkIGJ5IGFwcGxpY2FibGUgbGF3IG9yIGFncmVlZCB0byBpbiB3cml0aW5nLCBzb2Z0d2FyZQovLyBkaXN0cmlidXRlZCB1bmRlciB0aGUgTGljZW5zZSBpcyBkaXN0cmlidXRlZCBvbiBhbiAiQVMgSVMiIEJBU0lTLAovLyBXSVRIT1VUIFdBUlJBTlRJRVMgT1IgQ09ORElUSU9OUyBPRiBBTlkgS0lORCwgZWl0aGVyIGV4cHJlc3Mgb3IgaW1wbGllZC4KLy8gU2VlIHRoZSBMaWNlbnNlIGZvciB0aGUgc3BlY2lmaWMgbGFuZ3VhZ2UgZ292ZXJuaW5nIHBlcm1pc3Npb25zIGFuZAovLyBsaW1pdGF0aW9ucyB1bmRlciB0aGUgTGljZW5zZS4KCi8qKgogKiBAZmlsZW92ZXJ2aWV3IEhlbHBlcnMgZm9yIGdvb2dsZS5jb2xhYiBQeXRob24gbW9kdWxlLgogKi8KKGZ1bmN0aW9uKHNjb3BlKSB7CmZ1bmN0aW9uIHNwYW4odGV4dCwgc3R5bGVBdHRyaWJ1dGVzID0ge30pIHsKICBjb25zdCBlbGVtZW50ID0gZG9jdW1lbnQuY3JlYXRlRWxlbWVudCgnc3BhbicpOwogIGVsZW1lbnQudGV4dENvbnRlbnQgPSB0ZXh0OwogIGZvciAoY29uc3Qga2V5IG9mIE9iamVjdC5rZXlzKHN0eWxlQXR0cmlidXRlcykpIHsKICAgIGVsZW1lbnQuc3R5bGVba2V5XSA9IHN0eWxlQXR0cmlidXRlc1trZXldOwogIH0KICByZXR1cm4gZWxlbWVudDsKfQoKLy8gTWF4IG51bWJlciBvZiBieXRlcyB3aGljaCB3aWxsIGJlIHVwbG9hZGVkIGF0IGEgdGltZS4KY29uc3QgTUFYX1BBWUxPQURfU0laRSA9IDEwMCAqIDEwMjQ7CgpmdW5jdGlvbiBfdXBsb2FkRmlsZXMoaW5wdXRJZCwgb3V0cHV0SWQpIHsKICBjb25zdCBzdGVwcyA9IHVwbG9hZEZpbGVzU3RlcChpbnB1dElkLCBvdXRwdXRJZCk7CiAgY29uc3Qgb3V0cHV0RWxlbWVudCA9IGRvY3VtZW50LmdldEVsZW1lbnRCeUlkKG91dHB1dElkKTsKICAvLyBDYWNoZSBzdGVwcyBvbiB0aGUgb3V0cHV0RWxlbWVudCB0byBtYWtlIGl0IGF2YWlsYWJsZSBmb3IgdGhlIG5leHQgY2FsbAogIC8vIHRvIHVwbG9hZEZpbGVzQ29udGludWUgZnJvbSBQeXRob24uCiAgb3V0cHV0RWxlbWVudC5zdGVwcyA9IHN0ZXBzOwoKICByZXR1cm4gX3VwbG9hZEZpbGVzQ29udGludWUob3V0cHV0SWQpOwp9CgovLyBUaGlzIGlzIHJvdWdobHkgYW4gYXN5bmMgZ2VuZXJhdG9yIChub3Qgc3VwcG9ydGVkIGluIHRoZSBicm93c2VyIHlldCksCi8vIHdoZXJlIHRoZXJlIGFyZSBtdWx0aXBsZSBhc3luY2hyb25vdXMgc3RlcHMgYW5kIHRoZSBQeXRob24gc2lkZSBpcyBnb2luZwovLyB0byBwb2xsIGZvciBjb21wbGV0aW9uIG9mIGVhY2ggc3RlcC4KLy8gVGhpcyB1c2VzIGEgUHJvbWlzZSB0byBibG9jayB0aGUgcHl0aG9uIHNpZGUgb24gY29tcGxldGlvbiBvZiBlYWNoIHN0ZXAsCi8vIHRoZW4gcGFzc2VzIHRoZSByZXN1bHQgb2YgdGhlIHByZXZpb3VzIHN0ZXAgYXMgdGhlIGlucHV0IHRvIHRoZSBuZXh0IHN0ZXAuCmZ1bmN0aW9uIF91cGxvYWRGaWxlc0NvbnRpbnVlKG91dHB1dElkKSB7CiAgY29uc3Qgb3V0cHV0RWxlbWVudCA9IGRvY3VtZW50LmdldEVsZW1lbnRCeUlkKG91dHB1dElkKTsKICBjb25zdCBzdGVwcyA9IG91dHB1dEVsZW1lbnQuc3RlcHM7CgogIGNvbnN0IG5leHQgPSBzdGVwcy5uZXh0KG91dHB1dEVsZW1lbnQubGFzdFByb21pc2VWYWx1ZSk7CiAgcmV0dXJuIFByb21pc2UucmVzb2x2ZShuZXh0LnZhbHVlLnByb21pc2UpLnRoZW4oKHZhbHVlKSA9PiB7CiAgICAvLyBDYWNoZSB0aGUgbGFzdCBwcm9taXNlIHZhbHVlIHRvIG1ha2UgaXQgYXZhaWxhYmxlIHRvIHRoZSBuZXh0CiAgICAvLyBzdGVwIG9mIHRoZSBnZW5lcmF0b3IuCiAgICBvdXRwdXRFbGVtZW50Lmxhc3RQcm9taXNlVmFsdWUgPSB2YWx1ZTsKICAgIHJldHVybiBuZXh0LnZhbHVlLnJlc3BvbnNlOwogIH0pOwp9CgovKioKICogR2VuZXJhdG9yIGZ1bmN0aW9uIHdoaWNoIGlzIGNhbGxlZCBiZXR3ZWVuIGVhY2ggYXN5bmMgc3RlcCBvZiB0aGUgdXBsb2FkCiAqIHByb2Nlc3MuCiAqIEBwYXJhbSB7c3RyaW5nfSBpbnB1dElkIEVsZW1lbnQgSUQgb2YgdGhlIGlucHV0IGZpbGUgcGlja2VyIGVsZW1lbnQuCiAqIEBwYXJhbSB7c3RyaW5nfSBvdXRwdXRJZCBFbGVtZW50IElEIG9mIHRoZSBvdXRwdXQgZGlzcGxheS4KICogQHJldHVybiB7IUl0ZXJhYmxlPCFPYmplY3Q+fSBJdGVyYWJsZSBvZiBuZXh0IHN0ZXBzLgogKi8KZnVuY3Rpb24qIHVwbG9hZEZpbGVzU3RlcChpbnB1dElkLCBvdXRwdXRJZCkgewogIGNvbnN0IGlucHV0RWxlbWVudCA9IGRvY3VtZW50LmdldEVsZW1lbnRCeUlkKGlucHV0SWQpOwogIGlucHV0RWxlbWVudC5kaXNhYmxlZCA9IGZhbHNlOwoKICBjb25zdCBvdXRwdXRFbGVtZW50ID0gZG9jdW1lbnQuZ2V0RWxlbWVudEJ5SWQob3V0cHV0SWQpOwogIG91dHB1dEVsZW1lbnQuaW5uZXJIVE1MID0gJyc7CgogIGNvbnN0IHBpY2tlZFByb21pc2UgPSBuZXcgUHJvbWlzZSgocmVzb2x2ZSkgPT4gewogICAgaW5wdXRFbGVtZW50LmFkZEV2ZW50TGlzdGVuZXIoJ2NoYW5nZScsIChlKSA9PiB7CiAgICAgIHJlc29sdmUoZS50YXJnZXQuZmlsZXMpOwogICAgfSk7CiAgfSk7CgogIGNvbnN0IGNhbmNlbCA9IGRvY3VtZW50LmNyZWF0ZUVsZW1lbnQoJ2J1dHRvbicpOwogIGlucHV0RWxlbWVudC5wYXJlbnRFbGVtZW50LmFwcGVuZENoaWxkKGNhbmNlbCk7CiAgY2FuY2VsLnRleHRDb250ZW50ID0gJ0NhbmNlbCB1cGxvYWQnOwogIGNvbnN0IGNhbmNlbFByb21pc2UgPSBuZXcgUHJvbWlzZSgocmVzb2x2ZSkgPT4gewogICAgY2FuY2VsLm9uY2xpY2sgPSAoKSA9PiB7CiAgICAgIHJlc29sdmUobnVsbCk7CiAgICB9OwogIH0pOwoKICAvLyBXYWl0IGZvciB0aGUgdXNlciB0byBwaWNrIHRoZSBmaWxlcy4KICBjb25zdCBmaWxlcyA9IHlpZWxkIHsKICAgIHByb21pc2U6IFByb21pc2UucmFjZShbcGlja2VkUHJvbWlzZSwgY2FuY2VsUHJvbWlzZV0pLAogICAgcmVzcG9uc2U6IHsKICAgICAgYWN0aW9uOiAnc3RhcnRpbmcnLAogICAgfQogIH07CgogIGNhbmNlbC5yZW1vdmUoKTsKCiAgLy8gRGlzYWJsZSB0aGUgaW5wdXQgZWxlbWVudCBzaW5jZSBmdXJ0aGVyIHBpY2tzIGFyZSBub3QgYWxsb3dlZC4KICBpbnB1dEVsZW1lbnQuZGlzYWJsZWQgPSB0cnVlOwoKICBpZiAoIWZpbGVzKSB7CiAgICByZXR1cm4gewogICAgICByZXNwb25zZTogewogICAgICAgIGFjdGlvbjogJ2NvbXBsZXRlJywKICAgICAgfQogICAgfTsKICB9CgogIGZvciAoY29uc3QgZmlsZSBvZiBmaWxlcykgewogICAgY29uc3QgbGkgPSBkb2N1bWVudC5jcmVhdGVFbGVtZW50KCdsaScpOwogICAgbGkuYXBwZW5kKHNwYW4oZmlsZS5uYW1lLCB7Zm9udFdlaWdodDogJ2JvbGQnfSkpOwogICAgbGkuYXBwZW5kKHNwYW4oCiAgICAgICAgYCgke2ZpbGUudHlwZSB8fCAnbi9hJ30pIC0gJHtmaWxlLnNpemV9IGJ5dGVzLCBgICsKICAgICAgICBgbGFzdCBtb2RpZmllZDogJHsKICAgICAgICAgICAgZmlsZS5sYXN0TW9kaWZpZWREYXRlID8gZmlsZS5sYXN0TW9kaWZpZWREYXRlLnRvTG9jYWxlRGF0ZVN0cmluZygpIDoKICAgICAgICAgICAgICAgICAgICAgICAgICAgICAgICAgICAgJ24vYSd9IC0gYCkpOwogICAgY29uc3QgcGVyY2VudCA9IHNwYW4oJzAlIGRvbmUnKTsKICAgIGxpLmFwcGVuZENoaWxkKHBlcmNlbnQpOwoKICAgIG91dHB1dEVsZW1lbnQuYXBwZW5kQ2hpbGQobGkpOwoKICAgIGNvbnN0IGZpbGVEYXRhUHJvbWlzZSA9IG5ldyBQcm9taXNlKChyZXNvbHZlKSA9PiB7CiAgICAgIGNvbnN0IHJlYWRlciA9IG5ldyBGaWxlUmVhZGVyKCk7CiAgICAgIHJlYWRlci5vbmxvYWQgPSAoZSkgPT4gewogICAgICAgIHJlc29sdmUoZS50YXJnZXQucmVzdWx0KTsKICAgICAgfTsKICAgICAgcmVhZGVyLnJlYWRBc0FycmF5QnVmZmVyKGZpbGUpOwogICAgfSk7CiAgICAvLyBXYWl0IGZvciB0aGUgZGF0YSB0byBiZSByZWFkeS4KICAgIGxldCBmaWxlRGF0YSA9IHlpZWxkIHsKICAgICAgcHJvbWlzZTogZmlsZURhdGFQcm9taXNlLAogICAgICByZXNwb25zZTogewogICAgICAgIGFjdGlvbjogJ2NvbnRpbnVlJywKICAgICAgfQogICAgfTsKCiAgICAvLyBVc2UgYSBjaHVua2VkIHNlbmRpbmcgdG8gYXZvaWQgbWVzc2FnZSBzaXplIGxpbWl0cy4gU2VlIGIvNjIxMTU2NjAuCiAgICBsZXQgcG9zaXRpb24gPSAwOwogICAgd2hpbGUgKHBvc2l0aW9uIDwgZmlsZURhdGEuYnl0ZUxlbmd0aCkgewogICAgICBjb25zdCBsZW5ndGggPSBNYXRoLm1pbihmaWxlRGF0YS5ieXRlTGVuZ3RoIC0gcG9zaXRpb24sIE1BWF9QQVlMT0FEX1NJWkUpOwogICAgICBjb25zdCBjaHVuayA9IG5ldyBVaW50OEFycmF5KGZpbGVEYXRhLCBwb3NpdGlvbiwgbGVuZ3RoKTsKICAgICAgcG9zaXRpb24gKz0gbGVuZ3RoOwoKICAgICAgY29uc3QgYmFzZTY0ID0gYnRvYShTdHJpbmcuZnJvbUNoYXJDb2RlLmFwcGx5KG51bGwsIGNodW5rKSk7CiAgICAgIHlpZWxkIHsKICAgICAgICByZXNwb25zZTogewogICAgICAgICAgYWN0aW9uOiAnYXBwZW5kJywKICAgICAgICAgIGZpbGU6IGZpbGUubmFtZSwKICAgICAgICAgIGRhdGE6IGJhc2U2NCwKICAgICAgICB9LAogICAgICB9OwogICAgICBwZXJjZW50LnRleHRDb250ZW50ID0KICAgICAgICAgIGAke01hdGgucm91bmQoKHBvc2l0aW9uIC8gZmlsZURhdGEuYnl0ZUxlbmd0aCkgKiAxMDApfSUgZG9uZWA7CiAgICB9CiAgfQoKICAvLyBBbGwgZG9uZS4KICB5aWVsZCB7CiAgICByZXNwb25zZTogewogICAgICBhY3Rpb246ICdjb21wbGV0ZScsCiAgICB9CiAgfTsKfQoKc2NvcGUuZ29vZ2xlID0gc2NvcGUuZ29vZ2xlIHx8IHt9OwpzY29wZS5nb29nbGUuY29sYWIgPSBzY29wZS5nb29nbGUuY29sYWIgfHwge307CnNjb3BlLmdvb2dsZS5jb2xhYi5fZmlsZXMgPSB7CiAgX3VwbG9hZEZpbGVzLAogIF91cGxvYWRGaWxlc0NvbnRpbnVlLAp9Owp9KShzZWxmKTsK",
              "ok": true,
              "headers": [
                [
                  "content-type",
                  "application/javascript"
                ]
              ],
              "status": 200,
              "status_text": ""
            }
          },
          "base_uri": "https://localhost:8080/",
          "height": 73
        },
        "outputId": "c6b1c34f-a168-4c52-ecc5-3a97edcbdd43"
      },
      "source": [
        "# fifa 2019.csv 파일 업로드하기 \n",
        "from google.colab import files\n",
        "\n",
        "uploaded = files.upload()"
      ],
      "execution_count": 1,
      "outputs": [
        {
          "output_type": "display_data",
          "data": {
            "text/html": [
              "\n",
              "     <input type=\"file\" id=\"files-6e9b359c-f4fa-4cd9-a2ad-9288bf9fc1c8\" name=\"files[]\" multiple disabled\n",
              "        style=\"border:none\" />\n",
              "     <output id=\"result-6e9b359c-f4fa-4cd9-a2ad-9288bf9fc1c8\">\n",
              "      Upload widget is only available when the cell has been executed in the\n",
              "      current browser session. Please rerun this cell to enable.\n",
              "      </output>\n",
              "      <script src=\"/nbextensions/google.colab/files.js\"></script> "
            ],
            "text/plain": [
              "<IPython.core.display.HTML object>"
            ]
          },
          "metadata": {
            "tags": []
          }
        },
        {
          "output_type": "stream",
          "text": [
            "Saving fifa2019.csv to fifa2019.csv\n"
          ],
          "name": "stdout"
        }
      ]
    },
    {
      "cell_type": "markdown",
      "metadata": {
        "id": "Dy1D06_GeWIh"
      },
      "source": [
        "- Overall(전반적인 능력치) 기준으로 내림차순 200개 추출해서 (데이터프레임 : df)\n",
        "- column이 'Name', 'Stemina', 'Dribblinig', 'ShortPassing', 'Penalties' 인 데이터프레임(test_df) 만들기\n",
        "\n",
        "**1. 판다스 불러오기** <br>\n",
        "\n",
        "**2. 판다스를 이용해 fifa2019 데이터프레임(fifa2019) 생성하기** <br>\n",
        "\n",
        "**3. fifa2019 데이터 프레임에서 Overall 내림차순으로 선수 200명을 복사해 df 데이터프레임 생성하기** <br>\n",
        "  - Overall(전반적인 능력치) 기준으로 내림차순하기 (ascending=False)"
      ]
    },
    {
      "cell_type": "code",
      "metadata": {
        "id": "to1_vt_jM8KS",
        "colab": {
          "base_uri": "https://localhost:8080/"
        },
        "outputId": "4a9b5f04-4c75-489c-d5e7-f533c1026fb2"
      },
      "source": [
        "# 1. (실습) 판다스 불러오기 \n",
        "import pandas as pd\n",
        "\n",
        "# 2. (실습)fifa2019 데이터프레임 생성하기 \n",
        "fifa2019 = pd.read_csv('fifa2019.csv')\n",
        "\n",
        "# 3. (실습) df데이터프레임 : fifa2019 훈련에 참여한 선수 200명을 복사(pd.DataFrame.copy)해 df 데이터프레임 생성하기 \n",
        "# fifa2019.sort_values - 'Overall'(전반적인 능력치) 기준으로 내림차순 (ascending=False) 하기 \n",
        "df = pd.DataFrame.copy( fifa2019.sort_values(by='Overall', ascending = False) .head(200))\n",
        "print(df)\n"
      ],
      "execution_count": 2,
      "outputs": [
        {
          "output_type": "stream",
          "text": [
            "     Unnamed: 0      ID  ... GKReflexes  Release Clause\n",
            "0             0  158023  ...        8.0         €226.5M\n",
            "1             1   20801  ...       11.0         €127.1M\n",
            "2             2  190871  ...       11.0         €228.1M\n",
            "3             3  193080  ...       94.0         €138.6M\n",
            "4             4  192985  ...       13.0         €196.4M\n",
            "..          ...     ...  ...        ...             ...\n",
            "166         166  212523  ...       10.0             NaN\n",
            "165         165  213331  ...       14.0          €52.4M\n",
            "164         164  213345  ...        5.0          €58.7M\n",
            "163         163  213565  ...       14.0          €79.9M\n",
            "162         162  219683  ...       14.0          €58.7M\n",
            "\n",
            "[200 rows x 89 columns]\n"
          ],
          "name": "stdout"
        }
      ]
    },
    {
      "cell_type": "markdown",
      "metadata": {
        "id": "EnTLFPX87orI"
      },
      "source": [
        "- Overall(전반적인 능력치) 기준으로 내림차순 200개 추출해서 (데이터프레임 : df)\n",
        "- column이 'Name', 'Stemina', 'Dribblinig', 'ShortPassing', 'Penalties' 인 데이터프레임(test_df) 만들기<br>\n",
        "\n",
        "**4. test_feature : 특성 이름 리스트 만들기**<br> \n",
        "  - 이름('Name'), 체력('Stamina'), 드리블('Dribbling'), 짧은 패스('ShortPassing'), 패널티킥('Panalties')<br>\n",
        "\n",
        "**5.  df, test_feature 이용해서 test_df 데이터프레임 생성하기**<br>\n",
        "  - pd.DataFrame() : 데이터프레임 생성하기 <br>\n",
        "\n",
        "**6. test_df 데이터프레임 5개만 출력하기**"
      ]
    },
    {
      "cell_type": "code",
      "metadata": {
        "id": "S_nAl2Wr7orO",
        "colab": {
          "base_uri": "https://localhost:8080/"
        },
        "outputId": "cd8188ed-a591-4b63-c14b-788ae0b3d907"
      },
      "source": [
        "# 4. test_feature : 특성 이름 리스트 만들기 \n",
        "# 이름('Name'), 체력('Stamina'), 드리블('Dribbling'), 짧은 패스('ShortPassing'), 패널티킥('Panalties')\n",
        "# 'Name', 'Stemina', 'Dribblinig', 'ShortPassing', 'Penalties'\n",
        "test_features = ['Name', 'Stamina', 'Dribbling', 'ShortPassing', 'Penalties']\n",
        "\n",
        "# 5. df, test_feature 이용해서 test_df 데이터프레임 생성하기\n",
        "test_df = pd.DataFrame(df, columns = test_features)\n",
        "\n",
        "# 6. test_df 데이터 프레임 5개만 출력하기 \n",
        "print(test_df.head(5))"
      ],
      "execution_count": 3,
      "outputs": [
        {
          "output_type": "stream",
          "text": [
            "                Name  Stamina  Dribbling  ShortPassing  Penalties\n",
            "0           L. Messi     72.0       97.0          90.0       75.0\n",
            "1  Cristiano Ronaldo     88.0       88.0          81.0       85.0\n",
            "2          Neymar Jr     81.0       96.0          84.0       81.0\n",
            "3             De Gea     43.0       18.0          50.0       40.0\n",
            "4       K. De Bruyne     90.0       86.0          92.0       79.0\n"
          ],
          "name": "stdout"
        }
      ]
    },
    {
      "cell_type": "markdown",
      "metadata": {
        "id": "24-MSsAGODFz"
      },
      "source": [
        "####**[Step 2] 학습 데이터 준비하기** \n",
        "\n",
        "1. XY 넘파이 배열 만들기 : test_df 데이터프레임 이용하기 \n",
        "2. 학습 데이터 만들기(X 넘파이 배열) : 체력('Stamina', 1번 열), 드리블('Dribbling', 2번 열)만 들어간 학습 데이터\n",
        "\n",
        "- numpy : 행렬연산을 위한 라이브러리, 배열 생성 \n",
        "\n",
        "```python\n",
        "import numpy as np          # 넘파이 불러오기\n",
        "배열명 = np.array(리스트)   # 리스트를 넘파이 배열로 생성하기\n",
        "```"
      ]
    },
    {
      "cell_type": "code",
      "metadata": {
        "id": "1JT_HD-dM8PA",
        "colab": {
          "base_uri": "https://localhost:8080/"
        },
        "outputId": "aa119664-17b2-4fea-b586-74f35feffa21"
      },
      "source": [
        "# 체력('Stamina'), 드리블('Dribbling')\n",
        "# 1. (실습) numpy 불러오기 \n",
        "import numpy as np\n",
        "\n",
        "# 2. (실습) test_df 데이터프레임 이용해 XY 배열 만들기 \n",
        "XY = np.array(test_df)\n",
        "\n",
        "# XY 배열 출력하기 \n",
        "#print(XY)\n",
        "\n",
        "# 3. (실습) 학습 데이터 만들기(X 배열) \n",
        "# X(선수정보) - XY 배열에 속한 축구선수들[:]의 체력(1번 열), 드리블(2번 열) 값[1:3] 저장한 배열 생성 \n",
        "X = XY[:, 1:3]\n",
        "print(X)\n",
        "print(len(X))"
      ],
      "execution_count": 4,
      "outputs": [
        {
          "output_type": "stream",
          "text": [
            "[[72.0 97.0]\n",
            " [88.0 88.0]\n",
            " [81.0 96.0]\n",
            " [43.0 18.0]\n",
            " [90.0 86.0]\n",
            " [83.0 95.0]\n",
            " [89.0 90.0]\n",
            " [90.0 87.0]\n",
            " [84.0 63.0]\n",
            " [66.0 53.0]\n",
            " [78.0 89.0]\n",
            " [41.0 12.0]\n",
            " [75.0 81.0]\n",
            " [78.0 85.0]\n",
            " [86.0 80.0]\n",
            " [65.0 58.0]\n",
            " [76.0 89.0]\n",
            " [43.0 30.0]\n",
            " [92.0 80.0]\n",
            " [89.0 80.0]\n",
            " [38.0 13.0]\n",
            " [35.0 17.0]\n",
            " [83.0 88.0]\n",
            " [80.0 92.0]\n",
            " [96.0 79.0]\n",
            " [66.0 68.0]\n",
            " [39.0 26.0]\n",
            " [41.0 12.0]\n",
            " [74.0 62.0]\n",
            " [70.0 84.0]\n",
            " [41.0 10.0]\n",
            " [75.0 87.0]\n",
            " [91.0 90.0]\n",
            " [79.0 91.0]\n",
            " [76.0 79.0]\n",
            " [92.0 84.0]\n",
            " [70.0 94.0]\n",
            " [75.0 90.0]\n",
            " [70.0 85.0]\n",
            " [87.0 69.0]\n",
            " [84.0 89.0]\n",
            " [83.0 90.0]\n",
            " [80.0 83.0]\n",
            " [65.0 59.0]\n",
            " [84.0 84.0]\n",
            " [84.0 86.0]\n",
            " [75.0 71.0]\n",
            " [75.0 91.0]\n",
            " [91.0 80.0]\n",
            " [84.0 80.0]\n",
            " [39.0 16.0]\n",
            " [88.0 87.0]\n",
            " [71.0 66.0]\n",
            " [72.0 77.0]\n",
            " [78.0 69.0]\n",
            " [75.0 90.0]\n",
            " [55.0 90.0]\n",
            " [79.0 77.0]\n",
            " [69.0 84.0]\n",
            " [69.0 64.0]\n",
            " [78.0 86.0]\n",
            " [74.0 62.0]\n",
            " [71.0 69.0]\n",
            " [87.0 69.0]\n",
            " [73.0 87.0]\n",
            " [87.0 75.0]\n",
            " [41.0 23.0]\n",
            " [92.0 80.0]\n",
            " [77.0 90.0]\n",
            " [73.0 57.0]\n",
            " [90.0 87.0]\n",
            " [78.0 88.0]\n",
            " [71.0 70.0]\n",
            " [84.0 87.0]\n",
            " [78.0 92.0]\n",
            " [79.0 88.0]\n",
            " [78.0 92.0]\n",
            " [76.0 76.0]\n",
            " [76.0 77.0]\n",
            " [78.0 81.0]\n",
            " [89.0 84.0]\n",
            " [83.0 76.0]\n",
            " [61.0 60.0]\n",
            " [93.0 80.0]\n",
            " [60.0 58.0]\n",
            " [94.0 78.0]\n",
            " [65.0 67.0]\n",
            " [75.0 83.0]\n",
            " [89.0 77.0]\n",
            " [66.0 63.0]\n",
            " [85.0 93.0]\n",
            " [61.0 79.0]\n",
            " [69.0 64.0]\n",
            " [83.0 87.0]\n",
            " [80.0 90.0]\n",
            " [76.0 91.0]\n",
            " [77.0 59.0]\n",
            " [85.0 86.0]\n",
            " [76.0 86.0]\n",
            " [45.0 11.0]\n",
            " [32.0 27.0]\n",
            " [85.0 80.0]\n",
            " [86.0 83.0]\n",
            " [87.0 79.0]\n",
            " [90.0 82.0]\n",
            " [79.0 85.0]\n",
            " [76.0 54.0]\n",
            " [67.0 51.0]\n",
            " [78.0 78.0]\n",
            " [92.0 82.0]\n",
            " [83.0 76.0]\n",
            " [74.0 84.0]\n",
            " [41.0 15.0]\n",
            " [85.0 88.0]\n",
            " [73.0 86.0]\n",
            " [73.0 86.0]\n",
            " [91.0 82.0]\n",
            " [89.0 79.0]\n",
            " [77.0 78.0]\n",
            " [86.0 78.0]\n",
            " [84.0 80.0]\n",
            " [66.0 84.0]\n",
            " [69.0 58.0]\n",
            " [37.0 12.0]\n",
            " [68.0 75.0]\n",
            " [34.0 12.0]\n",
            " [55.0 59.0]\n",
            " [75.0 89.0]\n",
            " [53.0 64.0]\n",
            " [65.0 89.0]\n",
            " [64.0 89.0]\n",
            " [34.0 10.0]\n",
            " [69.0 85.0]\n",
            " [43.0 16.0]\n",
            " [84.0 80.0]\n",
            " [75.0 86.0]\n",
            " [67.0 47.0]\n",
            " [92.0 82.0]\n",
            " [89.0 83.0]\n",
            " [65.0 42.0]\n",
            " [75.0 87.0]\n",
            " [90.0 83.0]\n",
            " [92.0 76.0]\n",
            " [75.0 59.0]\n",
            " [67.0 59.0]\n",
            " [79.0 82.0]\n",
            " [66.0 63.0]\n",
            " [78.0 90.0]\n",
            " [83.0 85.0]\n",
            " [76.0 63.0]\n",
            " [30.0 19.0]\n",
            " [36.0 15.0]\n",
            " [85.0 88.0]\n",
            " [79.0 85.0]\n",
            " [84.0 76.0]\n",
            " [66.0 81.0]\n",
            " [83.0 84.0]\n",
            " [76.0 78.0]\n",
            " [82.0 68.0]\n",
            " [79.0 75.0]\n",
            " [32.0 11.0]\n",
            " [90.0 79.0]\n",
            " [88.0 86.0]\n",
            " [89.0 75.0]\n",
            " [39.0 19.0]\n",
            " [39.0 19.0]\n",
            " [86.0 80.0]\n",
            " [78.0 82.0]\n",
            " [85.0 78.0]\n",
            " [82.0 84.0]\n",
            " [85.0 68.0]\n",
            " [31.0 15.0]\n",
            " [66.0 66.0]\n",
            " [95.0 82.0]\n",
            " [34.0 10.0]\n",
            " [74.0 64.0]\n",
            " [31.0 11.0]\n",
            " [58.0 84.0]\n",
            " [70.0 89.0]\n",
            " [56.0 79.0]\n",
            " [80.0 77.0]\n",
            " [32.0 15.0]\n",
            " [86.0 72.0]\n",
            " [74.0 60.0]\n",
            " [45.0 15.0]\n",
            " [45.0 20.0]\n",
            " [32.0 12.0]\n",
            " [71.0 82.0]\n",
            " [81.0 65.0]\n",
            " [67.0 51.0]\n",
            " [31.0 20.0]\n",
            " [86.0 83.0]\n",
            " [86.0 81.0]\n",
            " [82.0 79.0]\n",
            " [83.0 83.0]\n",
            " [76.0 82.0]\n",
            " [63.0 55.0]\n",
            " [76.0 88.0]\n",
            " [79.0 85.0]\n",
            " [87.0 77.0]]\n",
            "200\n"
          ],
          "name": "stdout"
        }
      ]
    },
    {
      "cell_type": "markdown",
      "metadata": {
        "id": "JxnLucwgS2I9"
      },
      "source": [
        "####**[Step 3] K-평균 군집화 알고리즘 적용하기**"
      ]
    },
    {
      "cell_type": "markdown",
      "metadata": {
        "id": "uj_NP1HUS5f-"
      },
      "source": [
        "##### **[1단계] 표본공간에 k개의 중심을 무작위로 생성하기** \n",
        "**1. 표본공간에서 사용할 중심을 생성해보자.**\n",
        "- 데이터셋($X$ 배열)에서 체력 데이터, 드리블 데이터를 무작위로 3개 뽑아서 2차원 배열 $C$를 생성하기 \n",
        "<br><br>\n",
        "  - $X$ 배열 : 체력(0번) -  드리블(1번)<br><br>\n",
        "  - $C_x$ 배열 만들기(x-체력) \n",
        "    - $X$배열에서 체력 데이터(0번 열)에서 무작위로 3개 뽑아 1차원 넘파이 배열 만들기 <br><br>\n",
        "  - $C_y$ 배열 만들기(y-드리블) \n",
        "    - $X$배열에서 드리블 데이터(1번 열)에서 무작위로 3개 뽑아 1차원 넘파이 배열 만들기<br><br> \n",
        "  - $C$ \n",
        "    - $C_x$(체력 배열), $C_y$(드리블 배열)을 묶어서 리스트로 만들어 넘파이 배열로 만들기 "
      ]
    },
    {
      "cell_type": "code",
      "metadata": {
        "id": "1k47aIf0TBxf",
        "colab": {
          "base_uri": "https://localhost:8080/"
        },
        "outputId": "ca81c0f9-e688-4974-d74a-a4e03d58d580"
      },
      "source": [
        "# 분류하려는 군집의 갯수(k) : 3\n",
        "k = 3\n",
        "\n",
        "# (실습) C_x : X배열에서 체력 데이터(0번 열)를 무작위로 3개 뽑아 1차원 넘파이 배열 만들기 \n",
        "# np.random.choice(X[:, 0], 3)\n",
        "C_x = np.random.choice(X[:, 0], k)\n",
        "print(\"C_x array : \" ,C_x)\n",
        "\n",
        "# (실습) C_y : X배열에서 드리블 데이터(1번 열)를 무작위로 3개 뽑아 1차원 넘파이 배열 만들기 \n",
        "C_y = np.random.choice(X[:, 1], k )\n",
        "print(\"C_y array : \", C_y)\n",
        "\n",
        "# A : C_x(체력 배열), C_y(드리블 배열)을 묶어서 리스트 만들기 \n",
        "# list(zip())\n",
        "A = list(zip(C_x, C_y))\n",
        "\n",
        "# C : 중심점 배열 만들기\n",
        "C = np.array(list(zip(C_x, C_y)))\n",
        "print(C)"
      ],
      "execution_count": 10,
      "outputs": [
        {
          "output_type": "stream",
          "text": [
            "C_x array :  [53.0 32.0 89.0]\n",
            "C_y array :  [76.0 76.0 92.0]\n",
            "[[53. 76.]\n",
            " [32. 76.]\n",
            " [89. 92.]]\n"
          ],
          "name": "stdout"
        }
      ]
    },
    {
      "cell_type": "markdown",
      "metadata": {
        "id": "kwSwdIpgbyzE"
      },
      "source": [
        "**2. 생성 결과를 시각적으로 확인해보자.**\n",
        "- $test_{df} : Name,  Stamina,  Dribbling,  ShortPassing,  Penalties$\n"
      ]
    },
    {
      "cell_type": "code",
      "metadata": {
        "id": "-HZAuuzUb49X",
        "colab": {
          "base_uri": "https://localhost:8080/",
          "height": 295
        },
        "outputId": "50b9fb4e-7756-4a2d-c6e4-882341aac935"
      },
      "source": [
        "# matplotlib.pyplot 불러오기 \n",
        "import matplotlib.pyplot as plt\n",
        "\n",
        "# test_df에서 Stamina(체력), Dribbling(드리블) 만 들어간 시리즈 만들기 \n",
        "Stamina = test_df['Stamina']\n",
        "Dribbling = test_df['Dribbling']\n",
        "\n",
        "# 그래프 그리기 \n",
        "plt.title('Stamina & Dribbling')\n",
        "plt.xlabel('Stamina')\n",
        "plt.ylabel('Dribbling')\n",
        "\n",
        "# (실습) x: Stamina, y : Dribbling 값을 산점도로 표현하기 \n",
        "# 삼각형^, 파란색, 크기 30, 레이블 players\n",
        "plt.scatter('Stamina','Dribbling', marker ='^', c='blue', s =200, label ='players')\n",
        "\n",
        "# (실습) x : C_x, y : C_y 값을 산점도로 표현하기 \n",
        "# s : size, c : color,별, 검은색,  크기 200, 레이블 centroids\n",
        "plt.scatter(C_x, C_y, marker = '*', s = 200, c ='black' ,label ='centroids')\n",
        "\n",
        "# 범례 표시하기 (loc : 위치, 'lower right' : 오른쪽 아래, 'best' : 최적 )\n",
        "plt.legend(loc = 'best')\n",
        "plt.grid()\n",
        "plt.show()"
      ],
      "execution_count": 14,
      "outputs": [
        {
          "output_type": "display_data",
          "data": {
            "image/png": "[encoded data removed]",
            "text/plain": [
              "<Figure size 432x288 with 1 Axes>"
            ]
          },
          "metadata": {
            "tags": [],
            "needs_background": "light"
          }
        }
      ]
    },
    {
      "cell_type": "markdown",
      "metadata": {
        "id": "kTQXPkIboiuu"
      },
      "source": [
        "##### **[2단계] 각 표본에 가까운 중심에 할당하기** \n",
        "**1. 거리를 추측하는 함수 만들기**\n",
        "- 유클리디안 거리 계산함수 만들기 \n",
        "\n",
        "   $ Distance(A, B) = \\sqrt{(A - B)^2} $\n",
        "   ```python\n",
        "   Distance(A, B) : np.sqrt(np.sum(np.power((A-B), 2)))\n",
        "   ```"
      ]
    },
    {
      "cell_type": "code",
      "metadata": {
        "id": "o7h7_SFCXUne"
      },
      "source": [
        "# (실습) 유클리디안 거리 계산 함수 만들기\n",
        "def Distance(A, B):\n",
        "  return np.sqrt(np.sum(np.power((A-B),2)))"
      ],
      "execution_count": 19,
      "outputs": []
    },
    {
      "cell_type": "markdown",
      "metadata": {
        "id": "t7y4EiRXzZex"
      },
      "source": [
        "**2. 각 군집의 중심을 새롭게 계산하기**\n",
        "- $X$(선수정보) \n",
        "  - 축구선수들의 체력(1번 열), 드리블(2번 열) 값 저장한 배열 생성 <br><br>\n",
        "- $C$ 배열 : 현재 중심 위치값<br><br>\n",
        "- $temp = Distance(X[i], C[j])$\n",
        "  - 군집중심($C[j]$)과 선수 데이터($X[i]$)간의 거리계산 결과 저장 \n",
        "  - $distances.append(temp)$ : 각 거리계산한 값을 리스트에 추가 <br><br>\n",
        "- $clusters$ 배열\n",
        "  - 입력값과 각 중심값 사이의 거리 중 가장 짧은 거리의 인덱스 저장\n",
        "\n"
      ]
    },
    {
      "cell_type": "markdown",
      "metadata": {
        "id": "vi0i7Zl42RLx"
      },
      "source": [
        "##### **[3 단계] 각 군집의 중심(C)을 새롭게 계산하기**\n",
        "- $points$ 리스트 \n",
        "  -  군집의 중심값별로 데이터를 모아서 $points$ 리스트에 저장함 <br><br>\n",
        "- $C$ 배열 : points 리스트 값의 평균을 구해서 업데이트한 중심 위치값<br><br>\n",
        "- $C_{old}$ 배열 : 이전 중심위치값 저장 배열<br><br>\n",
        "- $flag$\n",
        "  - $C$와 $C_{old}$ 유클리드 거리 구하기\n",
        "  - (추후) $C$와 $C_{old}$ 거리차이가 0이 될때까지 <br><br>\n"
      ]
    },
    {
      "cell_type": "code",
      "metadata": {
        "id": "9hJyFULWzdjw",
        "colab": {
          "base_uri": "https://localhost:8080/"
        },
        "outputId": "c8e35bea-fd39-4701-b955-2a096b9767d4"
      },
      "source": [
        "# 현재중심위치값과 이전중심위치값의 거리 구하기 \n",
        "# C_old 배열 만들기(C 배열 모양만큼 0으로 초기화하기)\n",
        "C_old = np.zeros(C.shape)\n",
        "\n",
        "# clusters 배열 만들기 (입력값과 각 중심점 사이의 거리 중 가장 짧은 거리의 인덱스 저장)\n",
        "clusters = np.zeros(len(X))\n",
        "\n",
        "# C배열 (체력과 드리블 3*2로 만든 배열), C_old(3*2,0으로 초기화한 배열)\n",
        "# 유클리드 거리 구하기 \n",
        "flag = Distance(C, C_old)\n",
        "\n",
        "print(\"C_old : \\n\", C_old)\n",
        "print(\"C : \\n\", C)\n",
        "print(\"flag : \", flag)"
      ],
      "execution_count": 20,
      "outputs": [
        {
          "output_type": "stream",
          "text": [
            "C_old : \n",
            " [[0. 0.]\n",
            " [0. 0.]\n",
            " [0. 0.]]\n",
            "C : \n",
            " [[53. 76.]\n",
            " [32. 76.]\n",
            " [89. 92.]]\n",
            "flag :  178.24140933015536\n"
          ],
          "name": "stdout"
        }
      ]
    },
    {
      "cell_type": "code",
      "metadata": {
        "id": "ZirA9WPMRuPQ",
        "colab": {
          "base_uri": "https://localhost:8080/"
        },
        "outputId": "a81b4e27-8333-47e2-b94b-6c50762f9fd3"
      },
      "source": [
        "# (실습)from 모듈 import 변수/함수 : copy 모듈로부터 deepcopy 함수를 불러온다.\n",
        "from copy import deepcopy\n",
        "\n",
        "# distances 리스트 : 군집중심과 데이터간의 거리계산 결과 저장 \n",
        "distances = []\n",
        "\n",
        "# while 문 : 군집중심의 좌표가 변화가 없을때까지 while 문안의 명령어를 반복 실행함 \n",
        "while flag != 0 :\n",
        "  # for 문 : 선수들의 수만큼 계산을 반복하면서 선수들 각각의 체력, 드리블 값과 임의의 군집중심의 값의 거리를 계산 \n",
        "  for i in range(len(X)):   # i = 선수 데이터(X)\n",
        "    for j in range(3):      # j = 중심 위치(C) - 3개\n",
        "    # (실습) 선수 한명(X[i])과 3개 각각의 군집 중심값(C[j])의 거리 계산해 temp 저장\n",
        "      temp = Distance(X[i],C[j])\n",
        "      distances.append(temp)       # 계산한 값(temp)을 리스트에 추가함\n",
        "    # (실습) distances의 최솟값을 가진 값의 인덱스 번호(np.argmin(distances)를 cluster에 저장함\n",
        "    cluster = np.argmin(distances)\n",
        "    # (실습) cluster 변수값을 리스트 clusters[i]에 저장함\n",
        "    clusters[i] = cluster           \n",
        "    distances = []                 # distances 값 초기화(다음 i번째 선수와 군집의 중심간의 거리 계산해서 새롭게 저장해야 함)\n",
        "  print(\"clusters : \",clusters)    # 200명의 선수가 순서대로 어떤 군집에 해당되는지 0, 1, 2 숫자로 매칭되어 나열됨\n",
        "\n",
        "  print(\" 2단계 끝 : 각 표본에 가까운 중심에 할당하기==================================\")\n",
        "  C_old = deepcopy(C)              # 지금까지 사용된 중심을 C_old에 복사함 \n",
        "  # 같은 군집끼리 데이터를 모아서 새로운 군집의 중심을 계산함\n",
        "  for i in range(k):            \n",
        "    # 군집의 중심값별로 데이터를 모아서 points 리스트에 저장함   \n",
        "    points = [X[j] for j in range(len(X)) if clusters[j] == i]        \n",
        "    print(\"i : \", i, \" points : \", points)\n",
        "    # (실습) 리스트 points 값의 평균(np.mean)을 계산해 C[i]에 저장함.\n",
        "    C[i] = np.mean(points)                                            \n",
        "  # (실습) 새롭게 계산된 군집의 중심(C)과 이전의 중심(C_old)간의 거리차 계산 \n",
        "  flag = Distance(C, C_old)\n",
        "  print(\"3단계 끝 : 각 군집의 중심(C)을 새롭게 계산하기+++++++++++++++++++++++++++++++++++++++++++++++\")\n"
      ],
      "execution_count": 22,
      "outputs": [
        {
          "output_type": "stream",
          "text": [
            "clusters :  [2. 2. 2. 0. 2. 2. 2. 2. 2. 0. 2. 1. 2. 2. 2. 0. 2. 0. 2. 2. 1. 1. 2. 2.\n",
            " 2. 0. 1. 1. 0. 0. 1. 2. 2. 2. 2. 2. 2. 2. 0. 2. 2. 2. 2. 0. 2. 2. 0. 2.\n",
            " 2. 2. 1. 2. 0. 0. 2. 2. 0. 2. 0. 0. 2. 0. 0. 2. 2. 2. 1. 2. 2. 0. 2. 2.\n",
            " 0. 2. 2. 2. 2. 2. 2. 2. 2. 2. 0. 2. 0. 2. 0. 2. 2. 0. 2. 0. 0. 2. 2. 2.\n",
            " 0. 2. 2. 0. 1. 2. 2. 2. 2. 2. 0. 0. 2. 2. 2. 2. 1. 2. 2. 2. 2. 2. 2. 2.\n",
            " 2. 0. 0. 1. 0. 1. 0. 2. 0. 0. 0. 1. 0. 0. 2. 2. 0. 2. 2. 0. 2. 2. 2. 0.\n",
            " 0. 2. 0. 2. 2. 0. 1. 1. 2. 2. 2. 0. 2. 2. 2. 2. 1. 2. 2. 2. 1. 1. 2. 2.\n",
            " 2. 2. 2. 1. 0. 2. 1. 0. 1. 0. 2. 0. 2. 1. 2. 0. 0. 0. 1. 0. 2. 0. 1. 2.\n",
            " 2. 2. 2. 2. 0. 2. 2. 2.]\n",
            " 2단계 끝 : 각 표본에 가까운 중심에 할당하기==================================\n",
            "i :  0  points :  [array([43.0, 18.0], dtype=object), array([66.0, 53.0], dtype=object), array([65.0, 58.0], dtype=object), array([43.0, 30.0], dtype=object), array([66.0, 68.0], dtype=object), array([74.0, 62.0], dtype=object), array([70.0, 84.0], dtype=object), array([70.0, 85.0], dtype=object), array([65.0, 59.0], dtype=object), array([75.0, 71.0], dtype=object), array([71.0, 66.0], dtype=object), array([72.0, 77.0], dtype=object), array([55.0, 90.0], dtype=object), array([69.0, 84.0], dtype=object), array([69.0, 64.0], dtype=object), array([74.0, 62.0], dtype=object), array([71.0, 69.0], dtype=object), array([73.0, 57.0], dtype=object), array([71.0, 70.0], dtype=object), array([61.0, 60.0], dtype=object), array([60.0, 58.0], dtype=object), array([65.0, 67.0], dtype=object), array([66.0, 63.0], dtype=object), array([61.0, 79.0], dtype=object), array([69.0, 64.0], dtype=object), array([77.0, 59.0], dtype=object), array([45.0, 11.0], dtype=object), array([76.0, 54.0], dtype=object), array([67.0, 51.0], dtype=object), array([66.0, 84.0], dtype=object), array([69.0, 58.0], dtype=object), array([68.0, 75.0], dtype=object), array([55.0, 59.0], dtype=object), array([53.0, 64.0], dtype=object), array([65.0, 89.0], dtype=object), array([64.0, 89.0], dtype=object), array([69.0, 85.0], dtype=object), array([43.0, 16.0], dtype=object), array([67.0, 47.0], dtype=object), array([65.0, 42.0], dtype=object), array([75.0, 59.0], dtype=object), array([67.0, 59.0], dtype=object), array([66.0, 63.0], dtype=object), array([76.0, 63.0], dtype=object), array([66.0, 81.0], dtype=object), array([66.0, 66.0], dtype=object), array([74.0, 64.0], dtype=object), array([58.0, 84.0], dtype=object), array([56.0, 79.0], dtype=object), array([74.0, 60.0], dtype=object), array([45.0, 15.0], dtype=object), array([45.0, 20.0], dtype=object), array([71.0, 82.0], dtype=object), array([67.0, 51.0], dtype=object), array([63.0, 55.0], dtype=object)]\n",
            "i :  1  points :  [array([41.0, 12.0], dtype=object), array([38.0, 13.0], dtype=object), array([35.0, 17.0], dtype=object), array([39.0, 26.0], dtype=object), array([41.0, 12.0], dtype=object), array([41.0, 10.0], dtype=object), array([39.0, 16.0], dtype=object), array([41.0, 23.0], dtype=object), array([32.0, 27.0], dtype=object), array([41.0, 15.0], dtype=object), array([37.0, 12.0], dtype=object), array([34.0, 12.0], dtype=object), array([34.0, 10.0], dtype=object), array([30.0, 19.0], dtype=object), array([36.0, 15.0], dtype=object), array([32.0, 11.0], dtype=object), array([39.0, 19.0], dtype=object), array([39.0, 19.0], dtype=object), array([31.0, 15.0], dtype=object), array([34.0, 10.0], dtype=object), array([31.0, 11.0], dtype=object), array([32.0, 15.0], dtype=object), array([32.0, 12.0], dtype=object), array([31.0, 20.0], dtype=object)]\n",
            "i :  2  points :  [array([72.0, 97.0], dtype=object), array([88.0, 88.0], dtype=object), array([81.0, 96.0], dtype=object), array([90.0, 86.0], dtype=object), array([83.0, 95.0], dtype=object), array([89.0, 90.0], dtype=object), array([90.0, 87.0], dtype=object), array([84.0, 63.0], dtype=object), array([78.0, 89.0], dtype=object), array([75.0, 81.0], dtype=object), array([78.0, 85.0], dtype=object), array([86.0, 80.0], dtype=object), array([76.0, 89.0], dtype=object), array([92.0, 80.0], dtype=object), array([89.0, 80.0], dtype=object), array([83.0, 88.0], dtype=object), array([80.0, 92.0], dtype=object), array([96.0, 79.0], dtype=object), array([75.0, 87.0], dtype=object), array([91.0, 90.0], dtype=object), array([79.0, 91.0], dtype=object), array([76.0, 79.0], dtype=object), array([92.0, 84.0], dtype=object), array([70.0, 94.0], dtype=object), array([75.0, 90.0], dtype=object), array([87.0, 69.0], dtype=object), array([84.0, 89.0], dtype=object), array([83.0, 90.0], dtype=object), array([80.0, 83.0], dtype=object), array([84.0, 84.0], dtype=object), array([84.0, 86.0], dtype=object), array([75.0, 91.0], dtype=object), array([91.0, 80.0], dtype=object), array([84.0, 80.0], dtype=object), array([88.0, 87.0], dtype=object), array([78.0, 69.0], dtype=object), array([75.0, 90.0], dtype=object), array([79.0, 77.0], dtype=object), array([78.0, 86.0], dtype=object), array([87.0, 69.0], dtype=object), array([73.0, 87.0], dtype=object), array([87.0, 75.0], dtype=object), array([92.0, 80.0], dtype=object), array([77.0, 90.0], dtype=object), array([90.0, 87.0], dtype=object), array([78.0, 88.0], dtype=object), array([84.0, 87.0], dtype=object), array([78.0, 92.0], dtype=object), array([79.0, 88.0], dtype=object), array([78.0, 92.0], dtype=object), array([76.0, 76.0], dtype=object), array([76.0, 77.0], dtype=object), array([78.0, 81.0], dtype=object), array([89.0, 84.0], dtype=object), array([83.0, 76.0], dtype=object), array([93.0, 80.0], dtype=object), array([94.0, 78.0], dtype=object), array([75.0, 83.0], dtype=object), array([89.0, 77.0], dtype=object), array([85.0, 93.0], dtype=object), array([83.0, 87.0], dtype=object), array([80.0, 90.0], dtype=object), array([76.0, 91.0], dtype=object), array([85.0, 86.0], dtype=object), array([76.0, 86.0], dtype=object), array([85.0, 80.0], dtype=object), array([86.0, 83.0], dtype=object), array([87.0, 79.0], dtype=object), array([90.0, 82.0], dtype=object), array([79.0, 85.0], dtype=object), array([78.0, 78.0], dtype=object), array([92.0, 82.0], dtype=object), array([83.0, 76.0], dtype=object), array([74.0, 84.0], dtype=object), array([85.0, 88.0], dtype=object), array([73.0, 86.0], dtype=object), array([73.0, 86.0], dtype=object), array([91.0, 82.0], dtype=object), array([89.0, 79.0], dtype=object), array([77.0, 78.0], dtype=object), array([86.0, 78.0], dtype=object), array([84.0, 80.0], dtype=object), array([75.0, 89.0], dtype=object), array([84.0, 80.0], dtype=object), array([75.0, 86.0], dtype=object), array([92.0, 82.0], dtype=object), array([89.0, 83.0], dtype=object), array([75.0, 87.0], dtype=object), array([90.0, 83.0], dtype=object), array([92.0, 76.0], dtype=object), array([79.0, 82.0], dtype=object), array([78.0, 90.0], dtype=object), array([83.0, 85.0], dtype=object), array([85.0, 88.0], dtype=object), array([79.0, 85.0], dtype=object), array([84.0, 76.0], dtype=object), array([83.0, 84.0], dtype=object), array([76.0, 78.0], dtype=object), array([82.0, 68.0], dtype=object), array([79.0, 75.0], dtype=object), array([90.0, 79.0], dtype=object), array([88.0, 86.0], dtype=object), array([89.0, 75.0], dtype=object), array([86.0, 80.0], dtype=object), array([78.0, 82.0], dtype=object), array([85.0, 78.0], dtype=object), array([82.0, 84.0], dtype=object), array([85.0, 68.0], dtype=object), array([95.0, 82.0], dtype=object), array([70.0, 89.0], dtype=object), array([80.0, 77.0], dtype=object), array([86.0, 72.0], dtype=object), array([81.0, 65.0], dtype=object), array([86.0, 83.0], dtype=object), array([86.0, 81.0], dtype=object), array([82.0, 79.0], dtype=object), array([83.0, 83.0], dtype=object), array([76.0, 82.0], dtype=object), array([76.0, 88.0], dtype=object), array([79.0, 85.0], dtype=object), array([87.0, 77.0], dtype=object)]\n",
            "3단계 끝 : 각 군집의 중심(C)을 새롭게 계산하기+++++++++++++++++++++++++++++++++++++++++++++++\n",
            "clusters :  [2. 2. 2. 1. 2. 2. 2. 2. 2. 0. 2. 1. 2. 2. 2. 0. 2. 1. 2. 2. 1. 1. 2. 2.\n",
            " 2. 0. 1. 1. 0. 2. 1. 2. 2. 2. 2. 2. 2. 2. 2. 2. 2. 2. 2. 0. 2. 2. 0. 2.\n",
            " 2. 2. 1. 2. 0. 2. 2. 2. 0. 2. 2. 0. 2. 0. 0. 2. 2. 2. 1. 2. 2. 0. 2. 2.\n",
            " 0. 2. 2. 2. 2. 2. 2. 2. 2. 2. 0. 2. 0. 2. 0. 2. 2. 0. 2. 0. 0. 2. 2. 2.\n",
            " 0. 2. 2. 1. 1. 2. 2. 2. 2. 2. 0. 0. 2. 2. 2. 2. 1. 2. 2. 2. 2. 2. 2. 2.\n",
            " 2. 2. 0. 1. 0. 1. 0. 2. 0. 2. 2. 1. 2. 1. 2. 2. 0. 2. 2. 0. 2. 2. 2. 0.\n",
            " 0. 2. 0. 2. 2. 0. 1. 1. 2. 2. 2. 2. 2. 2. 2. 2. 1. 2. 2. 2. 1. 1. 2. 2.\n",
            " 2. 2. 2. 1. 0. 2. 1. 0. 1. 0. 2. 0. 2. 1. 2. 0. 1. 1. 1. 2. 0. 0. 1. 2.\n",
            " 2. 2. 2. 2. 0. 2. 2. 2.]\n",
            " 2단계 끝 : 각 표본에 가까운 중심에 할당하기==================================\n",
            "i :  0  points :  [array([66.0, 53.0], dtype=object), array([65.0, 58.0], dtype=object), array([66.0, 68.0], dtype=object), array([74.0, 62.0], dtype=object), array([65.0, 59.0], dtype=object), array([75.0, 71.0], dtype=object), array([71.0, 66.0], dtype=object), array([55.0, 90.0], dtype=object), array([69.0, 64.0], dtype=object), array([74.0, 62.0], dtype=object), array([71.0, 69.0], dtype=object), array([73.0, 57.0], dtype=object), array([71.0, 70.0], dtype=object), array([61.0, 60.0], dtype=object), array([60.0, 58.0], dtype=object), array([65.0, 67.0], dtype=object), array([66.0, 63.0], dtype=object), array([61.0, 79.0], dtype=object), array([69.0, 64.0], dtype=object), array([77.0, 59.0], dtype=object), array([76.0, 54.0], dtype=object), array([67.0, 51.0], dtype=object), array([69.0, 58.0], dtype=object), array([68.0, 75.0], dtype=object), array([55.0, 59.0], dtype=object), array([53.0, 64.0], dtype=object), array([67.0, 47.0], dtype=object), array([65.0, 42.0], dtype=object), array([75.0, 59.0], dtype=object), array([67.0, 59.0], dtype=object), array([66.0, 63.0], dtype=object), array([76.0, 63.0], dtype=object), array([66.0, 66.0], dtype=object), array([74.0, 64.0], dtype=object), array([58.0, 84.0], dtype=object), array([56.0, 79.0], dtype=object), array([74.0, 60.0], dtype=object), array([81.0, 65.0], dtype=object), array([67.0, 51.0], dtype=object), array([63.0, 55.0], dtype=object)]\n",
            "i :  1  points :  [array([43.0, 18.0], dtype=object), array([41.0, 12.0], dtype=object), array([43.0, 30.0], dtype=object), array([38.0, 13.0], dtype=object), array([35.0, 17.0], dtype=object), array([39.0, 26.0], dtype=object), array([41.0, 12.0], dtype=object), array([41.0, 10.0], dtype=object), array([39.0, 16.0], dtype=object), array([41.0, 23.0], dtype=object), array([45.0, 11.0], dtype=object), array([32.0, 27.0], dtype=object), array([41.0, 15.0], dtype=object), array([37.0, 12.0], dtype=object), array([34.0, 12.0], dtype=object), array([34.0, 10.0], dtype=object), array([43.0, 16.0], dtype=object), array([30.0, 19.0], dtype=object), array([36.0, 15.0], dtype=object), array([32.0, 11.0], dtype=object), array([39.0, 19.0], dtype=object), array([39.0, 19.0], dtype=object), array([31.0, 15.0], dtype=object), array([34.0, 10.0], dtype=object), array([31.0, 11.0], dtype=object), array([32.0, 15.0], dtype=object), array([45.0, 15.0], dtype=object), array([45.0, 20.0], dtype=object), array([32.0, 12.0], dtype=object), array([31.0, 20.0], dtype=object)]\n",
            "i :  2  points :  [array([72.0, 97.0], dtype=object), array([88.0, 88.0], dtype=object), array([81.0, 96.0], dtype=object), array([90.0, 86.0], dtype=object), array([83.0, 95.0], dtype=object), array([89.0, 90.0], dtype=object), array([90.0, 87.0], dtype=object), array([84.0, 63.0], dtype=object), array([78.0, 89.0], dtype=object), array([75.0, 81.0], dtype=object), array([78.0, 85.0], dtype=object), array([86.0, 80.0], dtype=object), array([76.0, 89.0], dtype=object), array([92.0, 80.0], dtype=object), array([89.0, 80.0], dtype=object), array([83.0, 88.0], dtype=object), array([80.0, 92.0], dtype=object), array([96.0, 79.0], dtype=object), array([70.0, 84.0], dtype=object), array([75.0, 87.0], dtype=object), array([91.0, 90.0], dtype=object), array([79.0, 91.0], dtype=object), array([76.0, 79.0], dtype=object), array([92.0, 84.0], dtype=object), array([70.0, 94.0], dtype=object), array([75.0, 90.0], dtype=object), array([70.0, 85.0], dtype=object), array([87.0, 69.0], dtype=object), array([84.0, 89.0], dtype=object), array([83.0, 90.0], dtype=object), array([80.0, 83.0], dtype=object), array([84.0, 84.0], dtype=object), array([84.0, 86.0], dtype=object), array([75.0, 91.0], dtype=object), array([91.0, 80.0], dtype=object), array([84.0, 80.0], dtype=object), array([88.0, 87.0], dtype=object), array([72.0, 77.0], dtype=object), array([78.0, 69.0], dtype=object), array([75.0, 90.0], dtype=object), array([79.0, 77.0], dtype=object), array([69.0, 84.0], dtype=object), array([78.0, 86.0], dtype=object), array([87.0, 69.0], dtype=object), array([73.0, 87.0], dtype=object), array([87.0, 75.0], dtype=object), array([92.0, 80.0], dtype=object), array([77.0, 90.0], dtype=object), array([90.0, 87.0], dtype=object), array([78.0, 88.0], dtype=object), array([84.0, 87.0], dtype=object), array([78.0, 92.0], dtype=object), array([79.0, 88.0], dtype=object), array([78.0, 92.0], dtype=object), array([76.0, 76.0], dtype=object), array([76.0, 77.0], dtype=object), array([78.0, 81.0], dtype=object), array([89.0, 84.0], dtype=object), array([83.0, 76.0], dtype=object), array([93.0, 80.0], dtype=object), array([94.0, 78.0], dtype=object), array([75.0, 83.0], dtype=object), array([89.0, 77.0], dtype=object), array([85.0, 93.0], dtype=object), array([83.0, 87.0], dtype=object), array([80.0, 90.0], dtype=object), array([76.0, 91.0], dtype=object), array([85.0, 86.0], dtype=object), array([76.0, 86.0], dtype=object), array([85.0, 80.0], dtype=object), array([86.0, 83.0], dtype=object), array([87.0, 79.0], dtype=object), array([90.0, 82.0], dtype=object), array([79.0, 85.0], dtype=object), array([78.0, 78.0], dtype=object), array([92.0, 82.0], dtype=object), array([83.0, 76.0], dtype=object), array([74.0, 84.0], dtype=object), array([85.0, 88.0], dtype=object), array([73.0, 86.0], dtype=object), array([73.0, 86.0], dtype=object), array([91.0, 82.0], dtype=object), array([89.0, 79.0], dtype=object), array([77.0, 78.0], dtype=object), array([86.0, 78.0], dtype=object), array([84.0, 80.0], dtype=object), array([66.0, 84.0], dtype=object), array([75.0, 89.0], dtype=object), array([65.0, 89.0], dtype=object), array([64.0, 89.0], dtype=object), array([69.0, 85.0], dtype=object), array([84.0, 80.0], dtype=object), array([75.0, 86.0], dtype=object), array([92.0, 82.0], dtype=object), array([89.0, 83.0], dtype=object), array([75.0, 87.0], dtype=object), array([90.0, 83.0], dtype=object), array([92.0, 76.0], dtype=object), array([79.0, 82.0], dtype=object), array([78.0, 90.0], dtype=object), array([83.0, 85.0], dtype=object), array([85.0, 88.0], dtype=object), array([79.0, 85.0], dtype=object), array([84.0, 76.0], dtype=object), array([66.0, 81.0], dtype=object), array([83.0, 84.0], dtype=object), array([76.0, 78.0], dtype=object), array([82.0, 68.0], dtype=object), array([79.0, 75.0], dtype=object), array([90.0, 79.0], dtype=object), array([88.0, 86.0], dtype=object), array([89.0, 75.0], dtype=object), array([86.0, 80.0], dtype=object), array([78.0, 82.0], dtype=object), array([85.0, 78.0], dtype=object), array([82.0, 84.0], dtype=object), array([85.0, 68.0], dtype=object), array([95.0, 82.0], dtype=object), array([70.0, 89.0], dtype=object), array([80.0, 77.0], dtype=object), array([86.0, 72.0], dtype=object), array([71.0, 82.0], dtype=object), array([86.0, 83.0], dtype=object), array([86.0, 81.0], dtype=object), array([82.0, 79.0], dtype=object), array([83.0, 83.0], dtype=object), array([76.0, 82.0], dtype=object), array([76.0, 88.0], dtype=object), array([79.0, 85.0], dtype=object), array([87.0, 77.0], dtype=object)]\n",
            "3단계 끝 : 각 군집의 중심(C)을 새롭게 계산하기+++++++++++++++++++++++++++++++++++++++++++++++\n",
            "clusters :  [2. 2. 2. 1. 2. 2. 2. 2. 0. 0. 2. 1. 2. 2. 2. 0. 2. 1. 2. 2. 1. 1. 2. 2.\n",
            " 2. 0. 1. 1. 0. 2. 1. 2. 2. 2. 2. 2. 2. 2. 2. 2. 2. 2. 2. 0. 2. 2. 0. 2.\n",
            " 2. 2. 1. 2. 0. 2. 0. 2. 0. 2. 2. 0. 2. 0. 0. 2. 2. 2. 1. 2. 2. 0. 2. 2.\n",
            " 0. 2. 2. 2. 2. 2. 2. 2. 2. 2. 0. 2. 0. 2. 0. 2. 2. 0. 2. 0. 0. 2. 2. 2.\n",
            " 0. 2. 2. 1. 1. 2. 2. 2. 2. 2. 0. 0. 2. 2. 2. 2. 1. 2. 2. 2. 2. 2. 2. 2.\n",
            " 2. 2. 0. 1. 0. 1. 0. 2. 0. 2. 2. 1. 2. 1. 2. 2. 0. 2. 2. 0. 2. 2. 2. 0.\n",
            " 0. 2. 0. 2. 2. 0. 1. 1. 2. 2. 2. 0. 2. 2. 2. 2. 1. 2. 2. 2. 1. 1. 2. 2.\n",
            " 2. 2. 2. 1. 0. 2. 1. 0. 1. 0. 2. 0. 2. 1. 2. 0. 1. 1. 1. 2. 0. 0. 1. 2.\n",
            " 2. 2. 2. 2. 0. 2. 2. 2.]\n",
            " 2단계 끝 : 각 표본에 가까운 중심에 할당하기==================================\n",
            "i :  0  points :  [array([84.0, 63.0], dtype=object), array([66.0, 53.0], dtype=object), array([65.0, 58.0], dtype=object), array([66.0, 68.0], dtype=object), array([74.0, 62.0], dtype=object), array([65.0, 59.0], dtype=object), array([75.0, 71.0], dtype=object), array([71.0, 66.0], dtype=object), array([78.0, 69.0], dtype=object), array([55.0, 90.0], dtype=object), array([69.0, 64.0], dtype=object), array([74.0, 62.0], dtype=object), array([71.0, 69.0], dtype=object), array([73.0, 57.0], dtype=object), array([71.0, 70.0], dtype=object), array([61.0, 60.0], dtype=object), array([60.0, 58.0], dtype=object), array([65.0, 67.0], dtype=object), array([66.0, 63.0], dtype=object), array([61.0, 79.0], dtype=object), array([69.0, 64.0], dtype=object), array([77.0, 59.0], dtype=object), array([76.0, 54.0], dtype=object), array([67.0, 51.0], dtype=object), array([69.0, 58.0], dtype=object), array([68.0, 75.0], dtype=object), array([55.0, 59.0], dtype=object), array([53.0, 64.0], dtype=object), array([67.0, 47.0], dtype=object), array([65.0, 42.0], dtype=object), array([75.0, 59.0], dtype=object), array([67.0, 59.0], dtype=object), array([66.0, 63.0], dtype=object), array([76.0, 63.0], dtype=object), array([66.0, 81.0], dtype=object), array([66.0, 66.0], dtype=object), array([74.0, 64.0], dtype=object), array([58.0, 84.0], dtype=object), array([56.0, 79.0], dtype=object), array([74.0, 60.0], dtype=object), array([81.0, 65.0], dtype=object), array([67.0, 51.0], dtype=object), array([63.0, 55.0], dtype=object)]\n",
            "i :  1  points :  [array([43.0, 18.0], dtype=object), array([41.0, 12.0], dtype=object), array([43.0, 30.0], dtype=object), array([38.0, 13.0], dtype=object), array([35.0, 17.0], dtype=object), array([39.0, 26.0], dtype=object), array([41.0, 12.0], dtype=object), array([41.0, 10.0], dtype=object), array([39.0, 16.0], dtype=object), array([41.0, 23.0], dtype=object), array([45.0, 11.0], dtype=object), array([32.0, 27.0], dtype=object), array([41.0, 15.0], dtype=object), array([37.0, 12.0], dtype=object), array([34.0, 12.0], dtype=object), array([34.0, 10.0], dtype=object), array([43.0, 16.0], dtype=object), array([30.0, 19.0], dtype=object), array([36.0, 15.0], dtype=object), array([32.0, 11.0], dtype=object), array([39.0, 19.0], dtype=object), array([39.0, 19.0], dtype=object), array([31.0, 15.0], dtype=object), array([34.0, 10.0], dtype=object), array([31.0, 11.0], dtype=object), array([32.0, 15.0], dtype=object), array([45.0, 15.0], dtype=object), array([45.0, 20.0], dtype=object), array([32.0, 12.0], dtype=object), array([31.0, 20.0], dtype=object)]\n",
            "i :  2  points :  [array([72.0, 97.0], dtype=object), array([88.0, 88.0], dtype=object), array([81.0, 96.0], dtype=object), array([90.0, 86.0], dtype=object), array([83.0, 95.0], dtype=object), array([89.0, 90.0], dtype=object), array([90.0, 87.0], dtype=object), array([78.0, 89.0], dtype=object), array([75.0, 81.0], dtype=object), array([78.0, 85.0], dtype=object), array([86.0, 80.0], dtype=object), array([76.0, 89.0], dtype=object), array([92.0, 80.0], dtype=object), array([89.0, 80.0], dtype=object), array([83.0, 88.0], dtype=object), array([80.0, 92.0], dtype=object), array([96.0, 79.0], dtype=object), array([70.0, 84.0], dtype=object), array([75.0, 87.0], dtype=object), array([91.0, 90.0], dtype=object), array([79.0, 91.0], dtype=object), array([76.0, 79.0], dtype=object), array([92.0, 84.0], dtype=object), array([70.0, 94.0], dtype=object), array([75.0, 90.0], dtype=object), array([70.0, 85.0], dtype=object), array([87.0, 69.0], dtype=object), array([84.0, 89.0], dtype=object), array([83.0, 90.0], dtype=object), array([80.0, 83.0], dtype=object), array([84.0, 84.0], dtype=object), array([84.0, 86.0], dtype=object), array([75.0, 91.0], dtype=object), array([91.0, 80.0], dtype=object), array([84.0, 80.0], dtype=object), array([88.0, 87.0], dtype=object), array([72.0, 77.0], dtype=object), array([75.0, 90.0], dtype=object), array([79.0, 77.0], dtype=object), array([69.0, 84.0], dtype=object), array([78.0, 86.0], dtype=object), array([87.0, 69.0], dtype=object), array([73.0, 87.0], dtype=object), array([87.0, 75.0], dtype=object), array([92.0, 80.0], dtype=object), array([77.0, 90.0], dtype=object), array([90.0, 87.0], dtype=object), array([78.0, 88.0], dtype=object), array([84.0, 87.0], dtype=object), array([78.0, 92.0], dtype=object), array([79.0, 88.0], dtype=object), array([78.0, 92.0], dtype=object), array([76.0, 76.0], dtype=object), array([76.0, 77.0], dtype=object), array([78.0, 81.0], dtype=object), array([89.0, 84.0], dtype=object), array([83.0, 76.0], dtype=object), array([93.0, 80.0], dtype=object), array([94.0, 78.0], dtype=object), array([75.0, 83.0], dtype=object), array([89.0, 77.0], dtype=object), array([85.0, 93.0], dtype=object), array([83.0, 87.0], dtype=object), array([80.0, 90.0], dtype=object), array([76.0, 91.0], dtype=object), array([85.0, 86.0], dtype=object), array([76.0, 86.0], dtype=object), array([85.0, 80.0], dtype=object), array([86.0, 83.0], dtype=object), array([87.0, 79.0], dtype=object), array([90.0, 82.0], dtype=object), array([79.0, 85.0], dtype=object), array([78.0, 78.0], dtype=object), array([92.0, 82.0], dtype=object), array([83.0, 76.0], dtype=object), array([74.0, 84.0], dtype=object), array([85.0, 88.0], dtype=object), array([73.0, 86.0], dtype=object), array([73.0, 86.0], dtype=object), array([91.0, 82.0], dtype=object), array([89.0, 79.0], dtype=object), array([77.0, 78.0], dtype=object), array([86.0, 78.0], dtype=object), array([84.0, 80.0], dtype=object), array([66.0, 84.0], dtype=object), array([75.0, 89.0], dtype=object), array([65.0, 89.0], dtype=object), array([64.0, 89.0], dtype=object), array([69.0, 85.0], dtype=object), array([84.0, 80.0], dtype=object), array([75.0, 86.0], dtype=object), array([92.0, 82.0], dtype=object), array([89.0, 83.0], dtype=object), array([75.0, 87.0], dtype=object), array([90.0, 83.0], dtype=object), array([92.0, 76.0], dtype=object), array([79.0, 82.0], dtype=object), array([78.0, 90.0], dtype=object), array([83.0, 85.0], dtype=object), array([85.0, 88.0], dtype=object), array([79.0, 85.0], dtype=object), array([84.0, 76.0], dtype=object), array([83.0, 84.0], dtype=object), array([76.0, 78.0], dtype=object), array([82.0, 68.0], dtype=object), array([79.0, 75.0], dtype=object), array([90.0, 79.0], dtype=object), array([88.0, 86.0], dtype=object), array([89.0, 75.0], dtype=object), array([86.0, 80.0], dtype=object), array([78.0, 82.0], dtype=object), array([85.0, 78.0], dtype=object), array([82.0, 84.0], dtype=object), array([85.0, 68.0], dtype=object), array([95.0, 82.0], dtype=object), array([70.0, 89.0], dtype=object), array([80.0, 77.0], dtype=object), array([86.0, 72.0], dtype=object), array([71.0, 82.0], dtype=object), array([86.0, 83.0], dtype=object), array([86.0, 81.0], dtype=object), array([82.0, 79.0], dtype=object), array([83.0, 83.0], dtype=object), array([76.0, 82.0], dtype=object), array([76.0, 88.0], dtype=object), array([79.0, 85.0], dtype=object), array([87.0, 77.0], dtype=object)]\n",
            "3단계 끝 : 각 군집의 중심(C)을 새롭게 계산하기+++++++++++++++++++++++++++++++++++++++++++++++\n",
            "clusters :  [2. 2. 2. 1. 2. 2. 2. 2. 0. 0. 2. 1. 2. 2. 2. 0. 2. 1. 2. 2. 1. 1. 2. 2.\n",
            " 2. 0. 1. 1. 0. 2. 1. 2. 2. 2. 2. 2. 2. 2. 2. 2. 2. 2. 2. 0. 2. 2. 0. 2.\n",
            " 2. 2. 1. 2. 0. 2. 0. 2. 0. 2. 2. 0. 2. 0. 0. 2. 2. 2. 1. 2. 2. 0. 2. 2.\n",
            " 0. 2. 2. 2. 2. 2. 2. 2. 2. 2. 0. 2. 0. 2. 0. 2. 2. 0. 2. 0. 0. 2. 2. 2.\n",
            " 0. 2. 2. 1. 1. 2. 2. 2. 2. 2. 0. 0. 2. 2. 2. 2. 1. 2. 2. 2. 2. 2. 2. 2.\n",
            " 2. 2. 0. 1. 0. 1. 0. 2. 0. 2. 2. 1. 2. 1. 2. 2. 0. 2. 2. 0. 2. 2. 2. 0.\n",
            " 0. 2. 0. 2. 2. 0. 1. 1. 2. 2. 2. 0. 2. 2. 2. 2. 1. 2. 2. 2. 1. 1. 2. 2.\n",
            " 2. 2. 2. 1. 0. 2. 1. 0. 1. 0. 2. 0. 2. 1. 2. 0. 1. 1. 1. 2. 0. 0. 1. 2.\n",
            " 2. 2. 2. 2. 0. 2. 2. 2.]\n",
            " 2단계 끝 : 각 표본에 가까운 중심에 할당하기==================================\n",
            "i :  0  points :  [array([84.0, 63.0], dtype=object), array([66.0, 53.0], dtype=object), array([65.0, 58.0], dtype=object), array([66.0, 68.0], dtype=object), array([74.0, 62.0], dtype=object), array([65.0, 59.0], dtype=object), array([75.0, 71.0], dtype=object), array([71.0, 66.0], dtype=object), array([78.0, 69.0], dtype=object), array([55.0, 90.0], dtype=object), array([69.0, 64.0], dtype=object), array([74.0, 62.0], dtype=object), array([71.0, 69.0], dtype=object), array([73.0, 57.0], dtype=object), array([71.0, 70.0], dtype=object), array([61.0, 60.0], dtype=object), array([60.0, 58.0], dtype=object), array([65.0, 67.0], dtype=object), array([66.0, 63.0], dtype=object), array([61.0, 79.0], dtype=object), array([69.0, 64.0], dtype=object), array([77.0, 59.0], dtype=object), array([76.0, 54.0], dtype=object), array([67.0, 51.0], dtype=object), array([69.0, 58.0], dtype=object), array([68.0, 75.0], dtype=object), array([55.0, 59.0], dtype=object), array([53.0, 64.0], dtype=object), array([67.0, 47.0], dtype=object), array([65.0, 42.0], dtype=object), array([75.0, 59.0], dtype=object), array([67.0, 59.0], dtype=object), array([66.0, 63.0], dtype=object), array([76.0, 63.0], dtype=object), array([66.0, 81.0], dtype=object), array([66.0, 66.0], dtype=object), array([74.0, 64.0], dtype=object), array([58.0, 84.0], dtype=object), array([56.0, 79.0], dtype=object), array([74.0, 60.0], dtype=object), array([81.0, 65.0], dtype=object), array([67.0, 51.0], dtype=object), array([63.0, 55.0], dtype=object)]\n",
            "i :  1  points :  [array([43.0, 18.0], dtype=object), array([41.0, 12.0], dtype=object), array([43.0, 30.0], dtype=object), array([38.0, 13.0], dtype=object), array([35.0, 17.0], dtype=object), array([39.0, 26.0], dtype=object), array([41.0, 12.0], dtype=object), array([41.0, 10.0], dtype=object), array([39.0, 16.0], dtype=object), array([41.0, 23.0], dtype=object), array([45.0, 11.0], dtype=object), array([32.0, 27.0], dtype=object), array([41.0, 15.0], dtype=object), array([37.0, 12.0], dtype=object), array([34.0, 12.0], dtype=object), array([34.0, 10.0], dtype=object), array([43.0, 16.0], dtype=object), array([30.0, 19.0], dtype=object), array([36.0, 15.0], dtype=object), array([32.0, 11.0], dtype=object), array([39.0, 19.0], dtype=object), array([39.0, 19.0], dtype=object), array([31.0, 15.0], dtype=object), array([34.0, 10.0], dtype=object), array([31.0, 11.0], dtype=object), array([32.0, 15.0], dtype=object), array([45.0, 15.0], dtype=object), array([45.0, 20.0], dtype=object), array([32.0, 12.0], dtype=object), array([31.0, 20.0], dtype=object)]\n",
            "i :  2  points :  [array([72.0, 97.0], dtype=object), array([88.0, 88.0], dtype=object), array([81.0, 96.0], dtype=object), array([90.0, 86.0], dtype=object), array([83.0, 95.0], dtype=object), array([89.0, 90.0], dtype=object), array([90.0, 87.0], dtype=object), array([78.0, 89.0], dtype=object), array([75.0, 81.0], dtype=object), array([78.0, 85.0], dtype=object), array([86.0, 80.0], dtype=object), array([76.0, 89.0], dtype=object), array([92.0, 80.0], dtype=object), array([89.0, 80.0], dtype=object), array([83.0, 88.0], dtype=object), array([80.0, 92.0], dtype=object), array([96.0, 79.0], dtype=object), array([70.0, 84.0], dtype=object), array([75.0, 87.0], dtype=object), array([91.0, 90.0], dtype=object), array([79.0, 91.0], dtype=object), array([76.0, 79.0], dtype=object), array([92.0, 84.0], dtype=object), array([70.0, 94.0], dtype=object), array([75.0, 90.0], dtype=object), array([70.0, 85.0], dtype=object), array([87.0, 69.0], dtype=object), array([84.0, 89.0], dtype=object), array([83.0, 90.0], dtype=object), array([80.0, 83.0], dtype=object), array([84.0, 84.0], dtype=object), array([84.0, 86.0], dtype=object), array([75.0, 91.0], dtype=object), array([91.0, 80.0], dtype=object), array([84.0, 80.0], dtype=object), array([88.0, 87.0], dtype=object), array([72.0, 77.0], dtype=object), array([75.0, 90.0], dtype=object), array([79.0, 77.0], dtype=object), array([69.0, 84.0], dtype=object), array([78.0, 86.0], dtype=object), array([87.0, 69.0], dtype=object), array([73.0, 87.0], dtype=object), array([87.0, 75.0], dtype=object), array([92.0, 80.0], dtype=object), array([77.0, 90.0], dtype=object), array([90.0, 87.0], dtype=object), array([78.0, 88.0], dtype=object), array([84.0, 87.0], dtype=object), array([78.0, 92.0], dtype=object), array([79.0, 88.0], dtype=object), array([78.0, 92.0], dtype=object), array([76.0, 76.0], dtype=object), array([76.0, 77.0], dtype=object), array([78.0, 81.0], dtype=object), array([89.0, 84.0], dtype=object), array([83.0, 76.0], dtype=object), array([93.0, 80.0], dtype=object), array([94.0, 78.0], dtype=object), array([75.0, 83.0], dtype=object), array([89.0, 77.0], dtype=object), array([85.0, 93.0], dtype=object), array([83.0, 87.0], dtype=object), array([80.0, 90.0], dtype=object), array([76.0, 91.0], dtype=object), array([85.0, 86.0], dtype=object), array([76.0, 86.0], dtype=object), array([85.0, 80.0], dtype=object), array([86.0, 83.0], dtype=object), array([87.0, 79.0], dtype=object), array([90.0, 82.0], dtype=object), array([79.0, 85.0], dtype=object), array([78.0, 78.0], dtype=object), array([92.0, 82.0], dtype=object), array([83.0, 76.0], dtype=object), array([74.0, 84.0], dtype=object), array([85.0, 88.0], dtype=object), array([73.0, 86.0], dtype=object), array([73.0, 86.0], dtype=object), array([91.0, 82.0], dtype=object), array([89.0, 79.0], dtype=object), array([77.0, 78.0], dtype=object), array([86.0, 78.0], dtype=object), array([84.0, 80.0], dtype=object), array([66.0, 84.0], dtype=object), array([75.0, 89.0], dtype=object), array([65.0, 89.0], dtype=object), array([64.0, 89.0], dtype=object), array([69.0, 85.0], dtype=object), array([84.0, 80.0], dtype=object), array([75.0, 86.0], dtype=object), array([92.0, 82.0], dtype=object), array([89.0, 83.0], dtype=object), array([75.0, 87.0], dtype=object), array([90.0, 83.0], dtype=object), array([92.0, 76.0], dtype=object), array([79.0, 82.0], dtype=object), array([78.0, 90.0], dtype=object), array([83.0, 85.0], dtype=object), array([85.0, 88.0], dtype=object), array([79.0, 85.0], dtype=object), array([84.0, 76.0], dtype=object), array([83.0, 84.0], dtype=object), array([76.0, 78.0], dtype=object), array([82.0, 68.0], dtype=object), array([79.0, 75.0], dtype=object), array([90.0, 79.0], dtype=object), array([88.0, 86.0], dtype=object), array([89.0, 75.0], dtype=object), array([86.0, 80.0], dtype=object), array([78.0, 82.0], dtype=object), array([85.0, 78.0], dtype=object), array([82.0, 84.0], dtype=object), array([85.0, 68.0], dtype=object), array([95.0, 82.0], dtype=object), array([70.0, 89.0], dtype=object), array([80.0, 77.0], dtype=object), array([86.0, 72.0], dtype=object), array([71.0, 82.0], dtype=object), array([86.0, 83.0], dtype=object), array([86.0, 81.0], dtype=object), array([82.0, 79.0], dtype=object), array([83.0, 83.0], dtype=object), array([76.0, 82.0], dtype=object), array([76.0, 88.0], dtype=object), array([79.0, 85.0], dtype=object), array([87.0, 77.0], dtype=object)]\n",
            "3단계 끝 : 각 군집의 중심(C)을 새롭게 계산하기+++++++++++++++++++++++++++++++++++++++++++++++\n"
          ],
          "name": "stdout"
        }
      ]
    },
    {
      "cell_type": "markdown",
      "metadata": {
        "id": "utbuUs5C-rKH"
      },
      "source": [
        "### 5.4 문제 해결하기 \n"
      ]
    },
    {
      "cell_type": "markdown",
      "metadata": {
        "id": "atN9cfSzAfzW"
      },
      "source": [
        "- 1번 군집\n",
        "  - 200명의 선수(X)중에서 군집화 결과가 0번에 해당하는 선수(1번 군집)만을 찾아서 <br>\n",
        "  그 선수의 체력(X[clusters == 0,0])을 산점도의 x 좌표로, <br>\n",
        "  드리블(X[clusters == 0,1])을 y 좌표로 지정해서 붉은색으로 나타냄 \n",
        "\n",
        "- 군집의 중심(C)을 x축 값(C[:, 0))과 y축 값(C[:, 1])을 검은색으로 나타냄 "
      ]
    },
    {
      "cell_type": "code",
      "metadata": {
        "id": "VsnhAuBM-2UA",
        "colab": {
          "base_uri": "https://localhost:8080/",
          "height": 295
        },
        "outputId": "79ad8192-3f03-479f-e13e-3453ef4d0246"
      },
      "source": [
        "# 군집화 결과 시각화하기\n",
        "import matplotlib.pyplot as plt\n",
        "\n",
        "# 그래프 그리기 \n",
        "plt.title('Stamina & Dribbling')\n",
        "plt.xlabel('Stamina')\n",
        "plt.ylabel('Dribbling')\n",
        "# 1번 군집\n",
        "plt.scatter(X[clusters == 0,0], X[clusters == 0,1], s=50, c='red', marker='o', edgecolor='black', label='A')\n",
        "\n",
        "# 2번 군집\n",
        "plt.scatter(X[clusters == 1,0], X[clusters == 1,1], s=50, c='yellow', marker='x', edgecolor='black', label='B')\n",
        "\n",
        "# 3번 군집\n",
        "plt.scatter(X[clusters == 2,0], X[clusters == 2,1], s=50, c='blue', marker='^', edgecolor='black', label='C')\n",
        "\n",
        "# 군집의 중심 좌표들\n",
        "plt.scatter(C[:, 0], C[:, 1], s=250, marker='*', c='black', edgecolor='black', label='Centroids')\n",
        "\n",
        "plt.legend()\n",
        "plt.grid()\n",
        "plt.show()"
      ],
      "execution_count": 23,
      "outputs": [
        {
          "output_type": "display_data",
          "data": {
            "image/png": "[encoded data removed]",
            "text/plain": [
              "<Figure size 432x288 with 1 Axes>"
            ]
          },
          "metadata": {
            "tags": [],
            "needs_background": "light"
          }
        }
      ]
    },
    {
      "cell_type": "code",
      "metadata": {
        "id": "O0D6pKLjp9Cd",
        "colab": {
          "base_uri": "https://localhost:8080/",
          "height": 266
        },
        "outputId": "26d7abda-9e0d-44e0-8de0-83f27284314a"
      },
      "source": [
        "# K-평균 군집화 알고리즘 적용하기 - 각 군집의 중심을 새롭게 계산하기\n",
        "\n",
        "import pandas as pd\n",
        "\n",
        "\n",
        "fifa2019 = pd.read_csv('fifa2019.csv')\n",
        "df = pd.DataFrame.copy(fifa2019.sort_values(by = 'Overall', ascending = False ).head(200))\n",
        "test_features=['Name','Stamina','Dribbling','ShortPassing','Penalties']\n",
        "test_df= pd.DataFrame(df , columns = test_features)\n",
        "\n",
        "\n",
        "# 학습 데이터 준비하기\n",
        "import numpy as np \n",
        "XY = np.array(test_df)\n",
        "X = XY[:,1:3]\n",
        "\n",
        "\n",
        "# 표본공간에 k개의 중심을 무작위로 생성하기\n",
        "k = 3                               #분류하려는 군집의 개수가 3개이므로 k=3\n",
        "C_x = np.random.choice(X[:,0],k)\n",
        "C_y = np.random.choice(X[:,1],k)\n",
        "C = np.array(list(zip(C_x, C_y)))\n",
        "\n",
        "\n",
        "# 거리를 측정하는 함수 만들기 \n",
        "# 유클리디안 거리 계산 함수 만들기\n",
        "def Distance(A, B):\n",
        "    return np.sqrt(np.sum(np.power((A-B),2)))\n",
        "\n",
        "# 각 군집의 중심을 새롭게 계산하기 \n",
        "\n",
        "C_old = np.zeros(C.shape)           # 중심의 좌표를 업데이트하기 위해 동일한 크기의 행렬을 선언 \n",
        "clusters = np.zeros(len(X))         # 모든 데이터의 클러스터 라벨을 저장하기 위해 행렬을 선언, 초깃값은 0으로 할당\n",
        "flag = Distance(C, C_old)           # 반복문의 종료 기준이 될 변수 선언, 중심 C의 좌표가 더이상 변화가 없을 때까지 반복하는 기준이 됨.\n",
        "\n",
        "# ---------------------------------------------------------------------------------\n",
        "\n",
        "# 클러스터 할당이 변경되지 않을 때까지 반복하기\n",
        "from copy import deepcopy\n",
        "\n",
        "distances = []\n",
        "while flag !=0:                     \n",
        "    for i in range(len(X)):\n",
        "      for j in range(3):\n",
        "        temp = Distance(X[i], C[j])\n",
        "        distances.append(temp)\n",
        "      cluster = np.argmin(distances)\n",
        "      clusters[i] = cluster\n",
        "      distances = []\n",
        "    C_old = deepcopy(C)\n",
        "    for i in range(k):\n",
        "        points = [X[j] for j in range(len(X)) if clusters[j] == i]\n",
        "        C[i] = np.mean(points)\n",
        "    flag = Distance(C, C_old)\n",
        "    \n",
        "# 군집화 결과 시각화하기\n",
        "import matplotlib.pyplot as plt\n",
        "\n",
        "# 1번 군집\n",
        "plt.scatter(X[clusters == 0,0], X[clusters == 0,1], s=50, c='red', marker='o', edgecolor='black', label='A')\n",
        "\n",
        "# 2번 군집\n",
        "plt.scatter(X[clusters == 1,0], X[clusters == 1,1], s=50, c='yellow', marker='x', edgecolor='black', label='B')\n",
        "\n",
        "# 3번 군집\n",
        "plt.scatter(X[clusters == 2,0], X[clusters == 2,1], s=50, c='blue', marker='^', edgecolor='black', label='C')\n",
        "\n",
        "# 군집의 중심 좌표들\n",
        "plt.scatter(C[:, 0], C[:, 1], s=250, marker='*', c='black', edgecolor='black', label='Centroids')\n",
        "plt.legend()\n",
        "plt.grid()\n",
        "plt.show()"
      ],
      "execution_count": 24,
      "outputs": [
        {
          "output_type": "display_data",
          "data": {
            "image/png": "[encoded data removed]",
            "text/plain": [
              "<Figure size 432x288 with 1 Axes>"
            ]
          },
          "metadata": {
            "tags": [],
            "needs_background": "light"
          }
        }
      ]
    },
    {
      "cell_type": "markdown",
      "metadata": {
        "id": "9wsq96HuWrdt"
      },
      "source": [
        "#### [팁] 객체 복사 (copy, deepcopy)\n",
        "- 리스트에서 복사(b = a)\n",
        "  - 참조형태로 전달됨 \n",
        "  - 실제로 같은 물리공간에 위치한 데이터를 가리키게 됨\n",
        "  - a 리스트의 값이 변경되면 b 리스트의 값도 변경됨\n",
        "- 깊은 복사(deepcopy)\n",
        "  - from copy import deepcopy \n",
        "  - 값을 모두 복사하는 형태"
      ]
    },
    {
      "cell_type": "code",
      "metadata": {
        "id": "YPZbWfHIYPTP",
        "colab": {
          "base_uri": "https://localhost:8080/"
        },
        "outputId": "9fc8a1a7-8ebf-44cc-9117-c83ea1fb3175"
      },
      "source": [
        "# (팁) 일반 복사(copy)\n",
        "a = ['A', 'B']\n",
        "b = a\n",
        "print(\"before a : \", a)\n",
        "print(\"before b : \", b)\n",
        "a[0] = 'C'\n",
        "print(\"after a : \", a)\n",
        "print(\"after b : \", b)\n"
      ],
      "execution_count": 25,
      "outputs": [
        {
          "output_type": "stream",
          "text": [
            "before a :  ['A', 'B']\n",
            "before b :  ['A', 'B']\n",
            "after a :  ['C', 'B']\n",
            "after b :  ['C', 'B']\n"
          ],
          "name": "stdout"
        }
      ]
    },
    {
      "cell_type": "code",
      "metadata": {
        "id": "VWsq5kZmZM9M",
        "colab": {
          "base_uri": "https://localhost:8080/"
        },
        "outputId": "fd84f95a-85f7-4152-a40e-6c5ca93a2be5"
      },
      "source": [
        "# (팁) 깊은 복사(deepcopy)\n",
        "from copy import deepcopy\n",
        "a = ['A', 'B']\n",
        "b = deepcopy(a)\n",
        "print(\"before a : \", a)\n",
        "print(\"before b : \", b)\n",
        "a[0] = 'C'\n",
        "print(\"after a : \", a)\n",
        "print(\"after b : \", b)"
      ],
      "execution_count": 26,
      "outputs": [
        {
          "output_type": "stream",
          "text": [
            "before a :  ['A', 'B']\n",
            "before b :  ['A', 'B']\n",
            "after a :  ['C', 'B']\n",
            "after b :  ['A', 'B']\n"
          ],
          "name": "stdout"
        }
      ]
    },
    {
      "cell_type": "code",
      "metadata": {
        "id": "4wIUouzgB3Kd"
      },
      "source": [
        ""
      ],
      "execution_count": null,
      "outputs": []
    }
  ]
}