{
  "nbformat": 4,
  "nbformat_minor": 0,
  "metadata": {
    "colab": {
      "name": "데이터수집,시각화.ipynb",
      "provenance": [],
      "collapsed_sections": [],
      "toc_visible": true,
      "include_colab_link": true
    },
    "kernelspec": {
      "name": "python3",
      "display_name": "Python 3"
    }
  },
  "cells": [
    {
      "cell_type": "markdown",
      "metadata": {
        "id": "view-in-github",
        "colab_type": "text"
      },
      "source": [
        "<a href=\"https://colab.research.google.com/github/Hyuna13/AI/blob/main/%EB%8D%B0%EC%9D%B4%ED%84%B0%EC%88%98%EC%A7%91%2C%EC%8B%9C%EA%B0%81%ED%99%94.ipynb\" target=\"_parent\"><img src=\"https://colab.research.google.com/assets/colab-badge.svg\" alt=\"Open In Colab\"/></a>"
      ]
    },
    {
      "cell_type": "markdown",
      "metadata": {
        "id": "LbtqlyyUCsY2"
      },
      "source": [
        "# 고흐가 그린 붓꽃은 어떤 종류일까?\n",
        "- 제목: Irises\n",
        "- 제작자: Vincent van Gogh\n",
        "- 제작연도: 1889\n",
        "\n",
        "  [Irises - Vincent van Gogh ](https://artsandculture.google.com/asset/irises/DgFVFAJo_30MeQ?hl=ko)\n",
        "\n",
        "- Iris 종류 : Iris-setosa, Iris-versicolor, Iris-virginica"
      ]
    },
    {
      "cell_type": "markdown",
      "metadata": {
        "id": "dbZ4v5v4Cznq"
      },
      "source": [
        "## 01 데이터 수집하기 \n",
        "\n",
        "- https://www.kaggle.com/uciml/iris\n",
        "\n",
        "- 붓꽃 특성 이름 \n",
        "  - 꽃받침 길이 : SepalLengthCm\n",
        "  - 꽃받침 너비 : SepalWidthCm\n",
        "  - 꽃잎 길이 : PetalLengthCm\n",
        "  - 꽃잎 너비 : PetalWidthCm\n",
        "  - 꽃 종류 : Species \n",
        "    - Iris 종류 : Iris-setosa, Iris-versicolor, Iris-virginica"
      ]
    },
    {
      "cell_type": "markdown",
      "metadata": {
        "id": "JmgR5xPoDW1j"
      },
      "source": [
        "## 02 데이터 불러오기 "
      ]
    },
    {
      "cell_type": "markdown",
      "metadata": {
        "id": "sCF6jOL1N3-5"
      },
      "source": [
        "### [Step 1] 붓꽃 데이터를 불러와 출력하기\n",
        "\n",
        "<table align =\"left\">\n",
        "<tr><td>id</td><td>SepalLengthCm</td><td>SepalWidthCm</td><td>PetalLengthCm</td><td>PetalWidthCm</td><td>Species</td></tr>\n",
        "</table><br>\n",
        "\n",
        "##### - CSV 파일을 읽기\n",
        "  1. 먼저 파이썬에 기본 내장된 csv 모듈을 import 함\n",
        "  2. csv 파일 OPEN (파일객체)\n",
        "  3. 파일객체를 csv.reader(파일객체) 에 넣기  \n",
        "     - csv.reader() 함수 : Iterator 타입인 reader 객체를 리턴하므로 for 루프를 돌며 한 라인씩 가져올 수 있음 "
      ]
    },
    {
      "cell_type": "code",
      "metadata": {
        "id": "qN7sWCIJPvnb",
        "colab": {
          "resources": {
            "http://localhost:8080/nbextensions/google.colab/files.js": {
              "data": "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",
              "ok": true,
              "headers": [
                [
                  "content-type",
                  "application/javascript"
                ]
              ],
              "status": 200,
              "status_text": ""
            }
          },
          "base_uri": "https://localhost:8080/",
          "height": 73
        },
        "outputId": "031b02ea-bf5c-4e50-e984-1a0010f70288"
      },
      "source": [
        "# Iris.csv 파일 업로드하기 \n",
        "from google.colab import files\n",
        "\n",
        "uploaded = files.upload()"
      ],
      "execution_count": 1,
      "outputs": [
        {
          "output_type": "display_data",
          "data": {
            "text/html": [
              "\n",
              "     <input type=\"file\" id=\"files-0ab29791-51c2-4abf-8efe-1abf8b3fbcfa\" name=\"files[]\" multiple disabled\n",
              "        style=\"border:none\" />\n",
              "     <output id=\"result-0ab29791-51c2-4abf-8efe-1abf8b3fbcfa\">\n",
              "      Upload widget is only available when the cell has been executed in the\n",
              "      current browser session. Please rerun this cell to enable.\n",
              "      </output>\n",
              "      <script src=\"/nbextensions/google.colab/files.js\"></script> "
            ],
            "text/plain": [
              "<IPython.core.display.HTML object>"
            ]
          },
          "metadata": {
            "tags": []
          }
        },
        {
          "output_type": "stream",
          "text": [
            "Saving Iris.csv to Iris.csv\n"
          ],
          "name": "stdout"
        }
      ]
    },
    {
      "cell_type": "code",
      "metadata": {
        "id": "nEKDQ8quD8VV",
        "colab": {
          "base_uri": "https://localhost:8080/"
        },
        "outputId": "f4ed4e08-7313-4dfc-d8a4-e337d09b8044"
      },
      "source": [
        "# (실습) csv 파일 데이터 불러오기 위한 csv 모듈 선언\n",
        "import csv\n",
        "\n",
        "# (실습) Iris.csv 파일 열기\n",
        "f= open('Iris.csv')\n",
        "\n",
        "# (실습) Iris.csv 파일속 데이터를 읽어서(csv.reader)data 객체에 저장하기 \n",
        "data = csv.reader(f)\n",
        "\n",
        "# 전체 데이터를 행별로 result 리스트에 추가 및 출력하기 \n",
        "# (실습) 빈 리스트 result 만들기\n",
        "result = []\n",
        "\n",
        "# (실습) 전체 데이터를 행별로 result 리스트에 추가 및 출력하기 \n",
        "for row in data :\n",
        "  result.append(row)   # 행별로 데이터 추가하기\n",
        "  print(row)           # 행별로 데이터 출력하기 "
      ],
      "execution_count": 2,
      "outputs": [
        {
          "output_type": "stream",
          "text": [
            "['Id', 'SepalLengthCm', 'SepalWidthCm', 'PetalLengthCm', 'PetalWidthCm', 'Species']\n",
            "['1', '5.1', '3.5', '1.4', '0.2', 'Iris-setosa']\n",
            "['2', '4.9', '3.0', '1.4', '0.2', 'Iris-setosa']\n",
            "['3', '4.7', '3.2', '1.3', '0.2', 'Iris-setosa']\n",
            "['4', '4.6', '3.1', '1.5', '0.2', 'Iris-setosa']\n",
            "['5', '5.0', '3.6', '1.4', '0.2', 'Iris-setosa']\n",
            "['6', '5.4', '3.9', '1.7', '0.4', 'Iris-setosa']\n",
            "['7', '4.6', '3.4', '1.4', '0.3', 'Iris-setosa']\n",
            "['8', '5.0', '3.4', '1.5', '0.2', 'Iris-setosa']\n",
            "['9', '4.4', '2.9', '1.4', '0.2', 'Iris-setosa']\n",
            "['10', '4.9', '3.1', '1.5', '0.1', 'Iris-setosa']\n",
            "['11', '5.4', '3.7', '1.5', '0.2', 'Iris-setosa']\n",
            "['12', '4.8', '3.4', '1.6', '0.2', 'Iris-setosa']\n",
            "['13', '4.8', '3.0', '1.4', '0.1', 'Iris-setosa']\n",
            "['14', '4.3', '3.0', '1.1', '0.1', 'Iris-setosa']\n",
            "['15', '5.8', '4.0', '1.2', '0.2', 'Iris-setosa']\n",
            "['16', '5.7', '4.4', '1.5', '0.4', 'Iris-setosa']\n",
            "['17', '5.4', '3.9', '1.3', '0.4', 'Iris-setosa']\n",
            "['18', '5.1', '3.5', '1.4', '0.3', 'Iris-setosa']\n",
            "['19', '5.7', '3.8', '1.7', '0.3', 'Iris-setosa']\n",
            "['20', '5.1', '3.8', '1.5', '0.3', 'Iris-setosa']\n",
            "['21', '5.4', '3.4', '1.7', '0.2', 'Iris-setosa']\n",
            "['22', '5.1', '3.7', '1.5', '0.4', 'Iris-setosa']\n",
            "['23', '4.6', '3.6', '1.0', '0.2', 'Iris-setosa']\n",
            "['24', '5.1', '3.3', '1.7', '0.5', 'Iris-setosa']\n",
            "['25', '4.8', '3.4', '1.9', '0.2', 'Iris-setosa']\n",
            "['26', '5.0', '3.0', '1.6', '0.2', 'Iris-setosa']\n",
            "['27', '5.0', '3.4', '1.6', '0.4', 'Iris-setosa']\n",
            "['28', '5.2', '3.5', '1.5', '0.2', 'Iris-setosa']\n",
            "['29', '5.2', '3.4', '1.4', '0.2', 'Iris-setosa']\n",
            "['30', '4.7', '3.2', '1.6', '0.2', 'Iris-setosa']\n",
            "['31', '4.8', '3.1', '1.6', '0.2', 'Iris-setosa']\n",
            "['32', '5.4', '3.4', '1.5', '0.4', 'Iris-setosa']\n",
            "['33', '5.2', '4.1', '1.5', '0.1', 'Iris-setosa']\n",
            "['34', '5.5', '4.2', '1.4', '0.2', 'Iris-setosa']\n",
            "['35', '4.9', '3.1', '1.5', '0.1', 'Iris-setosa']\n",
            "['36', '5.0', '3.2', '1.2', '0.2', 'Iris-setosa']\n",
            "['37', '5.5', '3.5', '1.3', '0.2', 'Iris-setosa']\n",
            "['38', '4.9', '3.1', '1.5', '0.1', 'Iris-setosa']\n",
            "['39', '4.4', '3.0', '1.3', '0.2', 'Iris-setosa']\n",
            "['40', '5.1', '3.4', '1.5', '0.2', 'Iris-setosa']\n",
            "['41', '5.0', '3.5', '1.3', '0.3', 'Iris-setosa']\n",
            "['42', '4.5', '2.3', '1.3', '0.3', 'Iris-setosa']\n",
            "['43', '4.4', '3.2', '1.3', '0.2', 'Iris-setosa']\n",
            "['44', '5.0', '3.5', '1.6', '0.6', 'Iris-setosa']\n",
            "['45', '5.1', '3.8', '1.9', '0.4', 'Iris-setosa']\n",
            "['46', '4.8', '3.0', '1.4', '0.3', 'Iris-setosa']\n",
            "['47', '5.1', '3.8', '1.6', '0.2', 'Iris-setosa']\n",
            "['48', '4.6', '3.2', '1.4', '0.2', 'Iris-setosa']\n",
            "['49', '5.3', '3.7', '1.5', '0.2', 'Iris-setosa']\n",
            "['50', '5.0', '3.3', '1.4', '0.2', 'Iris-setosa']\n",
            "['51', '7.0', '3.2', '4.7', '1.4', 'Iris-versicolor']\n",
            "['52', '6.4', '3.2', '4.5', '1.5', 'Iris-versicolor']\n",
            "['53', '6.9', '3.1', '4.9', '1.5', 'Iris-versicolor']\n",
            "['54', '5.5', '2.3', '4.0', '1.3', 'Iris-versicolor']\n",
            "['55', '6.5', '2.8', '4.6', '1.5', 'Iris-versicolor']\n",
            "['56', '5.7', '2.8', '4.5', '1.3', 'Iris-versicolor']\n",
            "['57', '6.3', '3.3', '4.7', '1.6', 'Iris-versicolor']\n",
            "['58', '4.9', '2.4', '3.3', '1.0', 'Iris-versicolor']\n",
            "['59', '6.6', '2.9', '4.6', '1.3', 'Iris-versicolor']\n",
            "['60', '5.2', '2.7', '3.9', '1.4', 'Iris-versicolor']\n",
            "['61', '5.0', '2.0', '3.5', '1.0', 'Iris-versicolor']\n",
            "['62', '5.9', '3.0', '4.2', '1.5', 'Iris-versicolor']\n",
            "['63', '6.0', '2.2', '4.0', '1.0', 'Iris-versicolor']\n",
            "['64', '6.1', '2.9', '4.7', '1.4', 'Iris-versicolor']\n",
            "['65', '5.6', '2.9', '3.6', '1.3', 'Iris-versicolor']\n",
            "['66', '6.7', '3.1', '4.4', '1.4', 'Iris-versicolor']\n",
            "['67', '5.6', '3.0', '4.5', '1.5', 'Iris-versicolor']\n",
            "['68', '5.8', '2.7', '4.1', '1.0', 'Iris-versicolor']\n",
            "['69', '6.2', '2.2', '4.5', '1.5', 'Iris-versicolor']\n",
            "['70', '5.6', '2.5', '3.9', '1.1', 'Iris-versicolor']\n",
            "['71', '5.9', '3.2', '4.8', '1.8', 'Iris-versicolor']\n",
            "['72', '6.1', '2.8', '4.0', '1.3', 'Iris-versicolor']\n",
            "['73', '6.3', '2.5', '4.9', '1.5', 'Iris-versicolor']\n",
            "['74', '6.1', '2.8', '4.7', '1.2', 'Iris-versicolor']\n",
            "['75', '6.4', '2.9', '4.3', '1.3', 'Iris-versicolor']\n",
            "['76', '6.6', '3.0', '4.4', '1.4', 'Iris-versicolor']\n",
            "['77', '6.8', '2.8', '4.8', '1.4', 'Iris-versicolor']\n",
            "['78', '6.7', '3.0', '5.0', '1.7', 'Iris-versicolor']\n",
            "['79', '6.0', '2.9', '4.5', '1.5', 'Iris-versicolor']\n",
            "['80', '5.7', '2.6', '3.5', '1.0', 'Iris-versicolor']\n",
            "['81', '5.5', '2.4', '3.8', '1.1', 'Iris-versicolor']\n",
            "['82', '5.5', '2.4', '3.7', '1.0', 'Iris-versicolor']\n",
            "['83', '5.8', '2.7', '3.9', '1.2', 'Iris-versicolor']\n",
            "['84', '6.0', '2.7', '5.1', '1.6', 'Iris-versicolor']\n",
            "['85', '5.4', '3.0', '4.5', '1.5', 'Iris-versicolor']\n",
            "['86', '6.0', '3.4', '4.5', '1.6', 'Iris-versicolor']\n",
            "['87', '6.7', '3.1', '4.7', '1.5', 'Iris-versicolor']\n",
            "['88', '6.3', '2.3', '4.4', '1.3', 'Iris-versicolor']\n",
            "['89', '5.6', '3.0', '4.1', '1.3', 'Iris-versicolor']\n",
            "['90', '5.5', '2.5', '4.0', '1.3', 'Iris-versicolor']\n",
            "['91', '5.5', '2.6', '4.4', '1.2', 'Iris-versicolor']\n",
            "['92', '6.1', '3.0', '4.6', '1.4', 'Iris-versicolor']\n",
            "['93', '5.8', '2.6', '4.0', '1.2', 'Iris-versicolor']\n",
            "['94', '5.0', '2.3', '3.3', '1.0', 'Iris-versicolor']\n",
            "['95', '5.6', '2.7', '4.2', '1.3', 'Iris-versicolor']\n",
            "['96', '5.7', '3.0', '4.2', '1.2', 'Iris-versicolor']\n",
            "['97', '5.7', '2.9', '4.2', '1.3', 'Iris-versicolor']\n",
            "['98', '6.2', '2.9', '4.3', '1.3', 'Iris-versicolor']\n",
            "['99', '5.1', '2.5', '3.0', '1.1', 'Iris-versicolor']\n",
            "['100', '5.7', '2.8', '4.1', '1.3', 'Iris-versicolor']\n",
            "['101', '6.3', '3.3', '6.0', '2.5', 'Iris-virginica']\n",
            "['102', '5.8', '2.7', '5.1', '1.9', 'Iris-virginica']\n",
            "['103', '7.1', '3.0', '5.9', '2.1', 'Iris-virginica']\n",
            "['104', '6.3', '2.9', '5.6', '1.8', 'Iris-virginica']\n",
            "['105', '6.5', '3.0', '5.8', '2.2', 'Iris-virginica']\n",
            "['106', '7.6', '3.0', '6.6', '2.1', 'Iris-virginica']\n",
            "['107', '4.9', '2.5', '4.5', '1.7', 'Iris-virginica']\n",
            "['108', '7.3', '2.9', '6.3', '1.8', 'Iris-virginica']\n",
            "['109', '6.7', '2.5', '5.8', '1.8', 'Iris-virginica']\n",
            "['110', '7.2', '3.6', '6.1', '2.5', 'Iris-virginica']\n",
            "['111', '6.5', '3.2', '5.1', '2.0', 'Iris-virginica']\n",
            "['112', '6.4', '2.7', '5.3', '1.9', 'Iris-virginica']\n",
            "['113', '6.8', '3.0', '5.5', '2.1', 'Iris-virginica']\n",
            "['114', '5.7', '2.5', '5.0', '2.0', 'Iris-virginica']\n",
            "['115', '5.8', '2.8', '5.1', '2.4', 'Iris-virginica']\n",
            "['116', '6.4', '3.2', '5.3', '2.3', 'Iris-virginica']\n",
            "['117', '6.5', '3.0', '5.5', '1.8', 'Iris-virginica']\n",
            "['118', '7.7', '3.8', '6.7', '2.2', 'Iris-virginica']\n",
            "['119', '7.7', '2.6', '6.9', '2.3', 'Iris-virginica']\n",
            "['120', '6.0', '2.2', '5.0', '1.5', 'Iris-virginica']\n",
            "['121', '6.9', '3.2', '5.7', '2.3', 'Iris-virginica']\n",
            "['122', '5.6', '2.8', '4.9', '2.0', 'Iris-virginica']\n",
            "['123', '7.7', '2.8', '6.7', '2.0', 'Iris-virginica']\n",
            "['124', '6.3', '2.7', '4.9', '1.8', 'Iris-virginica']\n",
            "['125', '6.7', '3.3', '5.7', '2.1', 'Iris-virginica']\n",
            "['126', '7.2', '3.2', '6.0', '1.8', 'Iris-virginica']\n",
            "['127', '6.2', '2.8', '4.8', '1.8', 'Iris-virginica']\n",
            "['128', '6.1', '3.0', '4.9', '1.8', 'Iris-virginica']\n",
            "['129', '6.4', '2.8', '5.6', '2.1', 'Iris-virginica']\n",
            "['130', '7.2', '3.0', '5.8', '1.6', 'Iris-virginica']\n",
            "['131', '7.4', '2.8', '6.1', '1.9', 'Iris-virginica']\n",
            "['132', '7.9', '3.8', '6.4', '2.0', 'Iris-virginica']\n",
            "['133', '6.4', '2.8', '5.6', '2.2', 'Iris-virginica']\n",
            "['134', '6.3', '2.8', '5.1', '1.5', 'Iris-virginica']\n",
            "['135', '6.1', '2.6', '5.6', '1.4', 'Iris-virginica']\n",
            "['136', '7.7', '3.0', '6.1', '2.3', 'Iris-virginica']\n",
            "['137', '6.3', '3.4', '5.6', '2.4', 'Iris-virginica']\n",
            "['138', '6.4', '3.1', '5.5', '1.8', 'Iris-virginica']\n",
            "['139', '6.0', '3.0', '4.8', '1.8', 'Iris-virginica']\n",
            "['140', '6.9', '3.1', '5.4', '2.1', 'Iris-virginica']\n",
            "['141', '6.7', '3.1', '5.6', '2.4', 'Iris-virginica']\n",
            "['142', '6.9', '3.1', '5.1', '2.3', 'Iris-virginica']\n",
            "['143', '5.8', '2.7', '5.1', '1.9', 'Iris-virginica']\n",
            "['144', '6.8', '3.2', '5.9', '2.3', 'Iris-virginica']\n",
            "['145', '6.7', '3.3', '5.7', '2.5', 'Iris-virginica']\n",
            "['146', '6.7', '3.0', '5.2', '2.3', 'Iris-virginica']\n",
            "['147', '6.3', '2.5', '5.0', '1.9', 'Iris-virginica']\n",
            "['148', '6.5', '3.0', '5.2', '2.0', 'Iris-virginica']\n",
            "['149', '6.2', '3.4', '5.4', '2.3', 'Iris-virginica']\n",
            "['150', '5.9', '3.0', '5.1', '1.8', 'Iris-virginica']\n"
          ],
          "name": "stdout"
        }
      ]
    },
    {
      "cell_type": "markdown",
      "metadata": {
        "id": "J7qg9nzaE2th"
      },
      "source": [
        "### [Step 2] 여러개의 자료형 변환하기 \n",
        "- 제목을 따로 저장하고, 실제 데이터만을 이용해 result 리스트에 저장하기\n",
        "- result에 저장된 값 중 꽃받침과 꽃잎의 길이, 너비값(1~4)을 실수형으로 변환하기 \n",
        "  - 숫자형으로 변환해야 함 : 정수형(int), 실수형(float)"
      ]
    },
    {
      "cell_type": "code",
      "metadata": {
        "id": "E4H-CRLjFGS6",
        "colab": {
          "base_uri": "https://localhost:8080/"
        },
        "outputId": "43b1df78-7939-40db-cb5d-2a88aceaeff9"
      },
      "source": [
        "# csv 파일 데이터 불러오기 위한 모듈 선언\n",
        "import csv\n",
        "\n",
        "# Iris.csv 파일 열기\n",
        "f= open('Iris.csv')\n",
        "\n",
        "# Iris.csv 파일속 데이터를 data에 저장하기 \n",
        "data = csv.reader(f)\n",
        "\n",
        "## (실습) 제목을 따로 저장하기 위한 명령 : next(data) - 다음 행 \n",
        "header = next(data)\n",
        "print(header, type(header))\n",
        "\n",
        "# 전체 데이터를 행별로 result 리스트에 저장 및 출력하기 \n",
        "# 빈 리스트 result 만들기\n",
        "result = []\n",
        "\n",
        "# 전체 데이터를 행별로 result 리스트에 저장 및 출력하기 \n",
        "for row in data :\n",
        "  result.append(row)   # 행별로 데이터 저장하기\n",
        "  print(row)           # 행별로 데이터 출력하기 \n",
        "\n",
        "# (실습) result에 저장된 값 중 꽃받침과 꽃잎의 길이, 너비값(1~4)을 실수로 변환한 후 출력하기 \n",
        "# 행(i), 열(j)\n",
        "\n",
        "for i in result:\n",
        "  for j in range(1,5):\n",
        "    i[j] = float(i[j])\n",
        "  print(i)\n",
        "\n",
        "\n"
      ],
      "execution_count": 5,
      "outputs": [
        {
          "output_type": "stream",
          "text": [
            "['Id', 'SepalLengthCm', 'SepalWidthCm', 'PetalLengthCm', 'PetalWidthCm', 'Species'] <class 'list'>\n",
            "['1', '5.1', '3.5', '1.4', '0.2', 'Iris-setosa']\n",
            "['2', '4.9', '3.0', '1.4', '0.2', 'Iris-setosa']\n",
            "['3', '4.7', '3.2', '1.3', '0.2', 'Iris-setosa']\n",
            "['4', '4.6', '3.1', '1.5', '0.2', 'Iris-setosa']\n",
            "['5', '5.0', '3.6', '1.4', '0.2', 'Iris-setosa']\n",
            "['6', '5.4', '3.9', '1.7', '0.4', 'Iris-setosa']\n",
            "['7', '4.6', '3.4', '1.4', '0.3', 'Iris-setosa']\n",
            "['8', '5.0', '3.4', '1.5', '0.2', 'Iris-setosa']\n",
            "['9', '4.4', '2.9', '1.4', '0.2', 'Iris-setosa']\n",
            "['10', '4.9', '3.1', '1.5', '0.1', 'Iris-setosa']\n",
            "['11', '5.4', '3.7', '1.5', '0.2', 'Iris-setosa']\n",
            "['12', '4.8', '3.4', '1.6', '0.2', 'Iris-setosa']\n",
            "['13', '4.8', '3.0', '1.4', '0.1', 'Iris-setosa']\n",
            "['14', '4.3', '3.0', '1.1', '0.1', 'Iris-setosa']\n",
            "['15', '5.8', '4.0', '1.2', '0.2', 'Iris-setosa']\n",
            "['16', '5.7', '4.4', '1.5', '0.4', 'Iris-setosa']\n",
            "['17', '5.4', '3.9', '1.3', '0.4', 'Iris-setosa']\n",
            "['18', '5.1', '3.5', '1.4', '0.3', 'Iris-setosa']\n",
            "['19', '5.7', '3.8', '1.7', '0.3', 'Iris-setosa']\n",
            "['20', '5.1', '3.8', '1.5', '0.3', 'Iris-setosa']\n",
            "['21', '5.4', '3.4', '1.7', '0.2', 'Iris-setosa']\n",
            "['22', '5.1', '3.7', '1.5', '0.4', 'Iris-setosa']\n",
            "['23', '4.6', '3.6', '1.0', '0.2', 'Iris-setosa']\n",
            "['24', '5.1', '3.3', '1.7', '0.5', 'Iris-setosa']\n",
            "['25', '4.8', '3.4', '1.9', '0.2', 'Iris-setosa']\n",
            "['26', '5.0', '3.0', '1.6', '0.2', 'Iris-setosa']\n",
            "['27', '5.0', '3.4', '1.6', '0.4', 'Iris-setosa']\n",
            "['28', '5.2', '3.5', '1.5', '0.2', 'Iris-setosa']\n",
            "['29', '5.2', '3.4', '1.4', '0.2', 'Iris-setosa']\n",
            "['30', '4.7', '3.2', '1.6', '0.2', 'Iris-setosa']\n",
            "['31', '4.8', '3.1', '1.6', '0.2', 'Iris-setosa']\n",
            "['32', '5.4', '3.4', '1.5', '0.4', 'Iris-setosa']\n",
            "['33', '5.2', '4.1', '1.5', '0.1', 'Iris-setosa']\n",
            "['34', '5.5', '4.2', '1.4', '0.2', 'Iris-setosa']\n",
            "['35', '4.9', '3.1', '1.5', '0.1', 'Iris-setosa']\n",
            "['36', '5.0', '3.2', '1.2', '0.2', 'Iris-setosa']\n",
            "['37', '5.5', '3.5', '1.3', '0.2', 'Iris-setosa']\n",
            "['38', '4.9', '3.1', '1.5', '0.1', 'Iris-setosa']\n",
            "['39', '4.4', '3.0', '1.3', '0.2', 'Iris-setosa']\n",
            "['40', '5.1', '3.4', '1.5', '0.2', 'Iris-setosa']\n",
            "['41', '5.0', '3.5', '1.3', '0.3', 'Iris-setosa']\n",
            "['42', '4.5', '2.3', '1.3', '0.3', 'Iris-setosa']\n",
            "['43', '4.4', '3.2', '1.3', '0.2', 'Iris-setosa']\n",
            "['44', '5.0', '3.5', '1.6', '0.6', 'Iris-setosa']\n",
            "['45', '5.1', '3.8', '1.9', '0.4', 'Iris-setosa']\n",
            "['46', '4.8', '3.0', '1.4', '0.3', 'Iris-setosa']\n",
            "['47', '5.1', '3.8', '1.6', '0.2', 'Iris-setosa']\n",
            "['48', '4.6', '3.2', '1.4', '0.2', 'Iris-setosa']\n",
            "['49', '5.3', '3.7', '1.5', '0.2', 'Iris-setosa']\n",
            "['50', '5.0', '3.3', '1.4', '0.2', 'Iris-setosa']\n",
            "['51', '7.0', '3.2', '4.7', '1.4', 'Iris-versicolor']\n",
            "['52', '6.4', '3.2', '4.5', '1.5', 'Iris-versicolor']\n",
            "['53', '6.9', '3.1', '4.9', '1.5', 'Iris-versicolor']\n",
            "['54', '5.5', '2.3', '4.0', '1.3', 'Iris-versicolor']\n",
            "['55', '6.5', '2.8', '4.6', '1.5', 'Iris-versicolor']\n",
            "['56', '5.7', '2.8', '4.5', '1.3', 'Iris-versicolor']\n",
            "['57', '6.3', '3.3', '4.7', '1.6', 'Iris-versicolor']\n",
            "['58', '4.9', '2.4', '3.3', '1.0', 'Iris-versicolor']\n",
            "['59', '6.6', '2.9', '4.6', '1.3', 'Iris-versicolor']\n",
            "['60', '5.2', '2.7', '3.9', '1.4', 'Iris-versicolor']\n",
            "['61', '5.0', '2.0', '3.5', '1.0', 'Iris-versicolor']\n",
            "['62', '5.9', '3.0', '4.2', '1.5', 'Iris-versicolor']\n",
            "['63', '6.0', '2.2', '4.0', '1.0', 'Iris-versicolor']\n",
            "['64', '6.1', '2.9', '4.7', '1.4', 'Iris-versicolor']\n",
            "['65', '5.6', '2.9', '3.6', '1.3', 'Iris-versicolor']\n",
            "['66', '6.7', '3.1', '4.4', '1.4', 'Iris-versicolor']\n",
            "['67', '5.6', '3.0', '4.5', '1.5', 'Iris-versicolor']\n",
            "['68', '5.8', '2.7', '4.1', '1.0', 'Iris-versicolor']\n",
            "['69', '6.2', '2.2', '4.5', '1.5', 'Iris-versicolor']\n",
            "['70', '5.6', '2.5', '3.9', '1.1', 'Iris-versicolor']\n",
            "['71', '5.9', '3.2', '4.8', '1.8', 'Iris-versicolor']\n",
            "['72', '6.1', '2.8', '4.0', '1.3', 'Iris-versicolor']\n",
            "['73', '6.3', '2.5', '4.9', '1.5', 'Iris-versicolor']\n",
            "['74', '6.1', '2.8', '4.7', '1.2', 'Iris-versicolor']\n",
            "['75', '6.4', '2.9', '4.3', '1.3', 'Iris-versicolor']\n",
            "['76', '6.6', '3.0', '4.4', '1.4', 'Iris-versicolor']\n",
            "['77', '6.8', '2.8', '4.8', '1.4', 'Iris-versicolor']\n",
            "['78', '6.7', '3.0', '5.0', '1.7', 'Iris-versicolor']\n",
            "['79', '6.0', '2.9', '4.5', '1.5', 'Iris-versicolor']\n",
            "['80', '5.7', '2.6', '3.5', '1.0', 'Iris-versicolor']\n",
            "['81', '5.5', '2.4', '3.8', '1.1', 'Iris-versicolor']\n",
            "['82', '5.5', '2.4', '3.7', '1.0', 'Iris-versicolor']\n",
            "['83', '5.8', '2.7', '3.9', '1.2', 'Iris-versicolor']\n",
            "['84', '6.0', '2.7', '5.1', '1.6', 'Iris-versicolor']\n",
            "['85', '5.4', '3.0', '4.5', '1.5', 'Iris-versicolor']\n",
            "['86', '6.0', '3.4', '4.5', '1.6', 'Iris-versicolor']\n",
            "['87', '6.7', '3.1', '4.7', '1.5', 'Iris-versicolor']\n",
            "['88', '6.3', '2.3', '4.4', '1.3', 'Iris-versicolor']\n",
            "['89', '5.6', '3.0', '4.1', '1.3', 'Iris-versicolor']\n",
            "['90', '5.5', '2.5', '4.0', '1.3', 'Iris-versicolor']\n",
            "['91', '5.5', '2.6', '4.4', '1.2', 'Iris-versicolor']\n",
            "['92', '6.1', '3.0', '4.6', '1.4', 'Iris-versicolor']\n",
            "['93', '5.8', '2.6', '4.0', '1.2', 'Iris-versicolor']\n",
            "['94', '5.0', '2.3', '3.3', '1.0', 'Iris-versicolor']\n",
            "['95', '5.6', '2.7', '4.2', '1.3', 'Iris-versicolor']\n",
            "['96', '5.7', '3.0', '4.2', '1.2', 'Iris-versicolor']\n",
            "['97', '5.7', '2.9', '4.2', '1.3', 'Iris-versicolor']\n",
            "['98', '6.2', '2.9', '4.3', '1.3', 'Iris-versicolor']\n",
            "['99', '5.1', '2.5', '3.0', '1.1', 'Iris-versicolor']\n",
            "['100', '5.7', '2.8', '4.1', '1.3', 'Iris-versicolor']\n",
            "['101', '6.3', '3.3', '6.0', '2.5', 'Iris-virginica']\n",
            "['102', '5.8', '2.7', '5.1', '1.9', 'Iris-virginica']\n",
            "['103', '7.1', '3.0', '5.9', '2.1', 'Iris-virginica']\n",
            "['104', '6.3', '2.9', '5.6', '1.8', 'Iris-virginica']\n",
            "['105', '6.5', '3.0', '5.8', '2.2', 'Iris-virginica']\n",
            "['106', '7.6', '3.0', '6.6', '2.1', 'Iris-virginica']\n",
            "['107', '4.9', '2.5', '4.5', '1.7', 'Iris-virginica']\n",
            "['108', '7.3', '2.9', '6.3', '1.8', 'Iris-virginica']\n",
            "['109', '6.7', '2.5', '5.8', '1.8', 'Iris-virginica']\n",
            "['110', '7.2', '3.6', '6.1', '2.5', 'Iris-virginica']\n",
            "['111', '6.5', '3.2', '5.1', '2.0', 'Iris-virginica']\n",
            "['112', '6.4', '2.7', '5.3', '1.9', 'Iris-virginica']\n",
            "['113', '6.8', '3.0', '5.5', '2.1', 'Iris-virginica']\n",
            "['114', '5.7', '2.5', '5.0', '2.0', 'Iris-virginica']\n",
            "['115', '5.8', '2.8', '5.1', '2.4', 'Iris-virginica']\n",
            "['116', '6.4', '3.2', '5.3', '2.3', 'Iris-virginica']\n",
            "['117', '6.5', '3.0', '5.5', '1.8', 'Iris-virginica']\n",
            "['118', '7.7', '3.8', '6.7', '2.2', 'Iris-virginica']\n",
            "['119', '7.7', '2.6', '6.9', '2.3', 'Iris-virginica']\n",
            "['120', '6.0', '2.2', '5.0', '1.5', 'Iris-virginica']\n",
            "['121', '6.9', '3.2', '5.7', '2.3', 'Iris-virginica']\n",
            "['122', '5.6', '2.8', '4.9', '2.0', 'Iris-virginica']\n",
            "['123', '7.7', '2.8', '6.7', '2.0', 'Iris-virginica']\n",
            "['124', '6.3', '2.7', '4.9', '1.8', 'Iris-virginica']\n",
            "['125', '6.7', '3.3', '5.7', '2.1', 'Iris-virginica']\n",
            "['126', '7.2', '3.2', '6.0', '1.8', 'Iris-virginica']\n",
            "['127', '6.2', '2.8', '4.8', '1.8', 'Iris-virginica']\n",
            "['128', '6.1', '3.0', '4.9', '1.8', 'Iris-virginica']\n",
            "['129', '6.4', '2.8', '5.6', '2.1', 'Iris-virginica']\n",
            "['130', '7.2', '3.0', '5.8', '1.6', 'Iris-virginica']\n",
            "['131', '7.4', '2.8', '6.1', '1.9', 'Iris-virginica']\n",
            "['132', '7.9', '3.8', '6.4', '2.0', 'Iris-virginica']\n",
            "['133', '6.4', '2.8', '5.6', '2.2', 'Iris-virginica']\n",
            "['134', '6.3', '2.8', '5.1', '1.5', 'Iris-virginica']\n",
            "['135', '6.1', '2.6', '5.6', '1.4', 'Iris-virginica']\n",
            "['136', '7.7', '3.0', '6.1', '2.3', 'Iris-virginica']\n",
            "['137', '6.3', '3.4', '5.6', '2.4', 'Iris-virginica']\n",
            "['138', '6.4', '3.1', '5.5', '1.8', 'Iris-virginica']\n",
            "['139', '6.0', '3.0', '4.8', '1.8', 'Iris-virginica']\n",
            "['140', '6.9', '3.1', '5.4', '2.1', 'Iris-virginica']\n",
            "['141', '6.7', '3.1', '5.6', '2.4', 'Iris-virginica']\n",
            "['142', '6.9', '3.1', '5.1', '2.3', 'Iris-virginica']\n",
            "['143', '5.8', '2.7', '5.1', '1.9', 'Iris-virginica']\n",
            "['144', '6.8', '3.2', '5.9', '2.3', 'Iris-virginica']\n",
            "['145', '6.7', '3.3', '5.7', '2.5', 'Iris-virginica']\n",
            "['146', '6.7', '3.0', '5.2', '2.3', 'Iris-virginica']\n",
            "['147', '6.3', '2.5', '5.0', '1.9', 'Iris-virginica']\n",
            "['148', '6.5', '3.0', '5.2', '2.0', 'Iris-virginica']\n",
            "['149', '6.2', '3.4', '5.4', '2.3', 'Iris-virginica']\n",
            "['150', '5.9', '3.0', '5.1', '1.8', 'Iris-virginica']\n",
            "['1', 5.1, 3.5, 1.4, 0.2, 'Iris-setosa']\n",
            "['2', 4.9, 3.0, 1.4, 0.2, 'Iris-setosa']\n",
            "['3', 4.7, 3.2, 1.3, 0.2, 'Iris-setosa']\n",
            "['4', 4.6, 3.1, 1.5, 0.2, 'Iris-setosa']\n",
            "['5', 5.0, 3.6, 1.4, 0.2, 'Iris-setosa']\n",
            "['6', 5.4, 3.9, 1.7, 0.4, 'Iris-setosa']\n",
            "['7', 4.6, 3.4, 1.4, 0.3, 'Iris-setosa']\n",
            "['8', 5.0, 3.4, 1.5, 0.2, 'Iris-setosa']\n",
            "['9', 4.4, 2.9, 1.4, 0.2, 'Iris-setosa']\n",
            "['10', 4.9, 3.1, 1.5, 0.1, 'Iris-setosa']\n",
            "['11', 5.4, 3.7, 1.5, 0.2, 'Iris-setosa']\n",
            "['12', 4.8, 3.4, 1.6, 0.2, 'Iris-setosa']\n",
            "['13', 4.8, 3.0, 1.4, 0.1, 'Iris-setosa']\n",
            "['14', 4.3, 3.0, 1.1, 0.1, 'Iris-setosa']\n",
            "['15', 5.8, 4.0, 1.2, 0.2, 'Iris-setosa']\n",
            "['16', 5.7, 4.4, 1.5, 0.4, 'Iris-setosa']\n",
            "['17', 5.4, 3.9, 1.3, 0.4, 'Iris-setosa']\n",
            "['18', 5.1, 3.5, 1.4, 0.3, 'Iris-setosa']\n",
            "['19', 5.7, 3.8, 1.7, 0.3, 'Iris-setosa']\n",
            "['20', 5.1, 3.8, 1.5, 0.3, 'Iris-setosa']\n",
            "['21', 5.4, 3.4, 1.7, 0.2, 'Iris-setosa']\n",
            "['22', 5.1, 3.7, 1.5, 0.4, 'Iris-setosa']\n",
            "['23', 4.6, 3.6, 1.0, 0.2, 'Iris-setosa']\n",
            "['24', 5.1, 3.3, 1.7, 0.5, 'Iris-setosa']\n",
            "['25', 4.8, 3.4, 1.9, 0.2, 'Iris-setosa']\n",
            "['26', 5.0, 3.0, 1.6, 0.2, 'Iris-setosa']\n",
            "['27', 5.0, 3.4, 1.6, 0.4, 'Iris-setosa']\n",
            "['28', 5.2, 3.5, 1.5, 0.2, 'Iris-setosa']\n",
            "['29', 5.2, 3.4, 1.4, 0.2, 'Iris-setosa']\n",
            "['30', 4.7, 3.2, 1.6, 0.2, 'Iris-setosa']\n",
            "['31', 4.8, 3.1, 1.6, 0.2, 'Iris-setosa']\n",
            "['32', 5.4, 3.4, 1.5, 0.4, 'Iris-setosa']\n",
            "['33', 5.2, 4.1, 1.5, 0.1, 'Iris-setosa']\n",
            "['34', 5.5, 4.2, 1.4, 0.2, 'Iris-setosa']\n",
            "['35', 4.9, 3.1, 1.5, 0.1, 'Iris-setosa']\n",
            "['36', 5.0, 3.2, 1.2, 0.2, 'Iris-setosa']\n",
            "['37', 5.5, 3.5, 1.3, 0.2, 'Iris-setosa']\n",
            "['38', 4.9, 3.1, 1.5, 0.1, 'Iris-setosa']\n",
            "['39', 4.4, 3.0, 1.3, 0.2, 'Iris-setosa']\n",
            "['40', 5.1, 3.4, 1.5, 0.2, 'Iris-setosa']\n",
            "['41', 5.0, 3.5, 1.3, 0.3, 'Iris-setosa']\n",
            "['42', 4.5, 2.3, 1.3, 0.3, 'Iris-setosa']\n",
            "['43', 4.4, 3.2, 1.3, 0.2, 'Iris-setosa']\n",
            "['44', 5.0, 3.5, 1.6, 0.6, 'Iris-setosa']\n",
            "['45', 5.1, 3.8, 1.9, 0.4, 'Iris-setosa']\n",
            "['46', 4.8, 3.0, 1.4, 0.3, 'Iris-setosa']\n",
            "['47', 5.1, 3.8, 1.6, 0.2, 'Iris-setosa']\n",
            "['48', 4.6, 3.2, 1.4, 0.2, 'Iris-setosa']\n",
            "['49', 5.3, 3.7, 1.5, 0.2, 'Iris-setosa']\n",
            "['50', 5.0, 3.3, 1.4, 0.2, 'Iris-setosa']\n",
            "['51', 7.0, 3.2, 4.7, 1.4, 'Iris-versicolor']\n",
            "['52', 6.4, 3.2, 4.5, 1.5, 'Iris-versicolor']\n",
            "['53', 6.9, 3.1, 4.9, 1.5, 'Iris-versicolor']\n",
            "['54', 5.5, 2.3, 4.0, 1.3, 'Iris-versicolor']\n",
            "['55', 6.5, 2.8, 4.6, 1.5, 'Iris-versicolor']\n",
            "['56', 5.7, 2.8, 4.5, 1.3, 'Iris-versicolor']\n",
            "['57', 6.3, 3.3, 4.7, 1.6, 'Iris-versicolor']\n",
            "['58', 4.9, 2.4, 3.3, 1.0, 'Iris-versicolor']\n",
            "['59', 6.6, 2.9, 4.6, 1.3, 'Iris-versicolor']\n",
            "['60', 5.2, 2.7, 3.9, 1.4, 'Iris-versicolor']\n",
            "['61', 5.0, 2.0, 3.5, 1.0, 'Iris-versicolor']\n",
            "['62', 5.9, 3.0, 4.2, 1.5, 'Iris-versicolor']\n",
            "['63', 6.0, 2.2, 4.0, 1.0, 'Iris-versicolor']\n",
            "['64', 6.1, 2.9, 4.7, 1.4, 'Iris-versicolor']\n",
            "['65', 5.6, 2.9, 3.6, 1.3, 'Iris-versicolor']\n",
            "['66', 6.7, 3.1, 4.4, 1.4, 'Iris-versicolor']\n",
            "['67', 5.6, 3.0, 4.5, 1.5, 'Iris-versicolor']\n",
            "['68', 5.8, 2.7, 4.1, 1.0, 'Iris-versicolor']\n",
            "['69', 6.2, 2.2, 4.5, 1.5, 'Iris-versicolor']\n",
            "['70', 5.6, 2.5, 3.9, 1.1, 'Iris-versicolor']\n",
            "['71', 5.9, 3.2, 4.8, 1.8, 'Iris-versicolor']\n",
            "['72', 6.1, 2.8, 4.0, 1.3, 'Iris-versicolor']\n",
            "['73', 6.3, 2.5, 4.9, 1.5, 'Iris-versicolor']\n",
            "['74', 6.1, 2.8, 4.7, 1.2, 'Iris-versicolor']\n",
            "['75', 6.4, 2.9, 4.3, 1.3, 'Iris-versicolor']\n",
            "['76', 6.6, 3.0, 4.4, 1.4, 'Iris-versicolor']\n",
            "['77', 6.8, 2.8, 4.8, 1.4, 'Iris-versicolor']\n",
            "['78', 6.7, 3.0, 5.0, 1.7, 'Iris-versicolor']\n",
            "['79', 6.0, 2.9, 4.5, 1.5, 'Iris-versicolor']\n",
            "['80', 5.7, 2.6, 3.5, 1.0, 'Iris-versicolor']\n",
            "['81', 5.5, 2.4, 3.8, 1.1, 'Iris-versicolor']\n",
            "['82', 5.5, 2.4, 3.7, 1.0, 'Iris-versicolor']\n",
            "['83', 5.8, 2.7, 3.9, 1.2, 'Iris-versicolor']\n",
            "['84', 6.0, 2.7, 5.1, 1.6, 'Iris-versicolor']\n",
            "['85', 5.4, 3.0, 4.5, 1.5, 'Iris-versicolor']\n",
            "['86', 6.0, 3.4, 4.5, 1.6, 'Iris-versicolor']\n",
            "['87', 6.7, 3.1, 4.7, 1.5, 'Iris-versicolor']\n",
            "['88', 6.3, 2.3, 4.4, 1.3, 'Iris-versicolor']\n",
            "['89', 5.6, 3.0, 4.1, 1.3, 'Iris-versicolor']\n",
            "['90', 5.5, 2.5, 4.0, 1.3, 'Iris-versicolor']\n",
            "['91', 5.5, 2.6, 4.4, 1.2, 'Iris-versicolor']\n",
            "['92', 6.1, 3.0, 4.6, 1.4, 'Iris-versicolor']\n",
            "['93', 5.8, 2.6, 4.0, 1.2, 'Iris-versicolor']\n",
            "['94', 5.0, 2.3, 3.3, 1.0, 'Iris-versicolor']\n",
            "['95', 5.6, 2.7, 4.2, 1.3, 'Iris-versicolor']\n",
            "['96', 5.7, 3.0, 4.2, 1.2, 'Iris-versicolor']\n",
            "['97', 5.7, 2.9, 4.2, 1.3, 'Iris-versicolor']\n",
            "['98', 6.2, 2.9, 4.3, 1.3, 'Iris-versicolor']\n",
            "['99', 5.1, 2.5, 3.0, 1.1, 'Iris-versicolor']\n",
            "['100', 5.7, 2.8, 4.1, 1.3, 'Iris-versicolor']\n",
            "['101', 6.3, 3.3, 6.0, 2.5, 'Iris-virginica']\n",
            "['102', 5.8, 2.7, 5.1, 1.9, 'Iris-virginica']\n",
            "['103', 7.1, 3.0, 5.9, 2.1, 'Iris-virginica']\n",
            "['104', 6.3, 2.9, 5.6, 1.8, 'Iris-virginica']\n",
            "['105', 6.5, 3.0, 5.8, 2.2, 'Iris-virginica']\n",
            "['106', 7.6, 3.0, 6.6, 2.1, 'Iris-virginica']\n",
            "['107', 4.9, 2.5, 4.5, 1.7, 'Iris-virginica']\n",
            "['108', 7.3, 2.9, 6.3, 1.8, 'Iris-virginica']\n",
            "['109', 6.7, 2.5, 5.8, 1.8, 'Iris-virginica']\n",
            "['110', 7.2, 3.6, 6.1, 2.5, 'Iris-virginica']\n",
            "['111', 6.5, 3.2, 5.1, 2.0, 'Iris-virginica']\n",
            "['112', 6.4, 2.7, 5.3, 1.9, 'Iris-virginica']\n",
            "['113', 6.8, 3.0, 5.5, 2.1, 'Iris-virginica']\n",
            "['114', 5.7, 2.5, 5.0, 2.0, 'Iris-virginica']\n",
            "['115', 5.8, 2.8, 5.1, 2.4, 'Iris-virginica']\n",
            "['116', 6.4, 3.2, 5.3, 2.3, 'Iris-virginica']\n",
            "['117', 6.5, 3.0, 5.5, 1.8, 'Iris-virginica']\n",
            "['118', 7.7, 3.8, 6.7, 2.2, 'Iris-virginica']\n",
            "['119', 7.7, 2.6, 6.9, 2.3, 'Iris-virginica']\n",
            "['120', 6.0, 2.2, 5.0, 1.5, 'Iris-virginica']\n",
            "['121', 6.9, 3.2, 5.7, 2.3, 'Iris-virginica']\n",
            "['122', 5.6, 2.8, 4.9, 2.0, 'Iris-virginica']\n",
            "['123', 7.7, 2.8, 6.7, 2.0, 'Iris-virginica']\n",
            "['124', 6.3, 2.7, 4.9, 1.8, 'Iris-virginica']\n",
            "['125', 6.7, 3.3, 5.7, 2.1, 'Iris-virginica']\n",
            "['126', 7.2, 3.2, 6.0, 1.8, 'Iris-virginica']\n",
            "['127', 6.2, 2.8, 4.8, 1.8, 'Iris-virginica']\n",
            "['128', 6.1, 3.0, 4.9, 1.8, 'Iris-virginica']\n",
            "['129', 6.4, 2.8, 5.6, 2.1, 'Iris-virginica']\n",
            "['130', 7.2, 3.0, 5.8, 1.6, 'Iris-virginica']\n",
            "['131', 7.4, 2.8, 6.1, 1.9, 'Iris-virginica']\n",
            "['132', 7.9, 3.8, 6.4, 2.0, 'Iris-virginica']\n",
            "['133', 6.4, 2.8, 5.6, 2.2, 'Iris-virginica']\n",
            "['134', 6.3, 2.8, 5.1, 1.5, 'Iris-virginica']\n",
            "['135', 6.1, 2.6, 5.6, 1.4, 'Iris-virginica']\n",
            "['136', 7.7, 3.0, 6.1, 2.3, 'Iris-virginica']\n",
            "['137', 6.3, 3.4, 5.6, 2.4, 'Iris-virginica']\n",
            "['138', 6.4, 3.1, 5.5, 1.8, 'Iris-virginica']\n",
            "['139', 6.0, 3.0, 4.8, 1.8, 'Iris-virginica']\n",
            "['140', 6.9, 3.1, 5.4, 2.1, 'Iris-virginica']\n",
            "['141', 6.7, 3.1, 5.6, 2.4, 'Iris-virginica']\n",
            "['142', 6.9, 3.1, 5.1, 2.3, 'Iris-virginica']\n",
            "['143', 5.8, 2.7, 5.1, 1.9, 'Iris-virginica']\n",
            "['144', 6.8, 3.2, 5.9, 2.3, 'Iris-virginica']\n",
            "['145', 6.7, 3.3, 5.7, 2.5, 'Iris-virginica']\n",
            "['146', 6.7, 3.0, 5.2, 2.3, 'Iris-virginica']\n",
            "['147', 6.3, 2.5, 5.0, 1.9, 'Iris-virginica']\n",
            "['148', 6.5, 3.0, 5.2, 2.0, 'Iris-virginica']\n",
            "['149', 6.2, 3.4, 5.4, 2.3, 'Iris-virginica']\n",
            "['150', 5.9, 3.0, 5.1, 1.8, 'Iris-virginica']\n"
          ],
          "name": "stdout"
        }
      ]
    },
    {
      "cell_type": "markdown",
      "metadata": {
        "id": "1vhJoBKhJZRu"
      },
      "source": [
        "## 03 데이터 다루기"
      ]
    },
    {
      "cell_type": "markdown",
      "metadata": {
        "id": "0YO1NDgvJcAB"
      },
      "source": [
        "###[Step 1] 붓꽃 데이터를 종류별로 따로 저장하기 \n",
        "- ['Id', SepalLengthCm, SepalWidthCm, PetalLengthCm, PetalWidthCm, 'Species'] 에서 5번 인덱스에 있는 꽃을 종류별로 구분해 저장하기 "
      ]
    },
    {
      "cell_type": "code",
      "metadata": {
        "id": "m6nqwcGMJgWx",
        "colab": {
          "base_uri": "https://localhost:8080/"
        },
        "outputId": "beb0e2c6-59ec-4bfd-e76e-da6869b5fe3c"
      },
      "source": [
        "# 꽃 종류별 데이터 저장하기 \n",
        "a = []   # Iris-setosa 정보를 저장할 리스트 만들기 \n",
        "b = []   # Iris-versicolor 정보를 저장할 리스트 만들기\n",
        "c = []   # Iris-virginica 정보를 저장할 리스트 만들기 \n",
        "\n",
        "# (실습) 각 행별로 5번 인덱스에 있는 꽃을 종류별로 구분해 데이터 저장하기 (인덱스 : 0~4) \n",
        "\n",
        "for i in result: \n",
        "  if i[5] == 'Iris-setosa':\n",
        "    a.append(i[0:5])\n",
        "  if i[5] == 'Iris-versicolor':\n",
        "    b.append(i[0:5])\n",
        "  if i[5] == ' Iris-virginica':\n",
        "    c.append(i[0:5])\n",
        "  \n",
        "  \n",
        "\n",
        "\n",
        "\n",
        "\n",
        "\n",
        "print(a)\n",
        "print(b)\n",
        "print(c)"
      ],
      "execution_count": 6,
      "outputs": [
        {
          "output_type": "stream",
          "text": [
            "[['1', 5.1, 3.5, 1.4, 0.2], ['2', 4.9, 3.0, 1.4, 0.2], ['3', 4.7, 3.2, 1.3, 0.2], ['4', 4.6, 3.1, 1.5, 0.2], ['5', 5.0, 3.6, 1.4, 0.2], ['6', 5.4, 3.9, 1.7, 0.4], ['7', 4.6, 3.4, 1.4, 0.3], ['8', 5.0, 3.4, 1.5, 0.2], ['9', 4.4, 2.9, 1.4, 0.2], ['10', 4.9, 3.1, 1.5, 0.1], ['11', 5.4, 3.7, 1.5, 0.2], ['12', 4.8, 3.4, 1.6, 0.2], ['13', 4.8, 3.0, 1.4, 0.1], ['14', 4.3, 3.0, 1.1, 0.1], ['15', 5.8, 4.0, 1.2, 0.2], ['16', 5.7, 4.4, 1.5, 0.4], ['17', 5.4, 3.9, 1.3, 0.4], ['18', 5.1, 3.5, 1.4, 0.3], ['19', 5.7, 3.8, 1.7, 0.3], ['20', 5.1, 3.8, 1.5, 0.3], ['21', 5.4, 3.4, 1.7, 0.2], ['22', 5.1, 3.7, 1.5, 0.4], ['23', 4.6, 3.6, 1.0, 0.2], ['24', 5.1, 3.3, 1.7, 0.5], ['25', 4.8, 3.4, 1.9, 0.2], ['26', 5.0, 3.0, 1.6, 0.2], ['27', 5.0, 3.4, 1.6, 0.4], ['28', 5.2, 3.5, 1.5, 0.2], ['29', 5.2, 3.4, 1.4, 0.2], ['30', 4.7, 3.2, 1.6, 0.2], ['31', 4.8, 3.1, 1.6, 0.2], ['32', 5.4, 3.4, 1.5, 0.4], ['33', 5.2, 4.1, 1.5, 0.1], ['34', 5.5, 4.2, 1.4, 0.2], ['35', 4.9, 3.1, 1.5, 0.1], ['36', 5.0, 3.2, 1.2, 0.2], ['37', 5.5, 3.5, 1.3, 0.2], ['38', 4.9, 3.1, 1.5, 0.1], ['39', 4.4, 3.0, 1.3, 0.2], ['40', 5.1, 3.4, 1.5, 0.2], ['41', 5.0, 3.5, 1.3, 0.3], ['42', 4.5, 2.3, 1.3, 0.3], ['43', 4.4, 3.2, 1.3, 0.2], ['44', 5.0, 3.5, 1.6, 0.6], ['45', 5.1, 3.8, 1.9, 0.4], ['46', 4.8, 3.0, 1.4, 0.3], ['47', 5.1, 3.8, 1.6, 0.2], ['48', 4.6, 3.2, 1.4, 0.2], ['49', 5.3, 3.7, 1.5, 0.2], ['50', 5.0, 3.3, 1.4, 0.2]]\n",
            "[['51', 7.0, 3.2, 4.7, 1.4], ['52', 6.4, 3.2, 4.5, 1.5], ['53', 6.9, 3.1, 4.9, 1.5], ['54', 5.5, 2.3, 4.0, 1.3], ['55', 6.5, 2.8, 4.6, 1.5], ['56', 5.7, 2.8, 4.5, 1.3], ['57', 6.3, 3.3, 4.7, 1.6], ['58', 4.9, 2.4, 3.3, 1.0], ['59', 6.6, 2.9, 4.6, 1.3], ['60', 5.2, 2.7, 3.9, 1.4], ['61', 5.0, 2.0, 3.5, 1.0], ['62', 5.9, 3.0, 4.2, 1.5], ['63', 6.0, 2.2, 4.0, 1.0], ['64', 6.1, 2.9, 4.7, 1.4], ['65', 5.6, 2.9, 3.6, 1.3], ['66', 6.7, 3.1, 4.4, 1.4], ['67', 5.6, 3.0, 4.5, 1.5], ['68', 5.8, 2.7, 4.1, 1.0], ['69', 6.2, 2.2, 4.5, 1.5], ['70', 5.6, 2.5, 3.9, 1.1], ['71', 5.9, 3.2, 4.8, 1.8], ['72', 6.1, 2.8, 4.0, 1.3], ['73', 6.3, 2.5, 4.9, 1.5], ['74', 6.1, 2.8, 4.7, 1.2], ['75', 6.4, 2.9, 4.3, 1.3], ['76', 6.6, 3.0, 4.4, 1.4], ['77', 6.8, 2.8, 4.8, 1.4], ['78', 6.7, 3.0, 5.0, 1.7], ['79', 6.0, 2.9, 4.5, 1.5], ['80', 5.7, 2.6, 3.5, 1.0], ['81', 5.5, 2.4, 3.8, 1.1], ['82', 5.5, 2.4, 3.7, 1.0], ['83', 5.8, 2.7, 3.9, 1.2], ['84', 6.0, 2.7, 5.1, 1.6], ['85', 5.4, 3.0, 4.5, 1.5], ['86', 6.0, 3.4, 4.5, 1.6], ['87', 6.7, 3.1, 4.7, 1.5], ['88', 6.3, 2.3, 4.4, 1.3], ['89', 5.6, 3.0, 4.1, 1.3], ['90', 5.5, 2.5, 4.0, 1.3], ['91', 5.5, 2.6, 4.4, 1.2], ['92', 6.1, 3.0, 4.6, 1.4], ['93', 5.8, 2.6, 4.0, 1.2], ['94', 5.0, 2.3, 3.3, 1.0], ['95', 5.6, 2.7, 4.2, 1.3], ['96', 5.7, 3.0, 4.2, 1.2], ['97', 5.7, 2.9, 4.2, 1.3], ['98', 6.2, 2.9, 4.3, 1.3], ['99', 5.1, 2.5, 3.0, 1.1], ['100', 5.7, 2.8, 4.1, 1.3]]\n",
            "[]\n"
          ],
          "name": "stdout"
        }
      ]
    },
    {
      "cell_type": "markdown",
      "metadata": {
        "id": "3Rfv28ffKwcK"
      },
      "source": [
        "### [Step 2] Iris-setosa의 꽃잎과 꽃받침 길이, 너비에 따른 평균 구하기\n",
        "- 붓꽃 특성\n",
        "  - 꽃받침 길이 : SepalLengthCm -> SL\n",
        "  - 꽃받침 너비 : SepalWidthCm -> SW\n",
        "  - 꽃잎 길이 : PetalLengthCm -> PL\n",
        "  - 꽃잎 너비 : PetalWidthCm -> PW\n",
        "\n",
        "- a 리스트 : Iris-setosa 정보 저장한 리스트 \n",
        "- b 리스트 : Iris-versicolor 정보 저장할 리스트\n",
        "- c 리스트 : Iris-virginica 정보 저장할 리스트\n",
        "  - ['Id', 'SepalLengthCm', 'SepalWidthCm', 'PetalLengthCm', 'PetalWidthCm']"
      ]
    },
    {
      "cell_type": "code",
      "metadata": {
        "id": "xoG1zwekLG-F",
        "colab": {
          "base_uri": "https://localhost:8080/"
        },
        "outputId": "26c0a217-9400-442f-d625-b77b92ef7b61"
      },
      "source": [
        "SL = []   # 꽃받침 길이 : SepalLengthCm 리스트 만들기 \n",
        "SW = []   # 꽃받침 너비 : SepalWidthCm 리스트 만들기\n",
        "PL = []   # 꽃잎 길이 : PetalLengthCm 리스트 만들기 \n",
        "PW = []   # 꽃잎 너비 : PetalWidthCm 리스트 만들기 \n",
        "\n",
        "# Iris-setosa의 전체 데이터 수만큼 반복하기\n",
        "for i in a : \n",
        "  SL.append(i[1])  # 꽃받침 길이 추가하기\n",
        "  SW.append(i[2])  # 꽃받침 너비 추가하기 \n",
        "  PL.append(i[3])  # 꽃잎 길이 추가하기\n",
        "  PW.append(i[4])  # 꽃잎 너비 추가하기 \n",
        "\n",
        "# 제목 출력\n",
        "print(\"< Iris-setosa의 특성별 평균 >\")\n",
        "\n",
        "# (실습) 평균 구해서 반올림해서 3자리까지 출력하기 \n",
        "print(\"꽃받침 길이(SL) 평균 : \", round(sum(SL)/len(SL),3)  )\n",
        "print(\"꽃받침 너비(SW) 평균 : \", round(sum(SW)/len(SW),3)  )\n",
        "print(\"꽃잎 길이(PL) 평균 : \", round(sum(PL)/len(PL), 3))\n",
        "print(\"꽃잎 너비(PW) 평균 : \", round(sum(PW)/len(PW), 3))"
      ],
      "execution_count": 7,
      "outputs": [
        {
          "output_type": "stream",
          "text": [
            "< Iris-setosa의 특성별 평균 >\n",
            "꽃받침 길이(SL) 평균 :  5.006\n",
            "꽃받침 너비(SW) 평균 :  3.418\n",
            "꽃잎 길이(PL) 평균 :  1.464\n",
            "꽃잎 너비(PW) 평균 :  0.244\n"
          ],
          "name": "stdout"
        }
      ]
    },
    {
      "cell_type": "markdown",
      "metadata": {
        "id": "uD-2Pqx_NLnq"
      },
      "source": [
        "###[Step 3] Iris-setosa의 꽃잎과 꽃받침 길이, 너비의 중앙값 구하기 \n",
        "- 중앙값 : 여러개의 값을 오름차순으로 정렬한 후, 중앙에 위치한 값을 찾기\n",
        "\n",
        "- len(리스트명) : 리스트 요소갯수 \n",
        "- 리스트명.sort() : 리스트의 값을 오름차순으로 나열하는 내장함수 \n",
        "- 붓꽃 특성\n",
        "  - 꽃받침 길이 : SepalLengthCm -> SL\n",
        "  - 꽃받침 너비 : SepalWidthCm -> SW\n",
        "  - 꽃잎 길이 : PetalLengthCm -> PL\n",
        "  - 꽃잎 너비 : PetalWidthCm -> PW"
      ]
    },
    {
      "cell_type": "code",
      "metadata": {
        "id": "QHkKIP_6NudC",
        "colab": {
          "base_uri": "https://localhost:8080/"
        },
        "outputId": "b88fe9a4-c84d-4fc1-fb2e-924cd629a4d6"
      },
      "source": [
        "# (실습) Iris-setosa의 꽃받침 길이(SL), 꽃받침 너비(SW) 꽃잎 길이(PL), 꽃잎 너비(PW) 오름차순 구하기 \n",
        "\n",
        "SL.sort()\n",
        "SW.sort()\n",
        "PL.sort()\n",
        "PW.sort()\n",
        "\n",
        "\n",
        "# (실습) Iris-setosa의 전체 개수를 2로 나누어 중앙에 해당되는 위치(인덱스, m) 구하기 \n",
        "m = int(len(a)/2)\n",
        "\n",
        "# 제목 출력하기 \n",
        "print(\"< Iris-setosa의 특성별 중앙값 >\")\n",
        "\n",
        "# 중앙값 구하기 \n",
        "print(\"꽃받침 길이 중앙값 : \", SL[m])\n",
        "print(\"꽃받침 너비 중앙값 : \", SW[m])\n",
        "print(\"꽃잎 길이 중앙값 : \", PL[m])\n",
        "print(\"꽃잎 너비 중앙값 : \", PW[m])"
      ],
      "execution_count": 8,
      "outputs": [
        {
          "output_type": "stream",
          "text": [
            "< Iris-setosa의 특성별 중앙값 >\n",
            "꽃받침 길이 중앙값 :  5.0\n",
            "꽃받침 너비 중앙값 :  3.4\n",
            "꽃잎 길이 중앙값 :  1.5\n",
            "꽃잎 너비 중앙값 :  0.2\n"
          ],
          "name": "stdout"
        }
      ]
    },
    {
      "cell_type": "markdown",
      "metadata": {
        "id": "0yZSJwsQPbOZ"
      },
      "source": [
        "## 04 데이터 시각화하기 "
      ]
    },
    {
      "cell_type": "markdown",
      "metadata": {
        "id": "PT6-eY5nPsRY"
      },
      "source": [
        "###[Step 1] Iris.csv 파일에 있는 전체 데이터 요약하기 \n",
        "- pandas 를 이용하여 데이터프레임(iris)을 만들어서 \n",
        "  1. 처음 2개 행 데이터 출력하기\n",
        "  2. 데이터프레임 요약 출력하기\n",
        "  3. 데이터프레임 통계값 요약 출력하기  : 갯수, 평균, 표준편차, 최솟값, 최댓값 등등 "
      ]
    },
    {
      "cell_type": "code",
      "metadata": {
        "id": "DWKnlk2FPx0z",
        "colab": {
          "base_uri": "https://localhost:8080/"
        },
        "outputId": "92f34e2b-9c21-4e03-e406-16c05092e408"
      },
      "source": [
        "import pandas as pd\n",
        "\n",
        "# (실습)iris 데이터프레임 생성하기(Iris.csv)\n",
        "iris = pd.read_csv('Iris.csv')\n",
        "\n",
        "# (실습) iris의 처음 2개 행의 데이터 출력하기\n",
        "print(  iris.head(2) )\n",
        "\n",
        "# (실습) iris 데이터프레임 요약한 것 출력하기\n",
        "print(  iris.info()   )\n",
        "\n",
        "# (실습) iris 데이터프레임의 통계값 요약 출력하기 \n",
        "# 갯수, 평균, 표준편차, 최솟값, 최댓값 등 출력 \n",
        "print(  iris.describe()   )"
      ],
      "execution_count": 9,
      "outputs": [
        {
          "output_type": "stream",
          "text": [
            "   Id  SepalLengthCm  SepalWidthCm  PetalLengthCm  PetalWidthCm      Species\n",
            "0   1            5.1           3.5            1.4           0.2  Iris-setosa\n",
            "1   2            4.9           3.0            1.4           0.2  Iris-setosa\n",
            "<class 'pandas.core.frame.DataFrame'>\n",
            "RangeIndex: 150 entries, 0 to 149\n",
            "Data columns (total 6 columns):\n",
            " #   Column         Non-Null Count  Dtype  \n",
            "---  ------         --------------  -----  \n",
            " 0   Id             150 non-null    int64  \n",
            " 1   SepalLengthCm  150 non-null    float64\n",
            " 2   SepalWidthCm   150 non-null    float64\n",
            " 3   PetalLengthCm  150 non-null    float64\n",
            " 4   PetalWidthCm   150 non-null    float64\n",
            " 5   Species        150 non-null    object \n",
            "dtypes: float64(4), int64(1), object(1)\n",
            "memory usage: 7.2+ KB\n",
            "None\n",
            "               Id  SepalLengthCm  SepalWidthCm  PetalLengthCm  PetalWidthCm\n",
            "count  150.000000     150.000000    150.000000     150.000000    150.000000\n",
            "mean    75.500000       5.843333      3.054000       3.758667      1.198667\n",
            "std     43.445368       0.828066      0.433594       1.764420      0.763161\n",
            "min      1.000000       4.300000      2.000000       1.000000      0.100000\n",
            "25%     38.250000       5.100000      2.800000       1.600000      0.300000\n",
            "50%     75.500000       5.800000      3.000000       4.350000      1.300000\n",
            "75%    112.750000       6.400000      3.300000       5.100000      1.800000\n",
            "max    150.000000       7.900000      4.400000       6.900000      2.500000\n"
          ],
          "name": "stdout"
        }
      ]
    },
    {
      "cell_type": "markdown",
      "metadata": {
        "id": "fCxAtIbAQmZ2"
      },
      "source": [
        "### [Step 2] 꽃받침 길이와 너비를 분산형 그래프로 나타내기 \n",
        "- x축 : 꽃받침 길이(SepalLengthCm)\n",
        "- y축 : 꽃받침 너비(SepalWidthCm)\n",
        "- 그래프 종류 : 분산형(scatter)\n",
        "- 종류별 색깔(iris.Species)\n",
        "  -  'Iris-setosa' : 오렌지색('orange')\n",
        "  -  'Iris-versicolor' : 파란색('blue')\n",
        "  - 'Iris-virginica' : 녹색('green')\n",
        "\n",
        "#### pandas의 plot() 메소드\n",
        "- 시리즈나 데이터프레임에 plot() 이라는 시각화 메소드를 내장함\n",
        "- plot() : matplotlib을 내부에서 임포트하여 사용함\n",
        "\n",
        "#### matplotlib \n",
        "- fig(figure)\n",
        "  - 그림이 그려지나 캔버스나 종이\n",
        "- axis(축)\n",
        "  - 가로축이나 세로축 등의 축 \n",
        "- ax(axes) \n",
        "  - figure 내에서 축(axis)을 가지는 하나의 좌표평면과 같은 개념, 실제로 데이터가 그려지는 곳"
      ]
    },
    {
      "cell_type": "code",
      "metadata": {
        "id": "MbNC0pWk4JaG",
        "colab": {
          "base_uri": "https://localhost:8080/"
        },
        "outputId": "49854a56-db2d-4ccf-a80e-0ff23d9b36fb"
      },
      "source": [
        "# (실습) iris 데이터프레임에서 아이리스 종류가 [iris.Species == 'Iris-setosa']인 값만 출력\n",
        "print(  iris[iris.Species == 'Iris-setosa']   )"
      ],
      "execution_count": 10,
      "outputs": [
        {
          "output_type": "stream",
          "text": [
            "    Id  SepalLengthCm  SepalWidthCm  PetalLengthCm  PetalWidthCm      Species\n",
            "0    1            5.1           3.5            1.4           0.2  Iris-setosa\n",
            "1    2            4.9           3.0            1.4           0.2  Iris-setosa\n",
            "2    3            4.7           3.2            1.3           0.2  Iris-setosa\n",
            "3    4            4.6           3.1            1.5           0.2  Iris-setosa\n",
            "4    5            5.0           3.6            1.4           0.2  Iris-setosa\n",
            "5    6            5.4           3.9            1.7           0.4  Iris-setosa\n",
            "6    7            4.6           3.4            1.4           0.3  Iris-setosa\n",
            "7    8            5.0           3.4            1.5           0.2  Iris-setosa\n",
            "8    9            4.4           2.9            1.4           0.2  Iris-setosa\n",
            "9   10            4.9           3.1            1.5           0.1  Iris-setosa\n",
            "10  11            5.4           3.7            1.5           0.2  Iris-setosa\n",
            "11  12            4.8           3.4            1.6           0.2  Iris-setosa\n",
            "12  13            4.8           3.0            1.4           0.1  Iris-setosa\n",
            "13  14            4.3           3.0            1.1           0.1  Iris-setosa\n",
            "14  15            5.8           4.0            1.2           0.2  Iris-setosa\n",
            "15  16            5.7           4.4            1.5           0.4  Iris-setosa\n",
            "16  17            5.4           3.9            1.3           0.4  Iris-setosa\n",
            "17  18            5.1           3.5            1.4           0.3  Iris-setosa\n",
            "18  19            5.7           3.8            1.7           0.3  Iris-setosa\n",
            "19  20            5.1           3.8            1.5           0.3  Iris-setosa\n",
            "20  21            5.4           3.4            1.7           0.2  Iris-setosa\n",
            "21  22            5.1           3.7            1.5           0.4  Iris-setosa\n",
            "22  23            4.6           3.6            1.0           0.2  Iris-setosa\n",
            "23  24            5.1           3.3            1.7           0.5  Iris-setosa\n",
            "24  25            4.8           3.4            1.9           0.2  Iris-setosa\n",
            "25  26            5.0           3.0            1.6           0.2  Iris-setosa\n",
            "26  27            5.0           3.4            1.6           0.4  Iris-setosa\n",
            "27  28            5.2           3.5            1.5           0.2  Iris-setosa\n",
            "28  29            5.2           3.4            1.4           0.2  Iris-setosa\n",
            "29  30            4.7           3.2            1.6           0.2  Iris-setosa\n",
            "30  31            4.8           3.1            1.6           0.2  Iris-setosa\n",
            "31  32            5.4           3.4            1.5           0.4  Iris-setosa\n",
            "32  33            5.2           4.1            1.5           0.1  Iris-setosa\n",
            "33  34            5.5           4.2            1.4           0.2  Iris-setosa\n",
            "34  35            4.9           3.1            1.5           0.1  Iris-setosa\n",
            "35  36            5.0           3.2            1.2           0.2  Iris-setosa\n",
            "36  37            5.5           3.5            1.3           0.2  Iris-setosa\n",
            "37  38            4.9           3.1            1.5           0.1  Iris-setosa\n",
            "38  39            4.4           3.0            1.3           0.2  Iris-setosa\n",
            "39  40            5.1           3.4            1.5           0.2  Iris-setosa\n",
            "40  41            5.0           3.5            1.3           0.3  Iris-setosa\n",
            "41  42            4.5           2.3            1.3           0.3  Iris-setosa\n",
            "42  43            4.4           3.2            1.3           0.2  Iris-setosa\n",
            "43  44            5.0           3.5            1.6           0.6  Iris-setosa\n",
            "44  45            5.1           3.8            1.9           0.4  Iris-setosa\n",
            "45  46            4.8           3.0            1.4           0.3  Iris-setosa\n",
            "46  47            5.1           3.8            1.6           0.2  Iris-setosa\n",
            "47  48            4.6           3.2            1.4           0.2  Iris-setosa\n",
            "48  49            5.3           3.7            1.5           0.2  Iris-setosa\n",
            "49  50            5.0           3.3            1.4           0.2  Iris-setosa\n"
          ],
          "name": "stdout"
        }
      ]
    },
    {
      "cell_type": "code",
      "metadata": {
        "id": "DLtAgKxLQqel",
        "colab": {
          "base_uri": "https://localhost:8080/",
          "height": 404
        },
        "outputId": "208e6bd4-a2eb-4005-8fec-2aee1514a633"
      },
      "source": [
        "import matplotlib.pyplot as plt\n",
        "\n",
        "# 꽃받침 길이(SepalLength)와 너비(SepalWidth)에 따른 분산형(scatter) 그래프\n",
        "# Iris의 종류(Species)에 따라 색깔별로 분산형 그래프 그리기 (ax = fig 같은 좌표평면에 fig 넣기)\n",
        "# Iris-setosa('orange'), Iris-versicolor('blue'), Iris-virginica('green')\n",
        "fig = iris[ iris.Species == 'Iris-setosa'].plot(kind ='scatter', x = 'SepalLengthCm', y = 'SepalWidthCm', color ='orange', label='setosa')\n",
        "iris[ iris.Species == 'Iris-versicolor'].plot(kind='scatter',x = 'SepalLengthCm', y = 'SepalWidthCm', color='blue', label = 'versicolor', ax=fig)\n",
        "iris[ iris.Species == 'Iris-virginica'].plot(kind='scatter',x = 'SepalLengthCm', y = 'SepalWidthCm', color='green', label = 'virginica', ax=fig)\n",
        "\n",
        "fig.set_xlabel('Sepal Length')\n",
        "fig.set_ylabel('Sepal Width')\n",
        "fig.set_title('Sepal Length vs Width')\n",
        "\n",
        "# plt.gcf() : Get the current figure (figure의 설정정보 확인 가능 )\n",
        "fig = plt.gcf()\n",
        "\n",
        "# fig.set_size_inches(10, 6) : 그래프의 크기를 인치로 지정함 \n",
        "fig.set_size_inches(10, 6)\n",
        "plt.show()"
      ],
      "execution_count": 15,
      "outputs": [
        {
          "output_type": "display_data",
          "data": {
            "image/png": "[encoded data removed]",
            "text/plain": [
              "<Figure size 720x432 with 1 Axes>"
            ]
          },
          "metadata": {
            "tags": [],
            "needs_background": "light"
          }
        }
      ]
    },
    {
      "cell_type": "markdown",
      "metadata": {
        "id": "j2csyDiq-Swo"
      },
      "source": [
        "###[Step 3] 꽃잎의 길이와 너비를 분산형 그래프로 나타내기"
      ]
    },
    {
      "cell_type": "code",
      "metadata": {
        "id": "tmyFMCp5_m06",
        "colab": {
          "base_uri": "https://localhost:8080/",
          "height": 404
        },
        "outputId": "f1dce8b2-a01e-4d75-e4ab-41412fecdc0f"
      },
      "source": [
        "# 꽃잎(Petal)의 길이(PetalLengthCm)와 너비(PetalWidthCm)에 따른 분산형(scatter) 그래프\n",
        "fig = iris[ iris.Species == 'Iris-setosa'].plot(kind = 'scatter', x = 'PetalLengthCm', y = 'PetalWidthCm', color = 'orange', label = 'setosa')\n",
        "iris[iris.Species == 'Iris-versicolor'].plot(kind = 'scatter', x = 'PetalLengthCm', y = 'PetalWidthCm', color = 'blue', label = 'versicolor', ax = fig)\n",
        "iris[iris.Species == 'Iris-virginica'].plot(kind = 'scatter', x = 'PetalLengthCm', y = 'PetalWidthCm', color = 'green', label = 'virginica', ax = fig)\n",
        "\n",
        "# 제목, x, y 축 제목\n",
        "fig.set_title('Petal Length vs Width')\n",
        "fig.set_xlabel('Petal Length')\n",
        "fig.set_ylabel('Petal Width')\n",
        "\n",
        "# plt.gcf() : Get the current figure (figure의 설정정보 확인 가능)\n",
        "fig = plt.gcf()\n",
        "fig.set_size_inches(10, 6)\n",
        "plt.show()"
      ],
      "execution_count": 16,
      "outputs": [
        {
          "output_type": "display_data",
          "data": {
            "image/png": "[encoded data removed]",
            "text/plain": [
              "<Figure size 720x432 with 1 Axes>"
            ]
          },
          "metadata": {
            "tags": [],
            "needs_background": "light"
          }
        }
      ]
    },
    {
      "cell_type": "code",
      "metadata": {
        "id": "UqE4l8VfhrXB"
      },
      "source": [
        ""
      ],
      "execution_count": null,
      "outputs": []
    }
  ]
}