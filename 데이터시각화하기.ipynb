{
  "nbformat": 4,
  "nbformat_minor": 0,
  "metadata": {
    "colab": {
      "name": "(실습)[3-1-1]내가 만약 축구팀 감독이라면.ipynb",
      "provenance": [],
      "collapsed_sections": [],
      "include_colab_link": true
    },
    "kernelspec": {
      "name": "python3",
      "display_name": "Python 3"
    }
  },
  "cells": [
    {
      "cell_type": "markdown",
      "metadata": {
        "id": "view-in-github",
        "colab_type": "text"
      },
      "source": [
        "<a href=\"https://colab.research.google.com/github/Hyuna13/AI/blob/main/%EB%8D%B0%EC%9D%B4%ED%84%B0%EC%8B%9C%EA%B0%81%ED%99%94%ED%95%98%EA%B8%B0.ipynb\" target=\"_parent\"><img src=\"https://colab.research.google.com/assets/colab-badge.svg\" alt=\"Open In Colab\"/></a>"
      ]
    },
    {
      "cell_type": "markdown",
      "metadata": {
        "id": "WjEtz6fzvz6v"
      },
      "source": [
        "# 내가 만약 축구팀 감독이라면 "
      ]
    },
    {
      "cell_type": "markdown",
      "metadata": {
        "id": "khY_qz_Uv8k9"
      },
      "source": [
        "## 01. 데이터 수집하기 \n",
        "- kaggle에서 fifa2019 데이터 파일 찾기 : fifa2019.csv 로 변경\n",
        "> https://www.kaggle.com/karangadiya/fifa19\n",
        "\n",
        "## 02. 데이터 불러오기 \n",
        "- fifa2019.csv 파일 업로드하기"
      ]
    },
    {
      "cell_type": "code",
      "metadata": {
        "id": "qN7sWCIJPvnb",
        "colab": {
          "resources": {
            "http://localhost:8080/nbextensions/google.colab/files.js": {
              "data": "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",
              "ok": true,
              "headers": [
                [
                  "content-type",
                  "application/javascript"
                ]
              ],
              "status": 200,
              "status_text": ""
            }
          },
          "base_uri": "https://localhost:8080/",
          "height": 73
        },
        "outputId": "ab451ba2-ec8f-4676-f887-40a0e69a61f6"
      },
      "source": [
        "from google.colab import files\n",
        "\n",
        "uploaded = files.upload()"
      ],
      "execution_count": 1,
      "outputs": [
        {
          "output_type": "display_data",
          "data": {
            "text/html": [
              "\n",
              "     <input type=\"file\" id=\"files-eba4a888-e1d5-45ba-9f5a-39470be554f4\" name=\"files[]\" multiple disabled\n",
              "        style=\"border:none\" />\n",
              "     <output id=\"result-eba4a888-e1d5-45ba-9f5a-39470be554f4\">\n",
              "      Upload widget is only available when the cell has been executed in the\n",
              "      current browser session. Please rerun this cell to enable.\n",
              "      </output>\n",
              "      <script src=\"/nbextensions/google.colab/files.js\"></script> "
            ],
            "text/plain": [
              "<IPython.core.display.HTML object>"
            ]
          },
          "metadata": {
            "tags": []
          }
        },
        {
          "output_type": "stream",
          "text": [
            "Saving FIFA 2019.csv to FIFA 2019.csv\n"
          ],
          "name": "stdout"
        }
      ]
    },
    {
      "cell_type": "markdown",
      "metadata": {
        "id": "tbpH3Co9wm7n"
      },
      "source": [
        "### [Step 1] 파일에 저장된 데이터를 불러와 출력하기"
      ]
    },
    {
      "cell_type": "code",
      "metadata": {
        "id": "pkNkuhL7v8Lz",
        "colab": {
          "base_uri": "https://localhost:8080/"
        },
        "outputId": "7ccedacf-e84e-4a12-d333-3c5630a54f6a"
      },
      "source": [
        "# (실습) pandas 라이브러리 불러오기 \n",
        "import pandas as pd\n",
        "\n",
        "# (실습)fifa2019.csv 파일의 데이터 불러오기 \n",
        "fifa2019 = pd.read_csv('FIFA 2019.csv')\n",
        "\n",
        "## (실습) fifa2019 데이터프레임의 행, 열 갯수 출력하기\n",
        "print( fifa2019.shape )"
      ],
      "execution_count": 8,
      "outputs": [
        {
          "output_type": "stream",
          "text": [
            "(18207, 89)\n"
          ],
          "name": "stdout"
        }
      ]
    },
    {
      "cell_type": "markdown",
      "metadata": {
        "id": "nGDtQVRRxpja"
      },
      "source": [
        "### [Step 2] fifa2019에 저장된 개별값들을 열별로 확인하기"
      ]
    },
    {
      "cell_type": "code",
      "metadata": {
        "id": "2VZro_nNvzKe",
        "colab": {
          "base_uri": "https://localhost:8080/"
        },
        "outputId": "3f8ca3bf-35ef-4eda-f318-07771d46335b"
      },
      "source": [
        "## (실습) 데이터의 요약 정보 출력하기 \n",
        "print( fifa2019.info()   )"
      ],
      "execution_count": 9,
      "outputs": [
        {
          "output_type": "stream",
          "text": [
            "<class 'pandas.core.frame.DataFrame'>\n",
            "RangeIndex: 18207 entries, 0 to 18206\n",
            "Data columns (total 89 columns):\n",
            " #   Column                    Non-Null Count  Dtype  \n",
            "---  ------                    --------------  -----  \n",
            " 0   Unnamed: 0                18207 non-null  int64  \n",
            " 1   ID                        18207 non-null  int64  \n",
            " 2   Name                      18207 non-null  object \n",
            " 3   Age                       18207 non-null  int64  \n",
            " 4   Photo                     18207 non-null  object \n",
            " 5   Nationality               18207 non-null  object \n",
            " 6   Flag                      18207 non-null  object \n",
            " 7   Overall                   18207 non-null  int64  \n",
            " 8   Potential                 18207 non-null  int64  \n",
            " 9   Club                      17966 non-null  object \n",
            " 10  Club Logo                 18207 non-null  object \n",
            " 11  Value                     18207 non-null  object \n",
            " 12  Wage                      18207 non-null  object \n",
            " 13  Special                   18207 non-null  int64  \n",
            " 14  Preferred Foot            18159 non-null  object \n",
            " 15  International Reputation  18159 non-null  float64\n",
            " 16  Weak Foot                 18159 non-null  float64\n",
            " 17  Skill Moves               18159 non-null  float64\n",
            " 18  Work Rate                 18159 non-null  object \n",
            " 19  Body Type                 18159 non-null  object \n",
            " 20  Real Face                 18159 non-null  object \n",
            " 21  Position                  18147 non-null  object \n",
            " 22  Jersey Number             18147 non-null  float64\n",
            " 23  Joined                    16654 non-null  object \n",
            " 24  Loaned From               1264 non-null   object \n",
            " 25  Contract Valid Until      17918 non-null  object \n",
            " 26  Height                    18159 non-null  object \n",
            " 27  Weight                    18159 non-null  object \n",
            " 28  LS                        16122 non-null  object \n",
            " 29  ST                        16122 non-null  object \n",
            " 30  RS                        16122 non-null  object \n",
            " 31  LW                        16122 non-null  object \n",
            " 32  LF                        16122 non-null  object \n",
            " 33  CF                        16122 non-null  object \n",
            " 34  RF                        16122 non-null  object \n",
            " 35  RW                        16122 non-null  object \n",
            " 36  LAM                       16122 non-null  object \n",
            " 37  CAM                       16122 non-null  object \n",
            " 38  RAM                       16122 non-null  object \n",
            " 39  LM                        16122 non-null  object \n",
            " 40  LCM                       16122 non-null  object \n",
            " 41  CM                        16122 non-null  object \n",
            " 42  RCM                       16122 non-null  object \n",
            " 43  RM                        16122 non-null  object \n",
            " 44  LWB                       16122 non-null  object \n",
            " 45  LDM                       16122 non-null  object \n",
            " 46  CDM                       16122 non-null  object \n",
            " 47  RDM                       16122 non-null  object \n",
            " 48  RWB                       16122 non-null  object \n",
            " 49  LB                        16122 non-null  object \n",
            " 50  LCB                       16122 non-null  object \n",
            " 51  CB                        16122 non-null  object \n",
            " 52  RCB                       16122 non-null  object \n",
            " 53  RB                        16122 non-null  object \n",
            " 54  Crossing                  18159 non-null  float64\n",
            " 55  Finishing                 18159 non-null  float64\n",
            " 56  HeadingAccuracy           18159 non-null  float64\n",
            " 57  ShortPassing              18159 non-null  float64\n",
            " 58  Volleys                   18159 non-null  float64\n",
            " 59  Dribbling                 18159 non-null  float64\n",
            " 60  Curve                     18159 non-null  float64\n",
            " 61  FKAccuracy                18159 non-null  float64\n",
            " 62  LongPassing               18159 non-null  float64\n",
            " 63  BallControl               18159 non-null  float64\n",
            " 64  Acceleration              18159 non-null  float64\n",
            " 65  SprintSpeed               18159 non-null  float64\n",
            " 66  Agility                   18159 non-null  float64\n",
            " 67  Reactions                 18159 non-null  float64\n",
            " 68  Balance                   18159 non-null  float64\n",
            " 69  ShotPower                 18159 non-null  float64\n",
            " 70  Jumping                   18159 non-null  float64\n",
            " 71  Stamina                   18159 non-null  float64\n",
            " 72  Strength                  18159 non-null  float64\n",
            " 73  LongShots                 18159 non-null  float64\n",
            " 74  Aggression                18159 non-null  float64\n",
            " 75  Interceptions             18159 non-null  float64\n",
            " 76  Positioning               18159 non-null  float64\n",
            " 77  Vision                    18159 non-null  float64\n",
            " 78  Penalties                 18159 non-null  float64\n",
            " 79  Composure                 18159 non-null  float64\n",
            " 80  Marking                   18159 non-null  float64\n",
            " 81  StandingTackle            18159 non-null  float64\n",
            " 82  SlidingTackle             18159 non-null  float64\n",
            " 83  GKDiving                  18159 non-null  float64\n",
            " 84  GKHandling                18159 non-null  float64\n",
            " 85  GKKicking                 18159 non-null  float64\n",
            " 86  GKPositioning             18159 non-null  float64\n",
            " 87  GKReflexes                18159 non-null  float64\n",
            " 88  Release Clause            16643 non-null  object \n",
            "dtypes: float64(38), int64(6), object(45)\n",
            "memory usage: 12.4+ MB\n",
            "None\n"
          ],
          "name": "stdout"
        }
      ]
    },
    {
      "cell_type": "markdown",
      "metadata": {
        "id": "nNQWAMFVyNqI"
      },
      "source": [
        "## 03. 데이터 다루기 "
      ]
    },
    {
      "cell_type": "markdown",
      "metadata": {
        "id": "WiQvVRUcyTSk"
      },
      "source": [
        "### [Step 1] 궁금한 선수의 데이터 검색하기 \n"
      ]
    },
    {
      "cell_type": "code",
      "metadata": {
        "id": "UnfimVXTyWeK",
        "colab": {
          "base_uri": "https://localhost:8080/"
        },
        "outputId": "5e8d7edd-f01a-443b-852d-c2b0fc7d442b"
      },
      "source": [
        "#(실습) fifa2019 인덱스 레이블 14인 행값을 sub1에 저장하기\n",
        "sub1 = fifa2019.loc[14]\n",
        "print(sub1)"
      ],
      "execution_count": 10,
      "outputs": [
        {
          "output_type": "stream",
          "text": [
            "Unnamed: 0                                                    14\n",
            "ID                                                        215914\n",
            "Name                                                    N. Kanté\n",
            "Age                                                           27\n",
            "Photo             https://cdn.sofifa.org/players/4/19/215914.png\n",
            "                                       ...                      \n",
            "GKHandling                                                    12\n",
            "GKKicking                                                     10\n",
            "GKPositioning                                                  7\n",
            "GKReflexes                                                    10\n",
            "Release Clause                                           €121.3M\n",
            "Name: 14, Length: 89, dtype: object\n"
          ],
          "name": "stdout"
        }
      ]
    },
    {
      "cell_type": "markdown",
      "metadata": {
        "id": "UyivAnIzyk9p"
      },
      "source": [
        "### [Step 2] 원하는 범위의 데이터 검색하기\n"
      ]
    },
    {
      "cell_type": "code",
      "metadata": {
        "id": "ZE2x2VSXynKz",
        "colab": {
          "base_uri": "https://localhost:8080/"
        },
        "outputId": "12fd58bc-57aa-4cd5-be1a-e7345780d9ac"
      },
      "source": [
        "# (실습) 인덱스 레이블 2~16까지 모든 데이터를 sub2에 저장하기 \n",
        "sub2 = fifa2019.loc[2:16]\n",
        "print(sub2)"
      ],
      "execution_count": 11,
      "outputs": [
        {
          "output_type": "stream",
          "text": [
            "    Unnamed: 0      ID  ... GKReflexes  Release Clause\n",
            "2            2  190871  ...       11.0         €228.1M\n",
            "3            3  193080  ...       94.0         €138.6M\n",
            "4            4  192985  ...       13.0         €196.4M\n",
            "5            5  183277  ...        8.0         €172.1M\n",
            "6            6  177003  ...        9.0         €137.4M\n",
            "7            7  176580  ...       37.0           €164M\n",
            "8            8  155862  ...       11.0         €104.6M\n",
            "9            9  200389  ...       89.0         €144.5M\n",
            "10          10  188545  ...       10.0         €127.1M\n",
            "11          11  182521  ...       10.0         €156.8M\n",
            "12          12  182493  ...       15.0          €90.2M\n",
            "13          13  168542  ...       12.0           €111M\n",
            "14          14  215914  ...       10.0         €121.3M\n",
            "15          15  211110  ...        8.0         €153.5M\n",
            "16          16  202126  ...       11.0         €160.7M\n",
            "\n",
            "[15 rows x 89 columns]\n"
          ],
          "name": "stdout"
        }
      ]
    },
    {
      "cell_type": "markdown",
      "metadata": {
        "id": "8ucAMeBmyyL_"
      },
      "source": [
        "### [Step 3] 전체 선수들의 이름과 선호하는 발 정보 출력하기\n"
      ]
    },
    {
      "cell_type": "code",
      "metadata": {
        "id": "Xtt7ctoGy0IL",
        "colab": {
          "base_uri": "https://localhost:8080/"
        },
        "outputId": "f0857b3c-61b5-4048-b55c-655e12e7636c"
      },
      "source": [
        "# (실습)'Name', 'Preferred Foot' 열의 모든 선수 정보를 다 출력하기 \n",
        "sub3 = fifa2019.loc[:, ['Name','Preferred Foot']] #콜론이 전체를 의미\n",
        "print(sub3)"
      ],
      "execution_count": 13,
      "outputs": [
        {
          "output_type": "stream",
          "text": [
            "                     Name Preferred Foot\n",
            "0                L. Messi           Left\n",
            "1       Cristiano Ronaldo          Right\n",
            "2               Neymar Jr          Right\n",
            "3                  De Gea          Right\n",
            "4            K. De Bruyne          Right\n",
            "...                   ...            ...\n",
            "18202        J. Lundstram          Right\n",
            "18203  N. Christoffersson          Right\n",
            "18204           B. Worman          Right\n",
            "18205      D. Walker-Rice          Right\n",
            "18206           G. Nugent          Right\n",
            "\n",
            "[18207 rows x 2 columns]\n"
          ],
          "name": "stdout"
        }
      ]
    },
    {
      "cell_type": "markdown",
      "metadata": {
        "id": "HZ0ESPMazLBG"
      },
      "source": [
        "### [Step 4] 여러 행의 데이터 중 원하는 열 값만 골라 출력하기\n"
      ]
    },
    {
      "cell_type": "code",
      "metadata": {
        "id": "J07kSYSpzQfM",
        "colab": {
          "base_uri": "https://localhost:8080/"
        },
        "outputId": "ca173735-40a3-4da9-868f-28917dd87ea8"
      },
      "source": [
        "# (실습)0~9행, 1,2열 값을 sub4에 저장하기 \n",
        "sub4 = fifa2019.iloc[0:10, 1:3]\n",
        "print(sub4)"
      ],
      "execution_count": 14,
      "outputs": [
        {
          "output_type": "stream",
          "text": [
            "       ID               Name\n",
            "0  158023           L. Messi\n",
            "1   20801  Cristiano Ronaldo\n",
            "2  190871          Neymar Jr\n",
            "3  193080             De Gea\n",
            "4  192985       K. De Bruyne\n",
            "5  183277          E. Hazard\n",
            "6  177003          L. Modrić\n",
            "7  176580          L. Suárez\n",
            "8  155862       Sergio Ramos\n",
            "9  200389           J. Oblak\n"
          ],
          "name": "stdout"
        }
      ]
    },
    {
      "cell_type": "markdown",
      "metadata": {
        "id": "1z7oCTGizc7-"
      },
      "source": [
        "### [Step 5] 우리나라 선수들 출력하기\n"
      ]
    },
    {
      "cell_type": "code",
      "metadata": {
        "id": "fIIj3qgNzg-u",
        "colab": {
          "base_uri": "https://localhost:8080/"
        },
        "outputId": "d6e39ae7-14a3-4c67-f658-6e93bcda887a"
      },
      "source": [
        "# 국적이 한국(Korea Republic)이면 True, 그렇지 않으면 False를 korea_player(시리즈)에 저장함.\n",
        "korea_player = fifa2019['Nationality'] == 'Korea Republic'\n",
        "print(korea_player)\n",
        "print(type(korea_player))\n",
        "\n",
        "# (실습)korea_player가 True 인 한국 국적의 선수 데이터수 출력 \n",
        "sub5 = fifa2019.loc[korea_player]\n",
        "print(sub5)"
      ],
      "execution_count": 15,
      "outputs": [
        {
          "output_type": "stream",
          "text": [
            "0        False\n",
            "1        False\n",
            "2        False\n",
            "3        False\n",
            "4        False\n",
            "         ...  \n",
            "18202    False\n",
            "18203    False\n",
            "18204    False\n",
            "18205    False\n",
            "18206    False\n",
            "Name: Nationality, Length: 18207, dtype: bool\n",
            "<class 'pandas.core.series.Series'>\n",
            "       Unnamed: 0      ID  ... GKReflexes  Release Clause\n",
            "125           125  200104  ...       10.0          €71.2M\n",
            "1295         1295  180283  ...       10.0          €14.3M\n",
            "1407         1407  182152  ...        9.0          €12.8M\n",
            "2002         2002  211927  ...        8.0          €17.6M\n",
            "2021         2021  221671  ...        8.0          €13.8M\n",
            "...           ...     ...  ...        ...             ...\n",
            "17955       17955  240272  ...       12.0            €73K\n",
            "17959       17959  245401  ...       12.0            €73K\n",
            "17965       17965  243359  ...       11.0           €131K\n",
            "18058       18058  244108  ...       10.0           €104K\n",
            "18084       18084  244411  ...        5.0            €73K\n",
            "\n",
            "[335 rows x 89 columns]\n"
          ],
          "name": "stdout"
        }
      ]
    },
    {
      "cell_type": "markdown",
      "metadata": {
        "id": "2_NAJRWl5f_O"
      },
      "source": [
        "### [Step 6] 우리나라 선수들의 이름 출력하기\n"
      ]
    },
    {
      "cell_type": "code",
      "metadata": {
        "id": "YdPCmsSc5h8M",
        "colab": {
          "base_uri": "https://localhost:8080/"
        },
        "outputId": "6b67371b-971d-4a7a-c980-5aa8ebe9e2a1"
      },
      "source": [
        "# 국적이 한국인 선수들의 이름값을 sub6에 저장하기 \n",
        "sub6 = sub5[\"Name\"]\n",
        "print(sub6)"
      ],
      "execution_count": 16,
      "outputs": [
        {
          "output_type": "stream",
          "text": [
            "125               H. Son\n",
            "1295       Ki Sung Yueng\n",
            "1407        Koo Ja Cheol\n",
            "2002     Kwon Chang Hoon\n",
            "2021        Lee Jae Sung\n",
            "              ...       \n",
            "17955     Min Gyeong Min\n",
            "17959       Lee Dong Hee\n",
            "17965       Kim Jong Jin\n",
            "18058    Hong Hyeon Seok\n",
            "18084        Kwon Ki Pyo\n",
            "Name: Name, Length: 335, dtype: object\n"
          ],
          "name": "stdout"
        }
      ]
    },
    {
      "cell_type": "markdown",
      "metadata": {
        "id": "Z_rs7M505ybE"
      },
      "source": [
        "## 04. 데이터 시각화하기 "
      ]
    },
    {
      "cell_type": "markdown",
      "metadata": {
        "id": "XCRWEmKI6Ag9"
      },
      "source": [
        "### [Step 1] 선수들이 선호하는 발의 종류 데이터를 막대그래프로 나타내기\n"
      ]
    },
    {
      "cell_type": "code",
      "metadata": {
        "id": "01tjsaCw6DOO",
        "colab": {
          "base_uri": "https://localhost:8080/",
          "height": 333
        },
        "outputId": "505ee1dc-b7ba-4c79-d35e-cec69fc80ae7"
      },
      "source": [
        "# matplotlib.pyplot 불러오기\n",
        "import matplotlib.pyplot as plt\n",
        "\n",
        "#(실습) 선호하는 발의 종류 세기\n",
        "res = fifa2019['Preferred Foot'].value_counts()\n",
        "print(res)\n",
        "\n",
        "#막대그래프 그리기\n",
        "res.plot(kind='bar')\n",
        "\n",
        "# 범례 표시하기\n",
        "plt.legend()\n",
        "\n",
        "# 그래프 출력하기 \n",
        "plt.show()"
      ],
      "execution_count": 19,
      "outputs": [
        {
          "output_type": "stream",
          "text": [
            "Right    13948\n",
            "Left      4211\n",
            "Name: Preferred Foot, dtype: int64\n"
          ],
          "name": "stdout"
        },
        {
          "output_type": "display_data",
          "data": {
            "image/png": "[encoded data removed]",
            "text/plain": [
              "<Figure size 432x288 with 1 Axes>"
            ]
          },
          "metadata": {
            "tags": [],
            "needs_background": "light"
          }
        }
      ]
    },
    {
      "cell_type": "markdown",
      "metadata": {
        "id": "5r_Yh25E7eXN"
      },
      "source": [
        "### [Step 2] 선수들이 선호하는 발의 종류를 원 그래프로 나타내기\n"
      ]
    },
    {
      "cell_type": "code",
      "metadata": {
        "id": "M6srRbpR7hDe",
        "colab": {
          "base_uri": "https://localhost:8080/",
          "height": 299
        },
        "outputId": "71a25455-a3df-49ee-87d5-9575949bf53e"
      },
      "source": [
        "\n",
        "## 선호하는 발의 종류 세기\n",
        "res = fifa2019['Preferred Foot'].value_counts()\n",
        "print(res)\n",
        "\n",
        "# (실습) 판다스의 원 그래프(pie) 그리기\n",
        "res.plot(kind = 'pie', autopct = \"% 1.f%   %\")\n",
        "\n",
        "# 범례 표시하기\n",
        "plt.legend()\n",
        "\n",
        "# 그래프 출력하기 \n",
        "plt.show()"
      ],
      "execution_count": 23,
      "outputs": [
        {
          "output_type": "stream",
          "text": [
            "Right    13948\n",
            "Left      4211\n",
            "Name: Preferred Foot, dtype: int64\n"
          ],
          "name": "stdout"
        },
        {
          "output_type": "display_data",
          "data": {
            "image/png": "[encoded data removed]",
            "text/plain": [
              "<Figure size 432x288 with 1 Axes>"
            ]
          },
          "metadata": {
            "tags": []
          }
        }
      ]
    },
    {
      "cell_type": "code",
      "metadata": {
        "id": "DhyeLkTjBocZ"
      },
      "source": [
        ""
      ],
      "execution_count": null,
      "outputs": []
    }
  ]
}